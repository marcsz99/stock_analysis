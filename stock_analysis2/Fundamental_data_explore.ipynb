{
 "cells": [
  {
   "cell_type": "code",
   "execution_count": 1,
   "id": "11bb61d0",
   "metadata": {
    "tags": []
   },
   "outputs": [],
   "source": [
    "import os \n",
    "os.chdir('/Users/marcs')"
   ]
  },
  {
   "cell_type": "code",
   "execution_count": 30,
   "id": "6b83c28a",
   "metadata": {
    "tags": []
   },
   "outputs": [],
   "source": [
    "import matplotlib.pyplot as plt\n",
    "from pickle_loader import pickle_loader\n",
    "import datetime as dt\n",
    "import pandas as pd\n",
    "import pickle\n"
   ]
  },
  {
   "cell_type": "code",
   "execution_count": 3,
   "id": "6bf61a0a",
   "metadata": {
    "tags": []
   },
   "outputs": [],
   "source": [
    "balence_sheet = pickle_loader('/Users/marcs/OneDrive/Documents/stock_analysis2/quarterly_balance_sheet_us.pickle')\n",
    "income_statement = pickle_loader('/Users/marcs/OneDrive/Documents/stock_analysis2/quarterly_income_stmt_us.pickle')\n",
    "cash_flow = pickle_loader('/Users/marcs/OneDrive/Documents/stock_analysis2/quarterly_cashflow_us.pickle')"
   ]
  },
  {
   "cell_type": "markdown",
   "id": "42ed3267",
   "metadata": {},
   "source": [
    "## Find empty tickers"
   ]
  },
  {
   "cell_type": "code",
   "execution_count": 4,
   "id": "0bde1dfd",
   "metadata": {
    "tags": []
   },
   "outputs": [],
   "source": [
    "tickers = list(balence_sheet.keys())"
   ]
  },
  {
   "cell_type": "code",
   "execution_count": 5,
   "id": "2dd8462f",
   "metadata": {
    "tags": []
   },
   "outputs": [],
   "source": [
    "empty_tickers_bs = [ticker for ticker in tickers if len(balence_sheet[ticker]) == 0]\n",
    "empty_tickers_is = [ticker for ticker in tickers if len(income_statement[ticker]) == 0]\n",
    "empty_tickers_cf = [ticker for ticker in tickers if len(cash_flow[ticker]) == 0]"
   ]
  },
  {
   "cell_type": "code",
   "execution_count": 6,
   "id": "9bafb26f",
   "metadata": {
    "tags": []
   },
   "outputs": [
    {
     "name": "stdout",
     "output_type": "stream",
     "text": [
      "['BRK.B', 'BF.B', 'RE', 'FISV', 'PKI'] ['BRK.B', 'BF.B', 'RE', 'FISV', 'PKI'] ['BRK.B', 'BF.B', 'RE', 'FISV', 'PKI']\n"
     ]
    }
   ],
   "source": [
    "print(empty_tickers_bs, empty_tickers_is, empty_tickers_cf)"
   ]
  },
  {
   "cell_type": "code",
   "execution_count": 7,
   "id": "384b32d2",
   "metadata": {
    "tags": []
   },
   "outputs": [],
   "source": [
    "empty_tickers = set(empty_tickers_bs + empty_tickers_is + empty_tickers_cf)"
   ]
  },
  {
   "cell_type": "code",
   "execution_count": 8,
   "id": "04a24cef",
   "metadata": {
    "tags": []
   },
   "outputs": [
    {
     "data": {
      "text/plain": [
       "{'BF.B', 'BRK.B', 'FISV', 'PKI', 'RE'}"
      ]
     },
     "execution_count": 8,
     "metadata": {},
     "output_type": "execute_result"
    }
   ],
   "source": [
    "empty_tickers"
   ]
  },
  {
   "cell_type": "code",
   "execution_count": 9,
   "id": "121d55ac",
   "metadata": {
    "tags": []
   },
   "outputs": [],
   "source": [
    "for empty in empty_tickers:\n",
    "    balence_sheet.pop(empty, None)\n",
    "    income_statement.pop(empty, None)\n",
    "    cash_flow.pop(empty, None)"
   ]
  },
  {
   "cell_type": "code",
   "execution_count": 10,
   "id": "946414e0",
   "metadata": {
    "tags": []
   },
   "outputs": [
    {
     "data": {
      "text/plain": [
       "{'Accounts Payable',\n",
       " 'Accounts Receivable',\n",
       " 'Accumulated Depreciation',\n",
       " 'Additional Paid In Capital',\n",
       " 'Allowance For Doubtful Accounts Receivable',\n",
       " 'Buildings And Improvements',\n",
       " 'Capital Lease Obligations',\n",
       " 'Capital Stock',\n",
       " 'Cash And Cash Equivalents',\n",
       " 'Cash Cash Equivalents And Short Term Investments',\n",
       " 'Common Stock',\n",
       " 'Common Stock Equity',\n",
       " 'Construction In Progress',\n",
       " 'Current Accrued Expenses',\n",
       " 'Current Assets',\n",
       " 'Current Capital Lease Obligation',\n",
       " 'Current Debt',\n",
       " 'Current Debt And Capital Lease Obligation',\n",
       " 'Current Deferred Liabilities',\n",
       " 'Current Deferred Revenue',\n",
       " 'Current Liabilities',\n",
       " 'Defined Pension Benefit',\n",
       " 'Employee Benefits',\n",
       " 'Finished Goods',\n",
       " 'Gains Losses Not Affecting Retained Earnings',\n",
       " 'Goodwill',\n",
       " 'Goodwill And Other Intangible Assets',\n",
       " 'Gross Accounts Receivable',\n",
       " 'Gross PPE',\n",
       " 'Hedging Assets Current',\n",
       " 'Income Tax Payable',\n",
       " 'Inventory',\n",
       " 'Invested Capital',\n",
       " 'Investmentin Financial Assets',\n",
       " 'Investments And Advances',\n",
       " 'Land And Improvements',\n",
       " 'Long Term Capital Lease Obligation',\n",
       " 'Long Term Debt',\n",
       " 'Long Term Debt And Capital Lease Obligation',\n",
       " 'Long Term Equity Investment',\n",
       " 'Machinery Furniture Equipment',\n",
       " 'Minority Interest',\n",
       " 'Net Debt',\n",
       " 'Net PPE',\n",
       " 'Net Tangible Assets',\n",
       " 'Non Current Accounts Receivable',\n",
       " 'Non Current Deferred Assets',\n",
       " 'Non Current Deferred Liabilities',\n",
       " 'Non Current Deferred Taxes Assets',\n",
       " 'Non Current Deferred Taxes Liabilities',\n",
       " 'Non Current Pension And Other Postretirement Benefit Plans',\n",
       " 'Ordinary Shares Number',\n",
       " 'Other Current Assets',\n",
       " 'Other Current Borrowings',\n",
       " 'Other Current Liabilities',\n",
       " 'Other Equity Adjustments',\n",
       " 'Other Intangible Assets',\n",
       " 'Other Non Current Assets',\n",
       " 'Other Non Current Liabilities',\n",
       " 'Other Properties',\n",
       " 'Other Receivables',\n",
       " 'Other Short Term Investments',\n",
       " 'Payables',\n",
       " 'Payables And Accrued Expenses',\n",
       " 'Pensionand Other Post Retirement Benefit Plans Current',\n",
       " 'Prepaid Assets',\n",
       " 'Properties',\n",
       " 'Raw Materials',\n",
       " 'Receivables',\n",
       " 'Retained Earnings',\n",
       " 'Share Issued',\n",
       " 'Stockholders Equity',\n",
       " 'Tangible Book Value',\n",
       " 'Total Assets',\n",
       " 'Total Capitalization',\n",
       " 'Total Debt',\n",
       " 'Total Equity Gross Minority Interest',\n",
       " 'Total Liabilities Net Minority Interest',\n",
       " 'Total Non Current Assets',\n",
       " 'Total Non Current Liabilities Net Minority Interest',\n",
       " 'Total Tax Payable',\n",
       " 'Tradeand Other Payables Non Current',\n",
       " 'Treasury Shares Number',\n",
       " 'Treasury Stock',\n",
       " 'Work In Process',\n",
       " 'Working Capital'}"
      ]
     },
     "execution_count": 10,
     "metadata": {},
     "output_type": "execute_result"
    }
   ],
   "source": [
    "set(balence_sheet['MMM'].index)"
   ]
  },
  {
   "cell_type": "markdown",
   "id": "bce36161-cea7-42a3-a256-bd1e5ea15b6b",
   "metadata": {},
   "source": [
    "## Find number stock with a given attribute \n",
    "\n",
    "Each stock is compossed of a number of attributes for each class of fundemental data (these are income statement, cash flow and balence sheet). In this section I will find the number of stocks for each given attribute."
   ]
  },
  {
   "cell_type": "code",
   "execution_count": 11,
   "id": "7109d286-a47b-4112-b7b1-4621a150a13c",
   "metadata": {
    "tags": []
   },
   "outputs": [],
   "source": [
    "class fundamental_attr():\n",
    "    \n",
    "    def __init__(self, dict_fundamental_data):\n",
    "        all_ticker_attr = set(dict_fundamental_data[list(dict_fundamental_data.keys())[0]].index) # This set will get updated as we loop through the tickers \n",
    "        \n",
    "        for ticker, data in dict_fundamental_data.items():\n",
    "            ticker_attr = set(data.index)\n",
    "            all_ticker_attr.update(ticker_attr)\n",
    "        \n",
    "        self.set_fundamental_attr = all_ticker_attr\n",
    "        self.dict_fundamental_data = dict_fundamental_data\n",
    "    \n",
    "    def get_count_fundamental_attr(self):\n",
    "        dict_fundamental_data = self.dict_fundamental_data\n",
    "        set_fundamental_attr = self.set_fundamental_attr\n",
    "        \n",
    "        all_attr_count = {attr : 0 for attr in set_fundamental_attr}\n",
    "    \n",
    "        for ticker, data in dict_fundamental_data.items():\n",
    "            ticker_attr = list(data.index)\n",
    "            \n",
    "            for attr in set_fundamental_attr:\n",
    "                count_attr = ticker_attr.count(attr)\n",
    "                all_attr_count[attr] += count_attr\n",
    "        \n",
    "        self.all_attr_count = all_attr_count\n",
    "        \n",
    "        return all_attr_count\n",
    "    \n",
    "    def find_attr_above_percentage(self, percentage):\n",
    "        all_attr_count = self.all_attr_count\n",
    "        dict_fundamental_data = self.dict_fundamental_data\n",
    "        \n",
    "        number_of_stocks = len(list(dict_fundamental_data.keys()))\n",
    "        \n",
    "        attr_below_percentage = {attr for attr, count in all_attr_count.items() if ((count / number_of_stocks) *  100) >= percentage}\n",
    "        \n",
    "        return attr_below_percentage\n",
    "        \n",
    "        \n",
    "        \n"
   ]
  },
  {
   "cell_type": "code",
   "execution_count": 12,
   "id": "8635b5d5-3295-4ab7-a33b-f6f4e009085d",
   "metadata": {
    "tags": []
   },
   "outputs": [],
   "source": [
    "bs_fundamental_attr = fundamental_attr(balence_sheet)\n",
    "count_bs_attr = bs_fundamental_attr.get_count_fundamental_attr()\n",
    "\n",
    "is_fundamental_attr = fundamental_attr(income_statement)\n",
    "count_is_attr = is_fundamental_attr.get_count_fundamental_attr()\n",
    "\n",
    "cf_fundamental_attr = fundamental_attr(cash_flow)\n",
    "count_cf_attr = cf_fundamental_attr.get_count_fundamental_attr()"
   ]
  },
  {
   "cell_type": "code",
   "execution_count": 13,
   "id": "7119758c-1489-41de-a551-1418eeed9d0a",
   "metadata": {
    "tags": []
   },
   "outputs": [
    {
     "data": {
      "image/png": "[encoded data removed]",
      "text/plain": [
       "<Figure size 640x480 with 1 Axes>"
      ]
     },
     "metadata": {},
     "output_type": "display_data"
    }
   ],
   "source": [
    "plt.hist(count_bs_attr.values(), bins = 10, density = False)\n",
    "plt.xlabel('Number of stocks with attribute')\n",
    "plt.ylabel('Number of atrributes')\n",
    "plt.title('Balence Sheet')\n",
    "plt.show()"
   ]
  },
  {
   "cell_type": "code",
   "execution_count": 14,
   "id": "845bccbc-f71d-4148-8da9-cd5944cc09d8",
   "metadata": {
    "tags": []
   },
   "outputs": [
    {
     "data": {
      "image/png": "[encoded data removed]",
      "text/plain": [
       "<Figure size 640x480 with 1 Axes>"
      ]
     },
     "metadata": {},
     "output_type": "display_data"
    }
   ],
   "source": [
    "plt.hist(count_is_attr.values(), bins = 10, density = False)\n",
    "plt.xlabel('Number of stocks with attribute')\n",
    "plt.ylabel('Number of atrributes')\n",
    "plt.title('Income Statement')\n",
    "plt.show()"
   ]
  },
  {
   "cell_type": "code",
   "execution_count": 15,
   "id": "2f9615f9-0c9f-47b6-a53f-9bfa8ca47fee",
   "metadata": {
    "tags": []
   },
   "outputs": [
    {
     "data": {
      "image/png": "[encoded data removed]",
      "text/plain": [
       "<Figure size 640x480 with 1 Axes>"
      ]
     },
     "metadata": {},
     "output_type": "display_data"
    }
   ],
   "source": [
    "plt.hist(count_cf_attr.values(), bins = 10, density = False)\n",
    "plt.xlabel('Number of stocks with attribute')\n",
    "plt.ylabel('Number of atrributes')\n",
    "plt.title('Cash Flow')\n",
    "plt.show()"
   ]
  },
  {
   "cell_type": "markdown",
   "id": "091e7609-ad42-4a7e-bcd1-d6639b330a30",
   "metadata": {},
   "source": [
    "For each class of fundemtal data there are least 40 attributes which are present in over 400 stocks. I will remove the attributes with under 400 stocks present as there is not enough data on these attributes to make predictions on. So, 80% of the attributes will be removed. I will name the attributes I keep as modeling attributes.\n",
    "\n",
    "It is worth noting that some of current modeling attributes are missing data for some of the quarters. So, in the section I will remove the attributes from the modeling attributes which don't have 4 quarters worth of data."
   ]
  },
  {
   "cell_type": "code",
   "execution_count": 16,
   "id": "e0aa3c9c-7c42-4027-8223-7c4b5138fb35",
   "metadata": {
    "tags": []
   },
   "outputs": [
    {
     "name": "stdout",
     "output_type": "stream",
     "text": [
      "The number of modeling attributes is: 113\n"
     ]
    }
   ],
   "source": [
    "modeling_attributes = bs_fundamental_attr.find_attr_above_percentage(80)\n",
    "modeling_attributes.update(is_fundamental_attr.find_attr_above_percentage(80))\n",
    "modeling_attributes.update(cf_fundamental_attr.find_attr_above_percentage(80))\n",
    "print('The number of modeling attributes is:', len(modeling_attributes))"
   ]
  },
  {
   "cell_type": "code",
   "execution_count": 17,
   "id": "05826043-aaba-4d83-9efc-f08f823b65fa",
   "metadata": {
    "tags": []
   },
   "outputs": [],
   "source": [
    "# First we will need a function which the 3 classes of fundemental data together\n",
    "\n",
    "def merge_fundemental(dict_bs, dict_is, dict_cf):\n",
    "    tickers = dict_bs.keys()\n",
    "    dict_fund = {}\n",
    "    \n",
    "    for ticker in tickers:\n",
    "        quarterly_bs = dict_bs[ticker]\n",
    "        quarterly_is = dict_is[ticker]\n",
    "        quarterly_cf = dict_cf[ticker]\n",
    "        \n",
    "        lst_of_quarterly = [quarterly_bs, quarterly_is, quarterly_cf]\n",
    "        \n",
    "        combinded_fund = pd.concat(lst_of_quarterly)\n",
    "        \n",
    "        dict_fund[ticker] = combinded_fund\n",
    "        \n",
    "    return dict_fund\n",
    "    "
   ]
  },
  {
   "cell_type": "code",
   "execution_count": 18,
   "id": "f8f37f2b-ca1f-435a-ae8d-e759758cb23e",
   "metadata": {
    "tags": []
   },
   "outputs": [],
   "source": [
    "# Function which outputs the count of full quarterally datasets for a given modeling attribute\n",
    "\n",
    "def missing_quaterally(set_attr, dict_fundamental_data):\n",
    "    \n",
    "    tickers = dict_fundamental_data.keys()\n",
    "    count_full = {attr : 0 for attr in set_attr}\n",
    "    \n",
    "    for ticker in tickers:\n",
    "        data = dict_fundamental_data[ticker]\n",
    "        ticker_attr = set(data.index)\n",
    "        set_attr_ticker = set_attr.intersection(ticker_attr)\n",
    "        \n",
    "        for attr in set_attr_ticker:\n",
    "            any_na = data.loc[attr].isna().any()\n",
    "            \n",
    "            if any_na == False:\n",
    "                count_full[attr] += 1\n",
    "    \n",
    "    return count_full "
   ]
  },
  {
   "cell_type": "code",
   "execution_count": 19,
   "id": "19ed6e2e-43e8-451c-909a-4fd34bbb9f8e",
   "metadata": {
    "tags": []
   },
   "outputs": [],
   "source": [
    "fundamental_data = merge_fundemental(balence_sheet, income_statement, cash_flow)"
   ]
  },
  {
   "cell_type": "code",
   "execution_count": 20,
   "id": "52347e1d-3daa-46af-992e-8c336d768abe",
   "metadata": {
    "tags": []
   },
   "outputs": [],
   "source": [
    "count_full_attr = missing_quaterally(modeling_attributes, fundamental_data)"
   ]
  },
  {
   "cell_type": "code",
   "execution_count": 21,
   "id": "86fe76dc-e2cb-4026-82ef-c6d0e8a67ef9",
   "metadata": {
    "tags": []
   },
   "outputs": [
    {
     "data": {
      "image/png": "[encoded data removed]",
      "text/plain": [
       "<Figure size 640x480 with 1 Axes>"
      ]
     },
     "metadata": {},
     "output_type": "display_data"
    }
   ],
   "source": [
    "plt.hist(count_full_attr.values(), bins = 10, density = False)\n",
    "plt.xlabel('Number of stocks with all quarterally data')\n",
    "plt.ylabel('Number of atrributes')\n",
    "plt.show()"
   ]
  },
  {
   "cell_type": "markdown",
   "id": "453f4e6d-28a3-47cb-9df9-1005d5035ec2",
   "metadata": {},
   "source": [
    "There are around 60 attributes which contain 450 stocks of full data. These attributes will become my final set of modeling attributes."
   ]
  },
  {
   "cell_type": "code",
   "execution_count": 22,
   "id": "8a22a829-b599-491c-a3ca-72be25316752",
   "metadata": {
    "tags": []
   },
   "outputs": [
    {
     "name": "stdout",
     "output_type": "stream",
     "text": [
      "The number modeling attributes is:  62\n"
     ]
    },
    {
     "data": {
      "text/plain": [
       "{'Accounts Receivable',\n",
       " 'Basic Average Shares',\n",
       " 'Basic EPS',\n",
       " 'Beginning Cash Position',\n",
       " 'Capital Expenditure',\n",
       " 'Capital Stock',\n",
       " 'Cash And Cash Equivalents',\n",
       " 'Cash Cash Equivalents And Short Term Investments',\n",
       " 'Cash Flow From Continuing Financing Activities',\n",
       " 'Cash Flow From Continuing Investing Activities',\n",
       " 'Cash Flow From Continuing Operating Activities',\n",
       " 'Change In Working Capital',\n",
       " 'Changes In Cash',\n",
       " 'Common Stock',\n",
       " 'Common Stock Equity',\n",
       " 'Current Assets',\n",
       " 'Current Liabilities',\n",
       " 'Diluted Average Shares',\n",
       " 'Diluted EPS',\n",
       " 'Diluted NI Availto Com Stockholders',\n",
       " 'EBIT',\n",
       " 'End Cash Position',\n",
       " 'Financing Cash Flow',\n",
       " 'Free Cash Flow',\n",
       " 'Gains Losses Not Affecting Retained Earnings',\n",
       " 'Invested Capital',\n",
       " 'Investing Cash Flow',\n",
       " 'Long Term Debt',\n",
       " 'Long Term Debt And Capital Lease Obligation',\n",
       " 'Net Income',\n",
       " 'Net Income Common Stockholders',\n",
       " 'Net Income Continuous Operations',\n",
       " 'Net Income From Continuing And Discontinued Operation',\n",
       " 'Net Income From Continuing Operation Net Minority Interest',\n",
       " 'Net Income From Continuing Operations',\n",
       " 'Net Income Including Noncontrolling Interests',\n",
       " 'Net Interest Income',\n",
       " 'Net PPE',\n",
       " 'Net Tangible Assets',\n",
       " 'Normalized Income',\n",
       " 'Operating Cash Flow',\n",
       " 'Operating Revenue',\n",
       " 'Ordinary Shares Number',\n",
       " 'Payables And Accrued Expenses',\n",
       " 'Pretax Income',\n",
       " 'Receivables',\n",
       " 'Retained Earnings',\n",
       " 'Share Issued',\n",
       " 'Stockholders Equity',\n",
       " 'Tangible Book Value',\n",
       " 'Tax Effect Of Unusual Items',\n",
       " 'Tax Provision',\n",
       " 'Tax Rate For Calcs',\n",
       " 'Total Assets',\n",
       " 'Total Capitalization',\n",
       " 'Total Debt',\n",
       " 'Total Equity Gross Minority Interest',\n",
       " 'Total Expenses',\n",
       " 'Total Liabilities Net Minority Interest',\n",
       " 'Total Non Current Assets',\n",
       " 'Total Revenue',\n",
       " 'Working Capital'}"
      ]
     },
     "execution_count": 22,
     "metadata": {},
     "output_type": "execute_result"
    }
   ],
   "source": [
    "modeling_attributes = {attr for attr in count_full_attr.keys() if count_full_attr[attr] >= 450}\n",
    "print('The number modeling attributes is: ', len(modeling_attributes))\n",
    "modeling_attributes"
   ]
  },
  {
   "cell_type": "markdown",
   "id": "675e4cdf-e83d-42d9-b9e9-fd52c1b5c24b",
   "metadata": {
    "tags": []
   },
   "source": [
    "## Find stocks to remove "
   ]
  },
  {
   "cell_type": "markdown",
   "id": "b26cdc87-abcc-4ef4-9710-b4e2e9faba39",
   "metadata": {},
   "source": [
    "The 100 stocks without the modeling attributes I have kept will either be removed or have their values predicted using the MICE algorithim. Whether or not a stock is removed as this stage is dependent on:\n",
    "\n",
    "1) That for each modeling attribute that the stock does have. There is no missing data for any quarter.\n",
    "\n",
    "2) That there are enough remaining modeling attributes to accurately use the MICE algorihtm to infer the missing attributes value."
   ]
  },
  {
   "cell_type": "code",
   "execution_count": 23,
   "id": "ee82829f-d325-436a-8540-d8e076808ca6",
   "metadata": {
    "tags": []
   },
   "outputs": [
    {
     "data": {
      "text/html": [
       "<div>\n",
       "<style scoped>\n",
       "    .dataframe tbody tr th:only-of-type {\n",
       "        vertical-align: middle;\n",
       "    }\n",
       "\n",
       "    .dataframe tbody tr th {\n",
       "        vertical-align: top;\n",
       "    }\n",
       "\n",
       "    .dataframe thead th {\n",
       "        text-align: right;\n",
       "    }\n",
       "</style>\n",
       "<table border=\"1\" class=\"dataframe\">\n",
       "  <thead>\n",
       "    <tr style=\"text-align: right;\">\n",
       "      <th></th>\n",
       "      <th>2023-06-30</th>\n",
       "      <th>2023-03-31</th>\n",
       "      <th>2022-12-31</th>\n",
       "      <th>2022-09-30</th>\n",
       "    </tr>\n",
       "  </thead>\n",
       "  <tbody>\n",
       "    <tr>\n",
       "      <th>Treasury Shares Number</th>\n",
       "      <td>392040626.0</td>\n",
       "      <td>392360839.0</td>\n",
       "      <td>394787951.0</td>\n",
       "      <td>NaN</td>\n",
       "    </tr>\n",
       "    <tr>\n",
       "      <th>Ordinary Shares Number</th>\n",
       "      <td>551992430.0</td>\n",
       "      <td>551672217.0</td>\n",
       "      <td>549245105.0</td>\n",
       "      <td>552742915.0</td>\n",
       "    </tr>\n",
       "    <tr>\n",
       "      <th>Share Issued</th>\n",
       "      <td>944033056.0</td>\n",
       "      <td>944033056.0</td>\n",
       "      <td>944033056.0</td>\n",
       "      <td>552742915.0</td>\n",
       "    </tr>\n",
       "    <tr>\n",
       "      <th>Net Debt</th>\n",
       "      <td>11729000000.0</td>\n",
       "      <td>12136000000.0</td>\n",
       "      <td>12284000000.0</td>\n",
       "      <td>12301000000.0</td>\n",
       "    </tr>\n",
       "    <tr>\n",
       "      <th>Total Debt</th>\n",
       "      <td>16231000000.0</td>\n",
       "      <td>16223000000.0</td>\n",
       "      <td>16200000000.0</td>\n",
       "      <td>16516000000.0</td>\n",
       "    </tr>\n",
       "    <tr>\n",
       "      <th>...</th>\n",
       "      <td>...</td>\n",
       "      <td>...</td>\n",
       "      <td>...</td>\n",
       "      <td>...</td>\n",
       "    </tr>\n",
       "    <tr>\n",
       "      <th>Depreciation And Amortization</th>\n",
       "      <td>449000000.0</td>\n",
       "      <td>466000000.0</td>\n",
       "      <td>460000000.0</td>\n",
       "      <td>450000000.0</td>\n",
       "    </tr>\n",
       "    <tr>\n",
       "      <th>Operating Gains Losses</th>\n",
       "      <td>38000000.0</td>\n",
       "      <td>37000000.0</td>\n",
       "      <td>54000000.0</td>\n",
       "      <td>-2683000000.0</td>\n",
       "    </tr>\n",
       "    <tr>\n",
       "      <th>Pension And Employee Benefit Expense</th>\n",
       "      <td>38000000.0</td>\n",
       "      <td>37000000.0</td>\n",
       "      <td>54000000.0</td>\n",
       "      <td>41000000.0</td>\n",
       "    </tr>\n",
       "    <tr>\n",
       "      <th>Gain Loss On Sale Of Business</th>\n",
       "      <td>NaN</td>\n",
       "      <td>NaN</td>\n",
       "      <td>0.0</td>\n",
       "      <td>NaN</td>\n",
       "    </tr>\n",
       "    <tr>\n",
       "      <th>Net Income From Continuing Operations</th>\n",
       "      <td>-6836000000.0</td>\n",
       "      <td>981000000.0</td>\n",
       "      <td>543000000.0</td>\n",
       "      <td>3863000000.0</td>\n",
       "    </tr>\n",
       "  </tbody>\n",
       "</table>\n",
       "<p>190 rows × 4 columns</p>\n",
       "</div>"
      ],
      "text/plain": [
       "                                          2023-06-30     2023-03-31  \\\n",
       "Treasury Shares Number                   392040626.0    392360839.0   \n",
       "Ordinary Shares Number                   551992430.0    551672217.0   \n",
       "Share Issued                             944033056.0    944033056.0   \n",
       "Net Debt                               11729000000.0  12136000000.0   \n",
       "Total Debt                             16231000000.0  16223000000.0   \n",
       "...                                              ...            ...   \n",
       "Depreciation And Amortization            449000000.0    466000000.0   \n",
       "Operating Gains Losses                    38000000.0     37000000.0   \n",
       "Pension And Employee Benefit Expense      38000000.0     37000000.0   \n",
       "Gain Loss On Sale Of Business                    NaN            NaN   \n",
       "Net Income From Continuing Operations  -6836000000.0    981000000.0   \n",
       "\n",
       "                                          2022-12-31     2022-09-30  \n",
       "Treasury Shares Number                   394787951.0            NaN  \n",
       "Ordinary Shares Number                   549245105.0    552742915.0  \n",
       "Share Issued                             944033056.0    552742915.0  \n",
       "Net Debt                               12284000000.0  12301000000.0  \n",
       "Total Debt                             16200000000.0  16516000000.0  \n",
       "...                                              ...            ...  \n",
       "Depreciation And Amortization            460000000.0    450000000.0  \n",
       "Operating Gains Losses                    54000000.0  -2683000000.0  \n",
       "Pension And Employee Benefit Expense      54000000.0     41000000.0  \n",
       "Gain Loss On Sale Of Business                    0.0            NaN  \n",
       "Net Income From Continuing Operations    543000000.0   3863000000.0  \n",
       "\n",
       "[190 rows x 4 columns]"
      ]
     },
     "execution_count": 23,
     "metadata": {},
     "output_type": "execute_result"
    }
   ],
   "source": [
    "test_ticker = list(fundamental_data.keys())[0]\n",
    "fundamental_data[test_ticker]"
   ]
  },
  {
   "cell_type": "code",
   "execution_count": 24,
   "id": "3edf5087-53e6-48bf-857f-e8a053b5b50b",
   "metadata": {
    "tags": []
   },
   "outputs": [
    {
     "data": {
      "text/plain": [
       "True"
      ]
     },
     "execution_count": 24,
     "metadata": {},
     "output_type": "execute_result"
    }
   ],
   "source": [
    "fundamental_data[test_ticker].loc['Treasury Shares Number'].isna().any()"
   ]
  },
  {
   "cell_type": "code",
   "execution_count": 54,
   "id": "0bfdcb6d-d781-4948-9efc-d7b1891753af",
   "metadata": {
    "tags": []
   },
   "outputs": [],
   "source": [
    "class stock_removal():\n",
    "    \n",
    "    def __init__(self, modeling_attributes, fundamental_dict):\n",
    "        self.modeling_attributes = modeling_attributes\n",
    "        self.fundamental_dict = fundamental_dict\n",
    "        \n",
    "    def num_full_modeling_attributes(self):\n",
    "        modeling_attributes = self.modeling_attributes\n",
    "        fundamental_dict = self.fundamental_dict\n",
    "        \n",
    "        tickers = fundamental_dict.keys()\n",
    "        count_full = {ticker : 0 for ticker in tickers}\n",
    "    \n",
    "        for ticker in tickers:\n",
    "            data = fundamental_dict[ticker]\n",
    "            ticker_attr = set(data.index)\n",
    "            set_attr_ticker = modeling_attributes.intersection(ticker_attr) # Find set of modeling attr present in stock\n",
    "        \n",
    "            for attr in set_attr_ticker:\n",
    "                any_na = data.loc[attr].isna().any()\n",
    "            \n",
    "                if any_na == False:\n",
    "                    count_full[ticker] += 1\n",
    "        \n",
    "        self.count_full = count_full\n",
    "    \n",
    "        return count_full\n",
    "    \n",
    "    def final_fundamental_dict(self):\n",
    "        fundamental_dict = self.fundamental_dict\n",
    "        count_full = self.count_full\n",
    "        \n",
    "        final_tickers = [ticker for ticker in count_full.keys() if count_full[ticker] >= 50]\n",
    "        \n",
    "        final_fundamental_dict = {ticker : fundamental_dict[ticker] for ticker in final_tickers}\n",
    "        \n",
    "        print('The number of stocks removed: ', len(fundamental_dict) - len(final_fundamental_dict))\n",
    "        \n",
    "        return final_fundamental_dict\n",
    "        "
   ]
  },
  {
   "cell_type": "code",
   "execution_count": 55,
   "id": "ea028de4-c29b-4bd9-957d-ec9c0926a9a1",
   "metadata": {
    "tags": []
   },
   "outputs": [],
   "source": [
    "obj_stock_removal = stock_removal(modeling_attributes, fundamental_data)"
   ]
  },
  {
   "cell_type": "code",
   "execution_count": 56,
   "id": "d65bb7b1-fe6d-4465-8b4f-dd87de55a8eb",
   "metadata": {
    "tags": []
   },
   "outputs": [],
   "source": [
    "count_full_modeling_attr = obj_stock_removal.num_full_modeling_attributes()"
   ]
  },
  {
   "cell_type": "code",
   "execution_count": 57,
   "id": "4b7c2131-a311-46bc-a807-8a407db61afd",
   "metadata": {
    "tags": []
   },
   "outputs": [
    {
     "data": {
      "image/png": "[encoded data removed]",
      "text/plain": [
       "<Figure size 640x480 with 1 Axes>"
      ]
     },
     "metadata": {},
     "output_type": "display_data"
    }
   ],
   "source": [
    "plt.hist(count_full_modeling_attr.values(), bins = 20, density = False)\n",
    "plt.ylabel('Number of stocks with all quarterally data')\n",
    "plt.xlabel('Number of full modeling atrributes per stock')\n",
    "plt.show()"
   ]
  },
  {
   "cell_type": "code",
   "execution_count": 58,
   "id": "5d74dc89-07ab-407c-ac4d-edcc825063bd",
   "metadata": {
    "tags": []
   },
   "outputs": [
    {
     "name": "stdout",
     "output_type": "stream",
     "text": [
      "The number of stocks removed:  39\n"
     ]
    }
   ],
   "source": [
    "final_fundamental_dict = obj_stock_removal.final_fundamental_dict()"
   ]
  },
  {
   "cell_type": "code",
   "execution_count": 59,
   "id": "b5abbdd8-e1ac-45ed-ab69-6ee0d435802f",
   "metadata": {
    "tags": []
   },
   "outputs": [
    {
     "data": {
      "text/html": [
       "<div>\n",
       "<style scoped>\n",
       "    .dataframe tbody tr th:only-of-type {\n",
       "        vertical-align: middle;\n",
       "    }\n",
       "\n",
       "    .dataframe tbody tr th {\n",
       "        vertical-align: top;\n",
       "    }\n",
       "\n",
       "    .dataframe thead th {\n",
       "        text-align: right;\n",
       "    }\n",
       "</style>\n",
       "<table border=\"1\" class=\"dataframe\">\n",
       "  <thead>\n",
       "    <tr style=\"text-align: right;\">\n",
       "      <th></th>\n",
       "      <th>2023-06-30</th>\n",
       "      <th>2023-03-31</th>\n",
       "      <th>2022-12-31</th>\n",
       "      <th>2022-09-30</th>\n",
       "    </tr>\n",
       "  </thead>\n",
       "  <tbody>\n",
       "    <tr>\n",
       "      <th>Treasury Shares Number</th>\n",
       "      <td>392040626.0</td>\n",
       "      <td>392360839.0</td>\n",
       "      <td>394787951.0</td>\n",
       "      <td>NaN</td>\n",
       "    </tr>\n",
       "    <tr>\n",
       "      <th>Ordinary Shares Number</th>\n",
       "      <td>551992430.0</td>\n",
       "      <td>551672217.0</td>\n",
       "      <td>549245105.0</td>\n",
       "      <td>552742915.0</td>\n",
       "    </tr>\n",
       "    <tr>\n",
       "      <th>Share Issued</th>\n",
       "      <td>944033056.0</td>\n",
       "      <td>944033056.0</td>\n",
       "      <td>944033056.0</td>\n",
       "      <td>552742915.0</td>\n",
       "    </tr>\n",
       "    <tr>\n",
       "      <th>Net Debt</th>\n",
       "      <td>11729000000.0</td>\n",
       "      <td>12136000000.0</td>\n",
       "      <td>12284000000.0</td>\n",
       "      <td>12301000000.0</td>\n",
       "    </tr>\n",
       "    <tr>\n",
       "      <th>Total Debt</th>\n",
       "      <td>16231000000.0</td>\n",
       "      <td>16223000000.0</td>\n",
       "      <td>16200000000.0</td>\n",
       "      <td>16516000000.0</td>\n",
       "    </tr>\n",
       "    <tr>\n",
       "      <th>...</th>\n",
       "      <td>...</td>\n",
       "      <td>...</td>\n",
       "      <td>...</td>\n",
       "      <td>...</td>\n",
       "    </tr>\n",
       "    <tr>\n",
       "      <th>Depreciation And Amortization</th>\n",
       "      <td>449000000.0</td>\n",
       "      <td>466000000.0</td>\n",
       "      <td>460000000.0</td>\n",
       "      <td>450000000.0</td>\n",
       "    </tr>\n",
       "    <tr>\n",
       "      <th>Operating Gains Losses</th>\n",
       "      <td>38000000.0</td>\n",
       "      <td>37000000.0</td>\n",
       "      <td>54000000.0</td>\n",
       "      <td>-2683000000.0</td>\n",
       "    </tr>\n",
       "    <tr>\n",
       "      <th>Pension And Employee Benefit Expense</th>\n",
       "      <td>38000000.0</td>\n",
       "      <td>37000000.0</td>\n",
       "      <td>54000000.0</td>\n",
       "      <td>41000000.0</td>\n",
       "    </tr>\n",
       "    <tr>\n",
       "      <th>Gain Loss On Sale Of Business</th>\n",
       "      <td>NaN</td>\n",
       "      <td>NaN</td>\n",
       "      <td>0.0</td>\n",
       "      <td>NaN</td>\n",
       "    </tr>\n",
       "    <tr>\n",
       "      <th>Net Income From Continuing Operations</th>\n",
       "      <td>-6836000000.0</td>\n",
       "      <td>981000000.0</td>\n",
       "      <td>543000000.0</td>\n",
       "      <td>3863000000.0</td>\n",
       "    </tr>\n",
       "  </tbody>\n",
       "</table>\n",
       "<p>190 rows × 4 columns</p>\n",
       "</div>"
      ],
      "text/plain": [
       "                                          2023-06-30     2023-03-31  \\\n",
       "Treasury Shares Number                   392040626.0    392360839.0   \n",
       "Ordinary Shares Number                   551992430.0    551672217.0   \n",
       "Share Issued                             944033056.0    944033056.0   \n",
       "Net Debt                               11729000000.0  12136000000.0   \n",
       "Total Debt                             16231000000.0  16223000000.0   \n",
       "...                                              ...            ...   \n",
       "Depreciation And Amortization            449000000.0    466000000.0   \n",
       "Operating Gains Losses                    38000000.0     37000000.0   \n",
       "Pension And Employee Benefit Expense      38000000.0     37000000.0   \n",
       "Gain Loss On Sale Of Business                    NaN            NaN   \n",
       "Net Income From Continuing Operations  -6836000000.0    981000000.0   \n",
       "\n",
       "                                          2022-12-31     2022-09-30  \n",
       "Treasury Shares Number                   394787951.0            NaN  \n",
       "Ordinary Shares Number                   549245105.0    552742915.0  \n",
       "Share Issued                             944033056.0    552742915.0  \n",
       "Net Debt                               12284000000.0  12301000000.0  \n",
       "Total Debt                             16200000000.0  16516000000.0  \n",
       "...                                              ...            ...  \n",
       "Depreciation And Amortization            460000000.0    450000000.0  \n",
       "Operating Gains Losses                    54000000.0  -2683000000.0  \n",
       "Pension And Employee Benefit Expense      54000000.0     41000000.0  \n",
       "Gain Loss On Sale Of Business                    0.0            NaN  \n",
       "Net Income From Continuing Operations    543000000.0   3863000000.0  \n",
       "\n",
       "[190 rows x 4 columns]"
      ]
     },
     "execution_count": 59,
     "metadata": {},
     "output_type": "execute_result"
    }
   ],
   "source": [
    "final_fundamental_dict['MMM']"
   ]
  },
  {
   "cell_type": "code",
   "execution_count": 31,
   "id": "0795567c-e223-4cc2-af62-b37ded18110c",
   "metadata": {
    "tags": []
   },
   "outputs": [],
   "source": [
    "with open(\"/Users/marcs/OneDrive/Documents/stock_analysis2/final_fundamental_dict.pickle\", 'wb') as f:\n",
    "        pickle.dump(final_fundamental_dict, f)"
   ]
  },
  {
   "cell_type": "code",
   "execution_count": 60,
   "id": "fc6eede2-78c1-45a7-a680-2b18846d139c",
   "metadata": {
    "tags": []
   },
   "outputs": [],
   "source": [
    "with open(\"/Users/marcs/OneDrive/Documents/stock_analysis2/fundamental_modeling_attributes.pickle\", 'wb') as f:\n",
    "        pickle.dump(modeling_attributes, f)"
   ]
  }
 ],
 "metadata": {
  "kernelspec": {
   "display_name": "Python 3 (ipykernel)",
   "language": "python",
   "name": "python3"
  },
  "language_info": {
   "codemirror_mode": {
    "name": "ipython",
    "version": 3
   },
   "file_extension": ".py",
   "mimetype": "text/x-python",
   "name": "python",
   "nbconvert_exporter": "python",
   "pygments_lexer": "ipython3",
   "version": "3.11.5"
  }
 },
 "nbformat": 4,
 "nbformat_minor": 5
}
