{
 "cells": [
  {
   "cell_type": "markdown",
   "id": "bcff005d-520c-42a1-b1d1-b59d1a1b8eab",
   "metadata": {},
   "source": [
    "In this notebook I will be exloring the use of the Armina model on 10 random stocks in the S&P dataset "
   ]
  },
  {
   "cell_type": "code",
   "execution_count": 1,
   "id": "085cd389-47a1-40f5-8980-25beaca55b46",
   "metadata": {
    "tags": []
   },
   "outputs": [],
   "source": [
    "import os \n",
    "os.chdir('/Users/marcs')"
   ]
  },
  {
   "cell_type": "code",
   "execution_count": 2,
   "id": "edc6ab44-96af-41aa-b145-d22c6e28f168",
   "metadata": {
    "tags": []
   },
   "outputs": [],
   "source": [
    "import matplotlib.pyplot as plt\n",
    "from pickle_loader import pickle_loader\n",
    "import datetime as dt\n",
    "import pandas as pd\n",
    "from random import seed\n",
    "from random import randint\n",
    "import numpy as np\n",
    "import pmdarima as pm\n",
    "from sklearn.metrics import mean_squared_error\n",
    "from pmdarima.metrics import smape"
   ]
  },
  {
   "cell_type": "code",
   "execution_count": 3,
   "id": "f36dac6a-bb1c-4211-80f7-a92bd1105fba",
   "metadata": {
    "tags": []
   },
   "outputs": [],
   "source": [
    "technical_data = pickle_loader('/Users/marcs/OneDrive/Documents/stock_analysis2/technical_us.pickle')                        "
   ]
  },
  {
   "cell_type": "code",
   "execution_count": 4,
   "id": "6292e8ce-d9a9-4895-88ac-7c6c2d3979f7",
   "metadata": {
    "tags": []
   },
   "outputs": [
    {
     "data": {
      "text/plain": [
       "[206, 194, 102, 306, 91, 117, 127, 68, 389, 44]"
      ]
     },
     "execution_count": 4,
     "metadata": {},
     "output_type": "execute_result"
    }
   ],
   "source": [
    "seed(99)\n",
    "random_numbers = [randint(0, len(technical_data) - 1) for _ in range(10)]\n",
    "random_numbers"
   ]
  },
  {
   "cell_type": "code",
   "execution_count": 5,
   "id": "dfd825b5-1afa-4780-80c3-f70579566045",
   "metadata": {
    "tags": []
   },
   "outputs": [],
   "source": [
    "tickers = list(technical_data.keys())\n",
    "exploratory_tickers = [tickers[random_number] for random_number in random_numbers]"
   ]
  },
  {
   "cell_type": "code",
   "execution_count": 6,
   "id": "70b458e5-2bfb-43b5-8edb-994ad7e1d2a0",
   "metadata": {
    "tags": []
   },
   "outputs": [],
   "source": [
    "exploratory_data = [technical_data[exploratory_ticker] for exploratory_ticker in exploratory_tickers]"
   ]
  },
  {
   "cell_type": "code",
   "execution_count": 7,
   "id": "ee2c7203-5a06-4de2-91bc-3495593a45fa",
   "metadata": {
    "scrolled": true,
    "tags": []
   },
   "outputs": [
    {
     "data": {
      "text/html": [
       "<div>\n",
       "<style scoped>\n",
       "    .dataframe tbody tr th:only-of-type {\n",
       "        vertical-align: middle;\n",
       "    }\n",
       "\n",
       "    .dataframe tbody tr th {\n",
       "        vertical-align: top;\n",
       "    }\n",
       "\n",
       "    .dataframe thead th {\n",
       "        text-align: right;\n",
       "    }\n",
       "</style>\n",
       "<table border=\"1\" class=\"dataframe\">\n",
       "  <thead>\n",
       "    <tr style=\"text-align: right;\">\n",
       "      <th></th>\n",
       "      <th>Open</th>\n",
       "      <th>High</th>\n",
       "      <th>Low</th>\n",
       "      <th>Close</th>\n",
       "      <th>Volume</th>\n",
       "      <th>Dividends</th>\n",
       "      <th>Stock Splits</th>\n",
       "    </tr>\n",
       "    <tr>\n",
       "      <th>Date</th>\n",
       "      <th></th>\n",
       "      <th></th>\n",
       "      <th></th>\n",
       "      <th></th>\n",
       "      <th></th>\n",
       "      <th></th>\n",
       "      <th></th>\n",
       "    </tr>\n",
       "  </thead>\n",
       "  <tbody>\n",
       "    <tr>\n",
       "      <th>2021-09-30 00:00:00-04:00</th>\n",
       "      <td>12.628805</td>\n",
       "      <td>12.681942</td>\n",
       "      <td>12.478252</td>\n",
       "      <td>12.540244</td>\n",
       "      <td>78820500</td>\n",
       "      <td>0.0</td>\n",
       "      <td>0.0</td>\n",
       "    </tr>\n",
       "    <tr>\n",
       "      <th>2021-10-01 00:00:00-04:00</th>\n",
       "      <td>12.628805</td>\n",
       "      <td>12.726222</td>\n",
       "      <td>12.407403</td>\n",
       "      <td>12.540244</td>\n",
       "      <td>51880900</td>\n",
       "      <td>0.0</td>\n",
       "      <td>0.0</td>\n",
       "    </tr>\n",
       "    <tr>\n",
       "      <th>2021-10-04 00:00:00-04:00</th>\n",
       "      <td>12.637664</td>\n",
       "      <td>13.098181</td>\n",
       "      <td>12.593383</td>\n",
       "      <td>12.708512</td>\n",
       "      <td>78332500</td>\n",
       "      <td>0.0</td>\n",
       "      <td>0.0</td>\n",
       "    </tr>\n",
       "    <tr>\n",
       "      <th>2021-10-05 00:00:00-04:00</th>\n",
       "      <td>12.788216</td>\n",
       "      <td>12.788216</td>\n",
       "      <td>12.495964</td>\n",
       "      <td>12.655375</td>\n",
       "      <td>55915800</td>\n",
       "      <td>0.0</td>\n",
       "      <td>0.0</td>\n",
       "    </tr>\n",
       "    <tr>\n",
       "      <th>2021-10-06 00:00:00-04:00</th>\n",
       "      <td>12.522533</td>\n",
       "      <td>12.699655</td>\n",
       "      <td>12.301131</td>\n",
       "      <td>12.504821</td>\n",
       "      <td>61020300</td>\n",
       "      <td>0.0</td>\n",
       "      <td>0.0</td>\n",
       "    </tr>\n",
       "    <tr>\n",
       "      <th>...</th>\n",
       "      <td>...</td>\n",
       "      <td>...</td>\n",
       "      <td>...</td>\n",
       "      <td>...</td>\n",
       "      <td>...</td>\n",
       "      <td>...</td>\n",
       "      <td>...</td>\n",
       "    </tr>\n",
       "    <tr>\n",
       "      <th>2023-09-25 00:00:00-04:00</th>\n",
       "      <td>12.350000</td>\n",
       "      <td>12.700000</td>\n",
       "      <td>12.340000</td>\n",
       "      <td>12.580000</td>\n",
       "      <td>41219400</td>\n",
       "      <td>0.0</td>\n",
       "      <td>0.0</td>\n",
       "    </tr>\n",
       "    <tr>\n",
       "      <th>2023-09-26 00:00:00-04:00</th>\n",
       "      <td>12.490000</td>\n",
       "      <td>12.660000</td>\n",
       "      <td>12.370000</td>\n",
       "      <td>12.430000</td>\n",
       "      <td>41261000</td>\n",
       "      <td>0.0</td>\n",
       "      <td>0.0</td>\n",
       "    </tr>\n",
       "    <tr>\n",
       "      <th>2023-09-27 00:00:00-04:00</th>\n",
       "      <td>12.520000</td>\n",
       "      <td>12.520000</td>\n",
       "      <td>12.250000</td>\n",
       "      <td>12.390000</td>\n",
       "      <td>41616600</td>\n",
       "      <td>0.0</td>\n",
       "      <td>0.0</td>\n",
       "    </tr>\n",
       "    <tr>\n",
       "      <th>2023-09-28 00:00:00-04:00</th>\n",
       "      <td>12.320000</td>\n",
       "      <td>12.660000</td>\n",
       "      <td>12.170000</td>\n",
       "      <td>12.560000</td>\n",
       "      <td>49109800</td>\n",
       "      <td>0.0</td>\n",
       "      <td>0.0</td>\n",
       "    </tr>\n",
       "    <tr>\n",
       "      <th>2023-09-29 00:00:00-04:00</th>\n",
       "      <td>12.610000</td>\n",
       "      <td>12.660000</td>\n",
       "      <td>12.350000</td>\n",
       "      <td>12.420000</td>\n",
       "      <td>62303900</td>\n",
       "      <td>0.0</td>\n",
       "      <td>0.0</td>\n",
       "    </tr>\n",
       "  </tbody>\n",
       "</table>\n",
       "<p>503 rows × 7 columns</p>\n",
       "</div>"
      ],
      "text/plain": [
       "                                Open       High        Low      Close  \\\n",
       "Date                                                                    \n",
       "2021-09-30 00:00:00-04:00  12.628805  12.681942  12.478252  12.540244   \n",
       "2021-10-01 00:00:00-04:00  12.628805  12.726222  12.407403  12.540244   \n",
       "2021-10-04 00:00:00-04:00  12.637664  13.098181  12.593383  12.708512   \n",
       "2021-10-05 00:00:00-04:00  12.788216  12.788216  12.495964  12.655375   \n",
       "2021-10-06 00:00:00-04:00  12.522533  12.699655  12.301131  12.504821   \n",
       "...                              ...        ...        ...        ...   \n",
       "2023-09-25 00:00:00-04:00  12.350000  12.700000  12.340000  12.580000   \n",
       "2023-09-26 00:00:00-04:00  12.490000  12.660000  12.370000  12.430000   \n",
       "2023-09-27 00:00:00-04:00  12.520000  12.520000  12.250000  12.390000   \n",
       "2023-09-28 00:00:00-04:00  12.320000  12.660000  12.170000  12.560000   \n",
       "2023-09-29 00:00:00-04:00  12.610000  12.660000  12.350000  12.420000   \n",
       "\n",
       "                             Volume  Dividends  Stock Splits  \n",
       "Date                                                          \n",
       "2021-09-30 00:00:00-04:00  78820500        0.0           0.0  \n",
       "2021-10-01 00:00:00-04:00  51880900        0.0           0.0  \n",
       "2021-10-04 00:00:00-04:00  78332500        0.0           0.0  \n",
       "2021-10-05 00:00:00-04:00  55915800        0.0           0.0  \n",
       "2021-10-06 00:00:00-04:00  61020300        0.0           0.0  \n",
       "...                             ...        ...           ...  \n",
       "2023-09-25 00:00:00-04:00  41219400        0.0           0.0  \n",
       "2023-09-26 00:00:00-04:00  41261000        0.0           0.0  \n",
       "2023-09-27 00:00:00-04:00  41616600        0.0           0.0  \n",
       "2023-09-28 00:00:00-04:00  49109800        0.0           0.0  \n",
       "2023-09-29 00:00:00-04:00  62303900        0.0           0.0  \n",
       "\n",
       "[503 rows x 7 columns]"
      ]
     },
     "execution_count": 7,
     "metadata": {},
     "output_type": "execute_result"
    }
   ],
   "source": [
    "exploratory_data[0]"
   ]
  },
  {
   "cell_type": "markdown",
   "id": "47986d4a-f7e7-41fa-a1f6-af17de663fea",
   "metadata": {},
   "source": [
    "The close price is the price that is being modeled/pricted\n",
    "\n",
    "The start of the train dataset is '2021-09-30 00:00:00-0400'.\n",
    "\n",
    "The end of the train set is '2022-09-27 00:00:00-0400' ."
   ]
  },
  {
   "cell_type": "code",
   "execution_count": 8,
   "id": "4db24b61-919f-4bef-a22f-8d8c33b8ca41",
   "metadata": {
    "tags": []
   },
   "outputs": [],
   "source": [
    "train_set = [exploratory_data[i].loc['2021-09-30 00:00:00-0400':'2022-09-27 00:00:00-0400']['Close'].to_numpy() for i in range(len(exploratory_data))]"
   ]
  },
  {
   "cell_type": "code",
   "execution_count": 9,
   "id": "d67bccef-9cc0-4c82-bede-5bce886d59a8",
   "metadata": {
    "tags": []
   },
   "outputs": [
    {
     "data": {
      "text/plain": [
       "250"
      ]
     },
     "execution_count": 9,
     "metadata": {},
     "output_type": "execute_result"
    }
   ],
   "source": [
    "train_set[0].size"
   ]
  },
  {
   "cell_type": "markdown",
   "id": "fb8159d1-53ca-4bcb-81ff-b686c8d541ac",
   "metadata": {},
   "source": [
    "The date we are trying to pridict is 2022-12-27"
   ]
  },
  {
   "cell_type": "code",
   "execution_count": 10,
   "id": "ebb14b64-176e-47f1-9efd-311b47422e9e",
   "metadata": {
    "tags": []
   },
   "outputs": [
    {
     "data": {
      "text/plain": [
       "392.8230895996094"
      ]
     },
     "execution_count": 10,
     "metadata": {},
     "output_type": "execute_result"
    }
   ],
   "source": [
    "exploratory_data[1].loc['2022-12-27 00:00:00-05:00']['Close']\n"
   ]
  },
  {
   "cell_type": "code",
   "execution_count": 11,
   "id": "3e389f2f-adb1-4b32-9d55-439b55279baa",
   "metadata": {
    "tags": []
   },
   "outputs": [],
   "source": [
    "test_set = [exploratory_data[i].loc['2022-12-27 00:00:00-0500']['Close'] for i in range(len(exploratory_data))]"
   ]
  },
  {
   "cell_type": "code",
   "execution_count": 12,
   "id": "84e6c4bd-7f9b-4ded-a880-01652b3497a3",
   "metadata": {
    "tags": []
   },
   "outputs": [
    {
     "data": {
      "text/plain": [
       "[10.29378890991211,\n",
       " 392.8230895996094,\n",
       " 86.24337005615234,\n",
       " 344.0606994628906,\n",
       " 7.670000076293945,\n",
       " 164.76705932617188,\n",
       " 229.92918395996094,\n",
       " 81.96320343017578,\n",
       " 274.18048095703125,\n",
       " 129.4775848388672]"
      ]
     },
     "execution_count": 12,
     "metadata": {},
     "output_type": "execute_result"
    }
   ],
   "source": [
    "test_set"
   ]
  },
  {
   "cell_type": "markdown",
   "id": "9cfe9e77-ad27-4691-8509-7bdda82bd9cb",
   "metadata": {},
   "source": [
    "#### Try different amounts of smoothing\n",
    "\n",
    "I will smooth by taking the average over a given time period. The time periods I will use are 1 day (no smoothing), 1 week, 1 month and 3 months."
   ]
  },
  {
   "cell_type": "code",
   "execution_count": 36,
   "id": "d564b50a-b240-4771-9e40-5e7e959a00c5",
   "metadata": {
    "tags": []
   },
   "outputs": [],
   "source": [
    "def get_smoothing_data(len_smoothing_period, train_set , num_day_train_set):\n",
    "    smoothing_data = []\n",
    "    \n",
    "    for stock_data in train_set:\n",
    "        len_stock_set = stock_data.size\n",
    "        factor_missing_days = len_stock_set / num_day_train_set # factor which captures the ratio of missing days in the total number of days in the train set\n",
    "        adjusted_smoothing_period = int(np.round(len_smoothing_period * factor_missing_days)) # smoothing period ajusted for the missing days \n",
    "        remainder = len_stock_set % adjusted_smoothing_period\n",
    "        len_start_period = adjusted_smoothing_period + remainder\n",
    "        \n",
    "        first_value = np.mean(stock_data[:len_start_period])\n",
    "        other_values = np.mean(stock_data[len_start_period:].reshape(-1, adjusted_smoothing_period), axis = 1)\n",
    "        \n",
    "        smoothing_data.append(np.insert(other_values, 0, first_value))\n",
    "        \n",
    "    return smoothing_data"
   ]
  },
  {
   "cell_type": "code",
   "execution_count": 14,
   "id": "3c7ea5dc-d36f-4890-a812-6c3bff51b95e",
   "metadata": {
    "tags": []
   },
   "outputs": [],
   "source": [
    "no_smoothing = train_set\n",
    "weekly_smoothing = get_smoothing_data(len_smoothing_period = 7, train_set = train_set , num_day_train_set = 365)\n",
    "monthly_smoothing = get_smoothing_data(len_smoothing_period = 30, train_set = train_set , num_day_train_set = 365)\n",
    "quarterly_smoothing = get_smoothing_data(len_smoothing_period = int(365/4), train_set = train_set , num_day_train_set = 365)"
   ]
  },
  {
   "cell_type": "code",
   "execution_count": 15,
   "id": "218967bc-39bf-43fd-a8f6-eddf7723d42d",
   "metadata": {
    "tags": []
   },
   "outputs": [
    {
     "data": {
      "text/plain": [
       "[10.29378890991211,\n",
       " 392.8230895996094,\n",
       " 86.24337005615234,\n",
       " 344.0606994628906,\n",
       " 7.670000076293945,\n",
       " 164.76705932617188,\n",
       " 229.92918395996094,\n",
       " 81.96320343017578,\n",
       " 274.18048095703125,\n",
       " 129.4775848388672]"
      ]
     },
     "execution_count": 15,
     "metadata": {},
     "output_type": "execute_result"
    }
   ],
   "source": [
    "test_set"
   ]
  },
  {
   "cell_type": "code",
   "execution_count": 16,
   "id": "c6d367cc-92e9-4d32-8c2d-27a1b00fb759",
   "metadata": {
    "tags": []
   },
   "outputs": [
    {
     "data": {
      "text/plain": [
       "array([ 59.00927124,  61.26657377,  66.88681412,  71.6124907 ,\n",
       "        92.31056795, 100.26695433,  96.95335715,  88.55159069,\n",
       "        84.34182485, 101.32600367,  99.79294259])"
      ]
     },
     "execution_count": 16,
     "metadata": {},
     "output_type": "execute_result"
    }
   ],
   "source": [
    "monthly_smoothing[2]"
   ]
  },
  {
   "cell_type": "markdown",
   "id": "86d5fa52-1986-40eb-80d1-7ada17d1c5f6",
   "metadata": {
    "tags": []
   },
   "source": [
    "### Estimate the diffrencing terms \n",
    "Use the KPSS and ADF tests to estimate the differencing terms for each level of smoothing "
   ]
  },
  {
   "cell_type": "code",
   "execution_count": 17,
   "id": "b736fda1-fb20-465e-936a-0cf329cd7ae3",
   "metadata": {
    "tags": []
   },
   "outputs": [],
   "source": [
    "all_smoothing_data = [no_smoothing, weekly_smoothing, monthly_smoothing, quarterly_smoothing]\n",
    "all_smoothing_titles = ['no_smoothing', 'weekly_smoothing', 'monthly_smoothing', 'quarterly_smoothing']"
   ]
  },
  {
   "cell_type": "code",
   "execution_count": 18,
   "id": "53b5456b-9917-436c-b7db-6a5511cb37fc",
   "metadata": {
    "tags": []
   },
   "outputs": [
    {
     "name": "stdout",
     "output_type": "stream",
     "text": [
      "*****no_smoothing*****\n",
      "Estimated differencing term: 1\n",
      "Estimated differencing term: 1\n",
      "Estimated differencing term: 1\n",
      "Estimated differencing term: 1\n",
      "Estimated differencing term: 1\n",
      "Estimated differencing term: 1\n",
      "Estimated differencing term: 1\n",
      "Estimated differencing term: 1\n",
      "Estimated differencing term: 1\n",
      "Estimated differencing term: 1\n",
      "*****weekly_smoothing*****\n",
      "Estimated differencing term: 2\n",
      "Estimated differencing term: 2\n",
      "Estimated differencing term: 2\n",
      "Estimated differencing term: 1\n",
      "Estimated differencing term: 1\n",
      "Estimated differencing term: 2\n",
      "Estimated differencing term: 2\n",
      "Estimated differencing term: 1\n",
      "Estimated differencing term: 2\n",
      "Estimated differencing term: 2\n",
      "*****monthly_smoothing*****\n",
      "Estimated differencing term: 2\n",
      "Estimated differencing term: 2\n",
      "Estimated differencing term: 1\n",
      "Estimated differencing term: 0\n",
      "Estimated differencing term: 3\n",
      "Estimated differencing term: 4\n",
      "Estimated differencing term: 2\n",
      "Estimated differencing term: 1\n",
      "Estimated differencing term: 4\n",
      "Estimated differencing term: 2\n"
     ]
    }
   ],
   "source": [
    "from pmdarima.arima import ndiffs\n",
    "\n",
    "for i, data in enumerate(all_smoothing_data[:3]):\n",
    "    print('*****' + all_smoothing_titles[i] + '*****')\n",
    "    for stock in data:\n",
    "        kpss_diffs = ndiffs(stock, alpha=0.05, test='kpss', max_d=4)\n",
    "        adf_diffs = ndiffs(stock, alpha=0.05, test='adf', max_d=4)\n",
    "        n_diffs = max(adf_diffs, kpss_diffs)\n",
    "        print(f\"Estimated differencing term: {n_diffs}\")\n",
    "# Estimated differencing term: 1"
   ]
  },
  {
   "cell_type": "markdown",
   "id": "1a6ef02c-3ea0-4a14-b81e-21e6e3c424ea",
   "metadata": {},
   "source": [
    "There seems to be an increase in the optimal d as the periods of averging get larger. However this also comes with an increase in variation. This could be due to the fact that the size of the dateset for each stock gets smaller as the period of smoothing increases, which leads to a inacurate determination of the optimal value of d. Furthermore the averaging provides the same goal as diffrencing which is smoothing. Taking these two factors in consideration I will opt to fix the differencing term at 1."
   ]
  },
  {
   "cell_type": "markdown",
   "id": "8f77c8b8-63b2-4bae-b40a-c5a041b8026d",
   "metadata": {},
   "source": [
    "#### Fitting the ARMINA model "
   ]
  },
  {
   "cell_type": "code",
   "execution_count": 19,
   "id": "7cf03878-dab6-4cfb-a2d8-82ed9ae2104e",
   "metadata": {
    "tags": []
   },
   "outputs": [
    {
     "name": "stdout",
     "output_type": "stream",
     "text": [
      "*****no_smoothing*****\n",
      "*****weekly_smoothing*****\n",
      "*****monthly_smoothing*****\n",
      "*****quarterly_smoothing*****\n"
     ]
    }
   ],
   "source": [
    "trained_models = {}\n",
    "\n",
    "for i, data in enumerate(all_smoothing_data):\n",
    "    print('*****' + all_smoothing_titles[i] + '*****')\n",
    "    trained_models[all_smoothing_titles[i]] = []\n",
    "    for stock_data in data:\n",
    "        trained_models[all_smoothing_titles[i]].append(\\\n",
    "        pm.auto_arima(stock_data, d=1, seasonal=False, stepwise=True,\\\n",
    "            suppress_warnings=True, error_action=\"ignore\", max_p=6,\\\n",
    "            max_order=None, trace=False))\n",
    "\n"
   ]
  },
  {
   "cell_type": "code",
   "execution_count": 20,
   "id": "5142ec08-9f81-4e42-9d70-24d4ea235aa1",
   "metadata": {
    "tags": []
   },
   "outputs": [
    {
     "data": {
      "text/plain": [
       "{'no_smoothing': [ARIMA(order=(0, 1, 0), scoring_args={}, suppress_warnings=True,\n",
       "        with_intercept=False),\n",
       "  ARIMA(order=(0, 1, 0), scoring_args={}, suppress_warnings=True,\n",
       "        with_intercept=False),\n",
       "  ARIMA(order=(0, 1, 0), scoring_args={}, suppress_warnings=True,\n",
       "        with_intercept=False),\n",
       "  ARIMA(order=(0, 1, 0), scoring_args={}, suppress_warnings=True,\n",
       "        with_intercept=False),\n",
       "  ARIMA(order=(2, 1, 2), scoring_args={}, suppress_warnings=True),\n",
       "  ARIMA(order=(0, 1, 0), scoring_args={}, suppress_warnings=True,\n",
       "        with_intercept=False),\n",
       "  ARIMA(order=(0, 1, 0), scoring_args={}, suppress_warnings=True,\n",
       "        with_intercept=False),\n",
       "  ARIMA(order=(0, 1, 0), scoring_args={}, suppress_warnings=True,\n",
       "        with_intercept=False),\n",
       "  ARIMA(order=(2, 1, 2), scoring_args={}, suppress_warnings=True,\n",
       "        with_intercept=False),\n",
       "  ARIMA(order=(0, 1, 0), scoring_args={}, suppress_warnings=True,\n",
       "        with_intercept=False)],\n",
       " 'weekly_smoothing': [ARIMA(order=(0, 1, 1), scoring_args={}, suppress_warnings=True,\n",
       "        with_intercept=False),\n",
       "  ARIMA(order=(0, 1, 0), scoring_args={}, suppress_warnings=True,\n",
       "        with_intercept=False),\n",
       "  ARIMA(order=(0, 1, 0), scoring_args={}, suppress_warnings=True,\n",
       "        with_intercept=False),\n",
       "  ARIMA(order=(0, 1, 0), scoring_args={}, suppress_warnings=True,\n",
       "        with_intercept=False),\n",
       "  ARIMA(order=(0, 1, 0), scoring_args={}, suppress_warnings=True),\n",
       "  ARIMA(order=(0, 1, 0), scoring_args={}, suppress_warnings=True,\n",
       "        with_intercept=False),\n",
       "  ARIMA(order=(2, 1, 2), scoring_args={}, suppress_warnings=True,\n",
       "        with_intercept=False),\n",
       "  ARIMA(order=(0, 1, 0), scoring_args={}, suppress_warnings=True),\n",
       "  ARIMA(order=(0, 1, 1), scoring_args={}, suppress_warnings=True,\n",
       "        with_intercept=False),\n",
       "  ARIMA(order=(0, 1, 0), scoring_args={}, suppress_warnings=True,\n",
       "        with_intercept=False)],\n",
       " 'monthly_smoothing': [ARIMA(order=(0, 1, 0), scoring_args={}, suppress_warnings=True,\n",
       "        with_intercept=False),\n",
       "  ARIMA(order=(0, 1, 0), scoring_args={}, suppress_warnings=True,\n",
       "        with_intercept=False),\n",
       "  ARIMA(order=(0, 1, 0), scoring_args={}, suppress_warnings=True,\n",
       "        with_intercept=False),\n",
       "  ARIMA(order=(0, 1, 0), scoring_args={}, suppress_warnings=True,\n",
       "        with_intercept=False),\n",
       "  ARIMA(order=(0, 1, 0), scoring_args={}, suppress_warnings=True),\n",
       "  ARIMA(order=(0, 1, 0), scoring_args={}, suppress_warnings=True,\n",
       "        with_intercept=False),\n",
       "  ARIMA(order=(2, 1, 2), scoring_args={}, suppress_warnings=True),\n",
       "  ARIMA(order=(0, 1, 0), scoring_args={}, suppress_warnings=True),\n",
       "  ARIMA(order=(0, 1, 0), scoring_args={}, suppress_warnings=True,\n",
       "        with_intercept=False),\n",
       "  ARIMA(order=(0, 1, 0), scoring_args={}, suppress_warnings=True,\n",
       "        with_intercept=False)],\n",
       " 'quarterly_smoothing': [ARIMA(order=(1, 1, 1), scoring_args={}, suppress_warnings=True),\n",
       "  ARIMA(order=(0, 1, 0), scoring_args={}, suppress_warnings=True,\n",
       "        with_intercept=False),\n",
       "  ARIMA(order=(0, 1, 0), scoring_args={}, suppress_warnings=True),\n",
       "  ARIMA(order=(0, 1, 0), scoring_args={}, suppress_warnings=True,\n",
       "        with_intercept=False),\n",
       "  ARIMA(order=(0, 1, 0), scoring_args={}, suppress_warnings=True),\n",
       "  ARIMA(order=(0, 1, 0), scoring_args={}, suppress_warnings=True,\n",
       "        with_intercept=False),\n",
       "  ARIMA(order=(1, 1, 0), scoring_args={}, suppress_warnings=True),\n",
       "  ARIMA(order=(0, 1, 0), scoring_args={}, suppress_warnings=True),\n",
       "  ARIMA(order=(0, 1, 0), scoring_args={}, suppress_warnings=True,\n",
       "        with_intercept=False),\n",
       "  ARIMA(order=(0, 1, 0), scoring_args={}, suppress_warnings=True,\n",
       "        with_intercept=False)]}"
      ]
     },
     "execution_count": 20,
     "metadata": {},
     "output_type": "execute_result"
    }
   ],
   "source": [
    "trained_models"
   ]
  },
  {
   "cell_type": "code",
   "execution_count": 21,
   "id": "0587ddb0-60a4-4b74-b3ad-7b90b2738433",
   "metadata": {
    "tags": []
   },
   "outputs": [
    {
     "name": "stdout",
     "output_type": "stream",
     "text": [
      "91\n"
     ]
    }
   ],
   "source": [
    "# Find the number of periods to forcast the stock price between 2022-09-27 and 2022-12-27 \n",
    "from datetime import date\n",
    "\n",
    "d0 = date(2022, 9, 27)\n",
    "d1 = date(2022, 12, 27)\n",
    "delta = d1 - d0\n",
    "print(delta.days)\n",
    "\n",
    "daily_period = delta.days\n",
    "weekly_period = int(np.round(delta.days/7))\n",
    "monthly_period = int(np.round(delta.days/30))\n",
    "quaterly_period = 1\n",
    "\n",
    "all_periods = [daily_period, weekly_period, monthly_period, quaterly_period]"
   ]
  },
  {
   "cell_type": "code",
   "execution_count": 22,
   "id": "eac6ec99-6a95-465d-a608-7972a56318db",
   "metadata": {},
   "outputs": [
    {
     "name": "stdout",
     "output_type": "stream",
     "text": [
      "*** no_smoothing ***\n",
      "*** weekly_smoothing ***\n",
      "*** monthly_smoothing ***\n",
      "*** quarterly_smoothing ***\n",
      "{'no_smoothing': [(10.83310317993164, [9.906231782584186, 11.759974577279095]), (387.66937255859375, [374.3016119550061, 401.0371331621814]), (94.01812744140625, [88.96665344148434, 99.06960144132816]), (284.28399658203125, [269.9984807150695, 298.569512448993]), (9.231957854732425, [7.970264889610503, 10.493650819854347]), (167.742919921875, [161.4921202641543, 173.9937195795957]), (229.49566650390625, [223.32949660130265, 235.66183640650985]), (70.35098266601562, [65.6683276665744, 75.03363766545685]), (276.64817372525124, [267.00642135191794, 286.28992609858454]), (150.86502075195312, [144.77559473345386, 156.9544467704524])], 'weekly_smoothing': [(10.603706452972832, [8.95282966230736, 12.254583243638303]), (395.949462890625, [368.85273148378815, 423.04619429746185]), (94.78305206298828, [85.69871853433375, 103.8673855916428]), (292.34771118164065, [264.7070237247466, 319.9883986385347]), (8.956081647289041, [6.45499723952255, 11.457166055055533]), (171.81228637695312, [159.95167447966855, 183.6728982742377]), (232.98185042133892, [222.80888515212376, 243.15481569055407]), (71.23136883171237, [62.188043530919465, 80.27469413250529]), (281.00181763259224, [261.07916835111075, 300.9244669140737]), (150.9882843017578, [140.2095845235195, 161.7669840799961])], 'monthly_smoothing': [(13.104888916015625, [8.975070361131635, 17.234707470899615]), (429.3260759626116, [372.4242643724161, 486.2278875528071]), (99.79294259207589, [80.78104282344245, 118.80484236070933]), (315.18860299246654, [274.6497667627523, 355.7274392221808]), (8.611635699272156, [4.068583899655938, 13.154687498888375]), (182.34474908737909, [160.39163611606148, 204.2978620586967]), (244.14955956469225, [236.38427799951563, 251.91484112986888]), (74.78062505177088, [62.477032264547255, 87.0842178389945]), (308.23380679175966, [252.29060559388392, 364.1770079896354]), (154.32496061779204, [129.71331681650352, 178.93660441908057])], 'quarterly_smoothing': [(8.404545570571289, [8.116300107372115, 8.692791033770462]), (419.64741811444685, [363.82421217734293, 475.4706240515508]), (106.99850544045047, [91.26794287571346, 122.72906800518749]), (330.7995443036479, [305.11495156843046, 356.48413703886536]), (5.802699968379031, [2.1046866947676084, 9.500713241990454]), (188.32930337229084, [155.06038816980413, 221.59821857477755]), (254.06137678187184, [250.99712304539173, 257.12563051835195]), (75.11534992341073, [65.04815184153016, 85.18254800529131]), (309.05351946430824, [272.3859254661707, 345.72111346244577]), (156.2630140243038, [133.7178595325596, 178.808168516048])]}\n"
     ]
    }
   ],
   "source": [
    "def forecast_n_steps(n):\n",
    "    fc, conf_int = model.predict(n_periods=n, return_conf_int=True)\n",
    "    return (\n",
    "        fc.tolist()[0],\n",
    "        np.asarray(conf_int).tolist()[0])\n",
    "\n",
    "\n",
    "all_predictions = {}\n",
    "i = 0\n",
    "for k, models in trained_models.items():\n",
    "    print('*** ' + k + ' ***')\n",
    "    all_predictions[k] = []\n",
    "    for model in models:\n",
    "        all_predictions[k].append(forecast_n_steps(all_periods[i]))\n",
    "    i += 1\n",
    "    \n",
    "print(all_predictions)"
   ]
  },
  {
   "cell_type": "code",
   "execution_count": 26,
   "id": "8650524c-9819-4962-93ac-918715c8a37f",
   "metadata": {
    "tags": []
   },
   "outputs": [
    {
     "name": "stdout",
     "output_type": "stream",
     "text": [
      "{'no_smoothing': 427.0391708308466, 'weekly_smoothing': 344.20506863945144, 'monthly_smoothing': 469.8250620160129, 'quarterly_smoothing': 445.12577352491746}\n",
      "{'no_smoothing': 8.594192891427026, 'weekly_smoothing': 8.222827814185532, 'monthly_smoothing': 12.22963050314078, 'quarterly_smoothing': 14.268540266011001}\n"
     ]
    }
   ],
   "source": [
    "y_pred = {k:[pred[0] for pred in k_pred] for k, k_pred in all_predictions.items()}\n",
    "\n",
    "MSE = {}\n",
    "SMAPE = {}\n",
    "for smoothing, predictions in y_pred.items():\n",
    "    MSE[smoothing] = mean_squared_error(test_set, predictions)\n",
    "    SMAPE[smoothing] = smape(test_set, predictions)\n",
    "    \n",
    "print(MSE)\n",
    "print(SMAPE)"
   ]
  },
  {
   "cell_type": "code",
   "execution_count": 35,
   "id": "ff24eee2-876a-4b13-ad78-7787e832803f",
   "metadata": {
    "tags": []
   },
   "outputs": [
    {
     "data": {
      "image/png": "[encoded data removed]",
      "text/plain": [
       "<Figure size 640x480 with 1 Axes>"
      ]
     },
     "metadata": {},
     "output_type": "display_data"
    }
   ],
   "source": [
    "plt.plot([1, 7, 30, 90], SMAPE.values())\n",
    "plt.ylabel('SMAPE')\n",
    "plt.xlabel('Length of smoohting period')\n",
    "plt.title('Predictive Abilty of Different Smoothing Periods')\n",
    "plt.show()"
   ]
  },
  {
   "cell_type": "markdown",
   "id": "6528b9c4-a42b-462d-861a-48d2f6824002",
   "metadata": {
    "tags": []
   },
   "source": [
    "The above table shows the SMAPE (https://alkaline-ml.com/pmdarima/modules/generated/pmdarima.metrics.smape.html#pmdarima.metrics.smape) of diffrent smoothing periods. Smaller values of SMAPE can be interpreted as better predictive abilty. The week long smoothing period seems to show the best preformance followed by no smoothing. Monthly and quarterly smoothing show far worse performace than both weekly and daily smoohting.\n",
    "\n",
    "This shows that smoothing over smaller periods can lead to higher predictive abilty using the auto armia models. A larger dataset however is needed to select the optimal number. \n",
    "\n",
    "In my next script ARMIA_smoothing selection. I will find the optimal smoohting period (which based of the above graph I estimate to be between [1-14 days]) for the entire stock dataset using the same train and test periods. "
   ]
  }
 ],
 "metadata": {
  "kernelspec": {
   "display_name": "Python 3 (ipykernel)",
   "language": "python",
   "name": "python3"
  },
  "language_info": {
   "codemirror_mode": {
    "name": "ipython",
    "version": 3
   },
   "file_extension": ".py",
   "mimetype": "text/x-python",
   "name": "python",
   "nbconvert_exporter": "python",
   "pygments_lexer": "ipython3",
   "version": "3.11.5"
  }
 },
 "nbformat": 4,
 "nbformat_minor": 5
}
