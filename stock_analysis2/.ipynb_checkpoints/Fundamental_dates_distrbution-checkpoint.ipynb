{
 "cells": [
  {
   "cell_type": "code",
   "execution_count": 2,
   "id": "24909ae2-aae7-4688-9a57-adc2828ab0b4",
   "metadata": {
    "tags": []
   },
   "outputs": [],
   "source": [
    "import os \n",
    "os.chdir('/Users/marcs')"
   ]
  },
  {
   "cell_type": "code",
   "execution_count": 3,
   "id": "599668a0-ba41-4f0d-b285-c6168e894b7a",
   "metadata": {
    "tags": []
   },
   "outputs": [],
   "source": [
    "import matplotlib.pyplot as plt\n",
    "from pickle_loader import pickle_loader\n",
    "import datetime as dt\n",
    "import pandas as pd"
   ]
  },
  {
   "cell_type": "code",
   "execution_count": 5,
   "id": "4dcb1b6b-e3f0-4516-92c6-bc605b64c93b",
   "metadata": {
    "tags": []
   },
   "outputs": [],
   "source": [
    "fundamental_data = pickle_loader('/Users/marcs/OneDrive/Documents/stock_analysis2/final_fundamental_dict.pickle')"
   ]
  },
  {
   "cell_type": "code",
   "execution_count": 40,
   "id": "95f7c184-6b4f-40c2-92b5-5d040e60eb6d",
   "metadata": {
    "tags": []
   },
   "outputs": [
    {
     "data": {
      "text/html": [
       "<div>\n",
       "<style scoped>\n",
       "    .dataframe tbody tr th:only-of-type {\n",
       "        vertical-align: middle;\n",
       "    }\n",
       "\n",
       "    .dataframe tbody tr th {\n",
       "        vertical-align: top;\n",
       "    }\n",
       "\n",
       "    .dataframe thead th {\n",
       "        text-align: right;\n",
       "    }\n",
       "</style>\n",
       "<table border=\"1\" class=\"dataframe\">\n",
       "  <thead>\n",
       "    <tr style=\"text-align: right;\">\n",
       "      <th></th>\n",
       "      <th>2023-06-30</th>\n",
       "      <th>2023-03-31</th>\n",
       "      <th>2022-12-31</th>\n",
       "      <th>2022-09-30</th>\n",
       "    </tr>\n",
       "  </thead>\n",
       "  <tbody>\n",
       "    <tr>\n",
       "      <th>Treasury Shares Number</th>\n",
       "      <td>392040626.0</td>\n",
       "      <td>392360839.0</td>\n",
       "      <td>394787951.0</td>\n",
       "      <td>NaN</td>\n",
       "    </tr>\n",
       "    <tr>\n",
       "      <th>Ordinary Shares Number</th>\n",
       "      <td>551992430.0</td>\n",
       "      <td>551672217.0</td>\n",
       "      <td>549245105.0</td>\n",
       "      <td>552742915.0</td>\n",
       "    </tr>\n",
       "    <tr>\n",
       "      <th>Share Issued</th>\n",
       "      <td>944033056.0</td>\n",
       "      <td>944033056.0</td>\n",
       "      <td>944033056.0</td>\n",
       "      <td>552742915.0</td>\n",
       "    </tr>\n",
       "    <tr>\n",
       "      <th>Net Debt</th>\n",
       "      <td>11729000000.0</td>\n",
       "      <td>12136000000.0</td>\n",
       "      <td>12284000000.0</td>\n",
       "      <td>12301000000.0</td>\n",
       "    </tr>\n",
       "    <tr>\n",
       "      <th>Total Debt</th>\n",
       "      <td>16231000000.0</td>\n",
       "      <td>16223000000.0</td>\n",
       "      <td>16200000000.0</td>\n",
       "      <td>16516000000.0</td>\n",
       "    </tr>\n",
       "    <tr>\n",
       "      <th>...</th>\n",
       "      <td>...</td>\n",
       "      <td>...</td>\n",
       "      <td>...</td>\n",
       "      <td>...</td>\n",
       "    </tr>\n",
       "    <tr>\n",
       "      <th>Depreciation And Amortization</th>\n",
       "      <td>449000000.0</td>\n",
       "      <td>466000000.0</td>\n",
       "      <td>460000000.0</td>\n",
       "      <td>450000000.0</td>\n",
       "    </tr>\n",
       "    <tr>\n",
       "      <th>Operating Gains Losses</th>\n",
       "      <td>38000000.0</td>\n",
       "      <td>37000000.0</td>\n",
       "      <td>54000000.0</td>\n",
       "      <td>-2683000000.0</td>\n",
       "    </tr>\n",
       "    <tr>\n",
       "      <th>Pension And Employee Benefit Expense</th>\n",
       "      <td>38000000.0</td>\n",
       "      <td>37000000.0</td>\n",
       "      <td>54000000.0</td>\n",
       "      <td>41000000.0</td>\n",
       "    </tr>\n",
       "    <tr>\n",
       "      <th>Gain Loss On Sale Of Business</th>\n",
       "      <td>NaN</td>\n",
       "      <td>NaN</td>\n",
       "      <td>0.0</td>\n",
       "      <td>NaN</td>\n",
       "    </tr>\n",
       "    <tr>\n",
       "      <th>Net Income From Continuing Operations</th>\n",
       "      <td>-6836000000.0</td>\n",
       "      <td>981000000.0</td>\n",
       "      <td>543000000.0</td>\n",
       "      <td>3863000000.0</td>\n",
       "    </tr>\n",
       "  </tbody>\n",
       "</table>\n",
       "<p>190 rows × 4 columns</p>\n",
       "</div>"
      ],
      "text/plain": [
       "                                          2023-06-30     2023-03-31  \\\n",
       "Treasury Shares Number                   392040626.0    392360839.0   \n",
       "Ordinary Shares Number                   551992430.0    551672217.0   \n",
       "Share Issued                             944033056.0    944033056.0   \n",
       "Net Debt                               11729000000.0  12136000000.0   \n",
       "Total Debt                             16231000000.0  16223000000.0   \n",
       "...                                              ...            ...   \n",
       "Depreciation And Amortization            449000000.0    466000000.0   \n",
       "Operating Gains Losses                    38000000.0     37000000.0   \n",
       "Pension And Employee Benefit Expense      38000000.0     37000000.0   \n",
       "Gain Loss On Sale Of Business                    NaN            NaN   \n",
       "Net Income From Continuing Operations  -6836000000.0    981000000.0   \n",
       "\n",
       "                                          2022-12-31     2022-09-30  \n",
       "Treasury Shares Number                   394787951.0            NaN  \n",
       "Ordinary Shares Number                   549245105.0    552742915.0  \n",
       "Share Issued                             944033056.0    552742915.0  \n",
       "Net Debt                               12284000000.0  12301000000.0  \n",
       "Total Debt                             16200000000.0  16516000000.0  \n",
       "...                                              ...            ...  \n",
       "Depreciation And Amortization            460000000.0    450000000.0  \n",
       "Operating Gains Losses                    54000000.0  -2683000000.0  \n",
       "Pension And Employee Benefit Expense      54000000.0     41000000.0  \n",
       "Gain Loss On Sale Of Business                    0.0            NaN  \n",
       "Net Income From Continuing Operations    543000000.0   3863000000.0  \n",
       "\n",
       "[190 rows x 4 columns]"
      ]
     },
     "execution_count": 40,
     "metadata": {},
     "output_type": "execute_result"
    }
   ],
   "source": [
    "fundamental_data['MMM']"
   ]
  },
  {
   "cell_type": "code",
   "execution_count": 24,
   "id": "0c43129c-b845-4f06-bad5-f097198de26b",
   "metadata": {
    "tags": []
   },
   "outputs": [
    {
     "data": {
      "text/plain": [
       "'30-06-2023'"
      ]
     },
     "execution_count": 24,
     "metadata": {},
     "output_type": "execute_result"
    }
   ],
   "source": [
    "list(fundamental_data['MMM'].columns)[0].strftime('%d-%m-%Y')"
   ]
  },
  {
   "cell_type": "code",
   "execution_count": 25,
   "id": "645ce6b4-5f16-4164-9c34-db54af37cbd5",
   "metadata": {
    "tags": []
   },
   "outputs": [],
   "source": [
    "All_dates = [list(data.columns)[-4:] for stock, data in fundamental_data.items()] # Only last 4 quarters used "
   ]
  },
  {
   "cell_type": "code",
   "execution_count": null,
   "id": "913f1e80-f669-48cf-bc61-7f8cc77940d8",
   "metadata": {},
   "outputs": [],
   "source": []
  },
  {
   "cell_type": "code",
   "execution_count": 41,
   "id": "2d5c0e81-5875-4cd8-81a9-890f49f794e0",
   "metadata": {
    "tags": []
   },
   "outputs": [],
   "source": [
    "first_date = [stock_date[3].strftime('%d-%m-%Y') for stock_date in All_dates]\n",
    "last_date = [stock_date[0].strftime('%d-%m-%Y') for stock_date in All_dates]"
   ]
  },
  {
   "cell_type": "code",
   "execution_count": 42,
   "id": "0e995454-d759-4ac5-9ac1-5936f4ce7408",
   "metadata": {
    "tags": []
   },
   "outputs": [],
   "source": [
    "from collections import Counter\n",
    "\n",
    "\n",
    "first_date_count = Counter(first_date)\n",
    "last_date_count = Counter(last_date)"
   ]
  },
  {
   "cell_type": "code",
   "execution_count": 43,
   "id": "b553de72-8654-44c2-98e9-cfaa150485a1",
   "metadata": {
    "tags": []
   },
   "outputs": [
    {
     "data": {
      "text/plain": [
       "Counter({'30-09-2022': 410, '31-07-2022': 33, '31-08-2022': 16})"
      ]
     },
     "execution_count": 43,
     "metadata": {},
     "output_type": "execute_result"
    }
   ],
   "source": [
    "first_date_count"
   ]
  },
  {
   "cell_type": "code",
   "execution_count": 44,
   "id": "8d30b137-4788-4ffb-aed5-0b15dcc7d0e9",
   "metadata": {
    "tags": []
   },
   "outputs": [
    {
     "data": {
      "text/plain": [
       "Counter({'30-06-2023': 410, '30-04-2023': 33, '31-05-2023': 16})"
      ]
     },
     "execution_count": 44,
     "metadata": {},
     "output_type": "execute_result"
    }
   ],
   "source": [
    "last_date_count"
   ]
  }
 ],
 "metadata": {
  "kernelspec": {
   "display_name": "Python 3 (ipykernel)",
   "language": "python",
   "name": "python3"
  },
  "language_info": {
   "codemirror_mode": {
    "name": "ipython",
    "version": 3
   },
   "file_extension": ".py",
   "mimetype": "text/x-python",
   "name": "python",
   "nbconvert_exporter": "python",
   "pygments_lexer": "ipython3",
   "version": "3.11.5"
  }
 },
 "nbformat": 4,
 "nbformat_minor": 5
}
