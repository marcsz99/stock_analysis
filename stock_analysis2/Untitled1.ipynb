{
 "cells": [
  {
   "cell_type": "code",
   "execution_count": 2,
   "id": "734196c2-0b3b-4e09-bae5-b8ba3193941c",
   "metadata": {
    "tags": []
   },
   "outputs": [],
   "source": [
    "import miceforest as mf\n",
    "from sklearn.datasets import load_iris\n",
    "import pandas as pd\n",
    "import numpy as np\n",
    "\n",
    "# Load data and introduce missing values\n",
    "iris = pd.concat(load_iris(as_frame=True,return_X_y=True),axis=1)\n",
    "iris.rename({\"target\": \"species\"}, inplace=True, axis=1)\n",
    "iris['species'] = iris['species'].astype('category')\n",
    "iris_amp = mf.ampute_data(iris,perc=0.25,random_state=1991)"
   ]
  },
  {
   "cell_type": "code",
   "execution_count": null,
   "id": "39aa8a69-b9b6-47a8-9ede-6e14bd92ff77",
   "metadata": {},
   "outputs": [],
   "source": []
  }
 ],
 "metadata": {
  "kernelspec": {
   "display_name": "Python 3 (ipykernel)",
   "language": "python",
   "name": "python3"
  },
  "language_info": {
   "codemirror_mode": {
    "name": "ipython",
    "version": 3
   },
   "file_extension": ".py",
   "mimetype": "text/x-python",
   "name": "python",
   "nbconvert_exporter": "python",
   "pygments_lexer": "ipython3",
   "version": "3.11.5"
  }
 },
 "nbformat": 4,
 "nbformat_minor": 5
}
