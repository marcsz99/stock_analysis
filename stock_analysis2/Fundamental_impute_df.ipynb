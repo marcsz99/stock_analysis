{
 "cells": [
  {
   "cell_type": "code",
   "execution_count": 6,
   "id": "9c58c41a-6596-4720-8cd5-e4d8e22a1b9a",
   "metadata": {
    "tags": []
   },
   "outputs": [],
   "source": [
    "import os \n",
    "os.chdir('/Users/marcs')"
   ]
  },
  {
   "cell_type": "code",
   "execution_count": 7,
   "id": "88d5d375-af3f-4777-b259-ec5a3a200b52",
   "metadata": {
    "tags": []
   },
   "outputs": [],
   "source": [
    "import miceforest as mf\n",
    "import pandas as pd\n",
    "import pickle\n",
    "from pickle_loader import pickle_loader\n",
    "import numpy as np"
   ]
  },
  {
   "cell_type": "code",
   "execution_count": 8,
   "id": "39ba0dfd-08b6-486a-9b3f-10b9f30e9f1c",
   "metadata": {
    "tags": []
   },
   "outputs": [],
   "source": [
    "array_non_impute = pickle_loader('/Users/marcs/OneDrive/Documents/stock_analysis2/array_non_impute.pickle')"
   ]
  },
  {
   "cell_type": "code",
   "execution_count": 3,
   "id": "46b129f4-91e2-4ce1-a28e-2e7909b3ace9",
   "metadata": {
    "tags": []
   },
   "outputs": [],
   "source": [
    "def get_impute_data(quarter_non_impute_array, num_datasets = 5, num_iter = 10):\n",
    "    \n",
    "    kds = mf.ImputationKernel(\n",
    "        quarter_non_impute_array,\n",
    "        save_all_iterations=True,\n",
    "        datasets = num_datasets,\n",
    "        random_state=1991\n",
    "        )\n",
    "    kds.mice(num_iter)\n",
    "    \n",
    "    fundamental_complete = [kds.complete_data(dataset=i) for i in range(num_datasets)]\n",
    "    impute_array = sum(fundamental_complete).div(num_datasets)\n",
    "    \n",
    "    return impute_array"
   ]
  },
  {
   "cell_type": "code",
   "execution_count": 9,
   "id": "b79ffef8-a205-42a2-84a4-371b11fe7a5a",
   "metadata": {
    "tags": []
   },
   "outputs": [],
   "source": [
    "test = get_impute_data(array_non_impute[0])"
   ]
  },
  {
   "cell_type": "code",
   "execution_count": 28,
   "id": "0cc1ac6a-4e0e-463c-9487-4f1e1573deb2",
   "metadata": {
    "tags": []
   },
   "outputs": [
    {
     "data": {
      "text/plain": [
       "MMM     0.000000\n",
       "AOS     0.000000\n",
       "ABT    -0.503819\n",
       "ABBV    0.000000\n",
       "ACN          NaN\n",
       "ATVI         NaN\n",
       "ADM    -0.703325\n",
       "ADBE         NaN\n",
       "ADP     0.000000\n",
       "AES     0.000000\n",
       "AFL    -0.735294\n",
       "A       0.000000\n",
       "APD     0.000000\n",
       "AKAM   -0.443038\n",
       "ALK     0.000000\n",
       "ALB    -0.085179\n",
       "ALGN    0.000000\n",
       "ALLE    0.000000\n",
       "LNT     0.000000\n",
       "ALL    -1.542289\n",
       "Name: Capital Stock, dtype: float64"
      ]
     },
     "execution_count": 28,
     "metadata": {},
     "output_type": "execute_result"
    }
   ],
   "source": [
    "array_non_impute[0].iloc[:20, 8]"
   ]
  },
  {
   "cell_type": "code",
   "execution_count": 21,
   "id": "00a3986c-dfb8-4101-9585-ff6368c852c0",
   "metadata": {
    "tags": []
   },
   "outputs": [
    {
     "data": {
      "text/plain": [
       "MMM     0.000000\n",
       "AOS     0.000000\n",
       "ABT    -0.503819\n",
       "ABBV    0.000000\n",
       "ACN    -0.241429\n",
       "ATVI   -0.100764\n",
       "ADM    -0.703325\n",
       "ADBE   -0.241429\n",
       "ADP     0.000000\n",
       "AES     0.000000\n",
       "AFL    -0.735294\n",
       "A       0.000000\n",
       "APD     0.000000\n",
       "AKAM   -0.443038\n",
       "ALK     0.000000\n",
       "ALB    -0.085179\n",
       "ALGN    0.000000\n",
       "ALLE    0.000000\n",
       "LNT     0.000000\n",
       "ALL    -1.542289\n",
       "Name: Capital Stock, dtype: float64"
      ]
     },
     "execution_count": 21,
     "metadata": {},
     "output_type": "execute_result"
    }
   ],
   "source": [
    "test.iloc[:20, 8]"
   ]
  },
  {
   "cell_type": "code",
   "execution_count": 22,
   "id": "d316c1f0-73ce-41d5-a6b5-33f2f6d7fe1d",
   "metadata": {
    "tags": []
   },
   "outputs": [
    {
     "name": "stdout",
     "output_type": "stream",
     "text": [
      "33.33333333333333 % Complete\n",
      "66.66666666666666 % Complete\n",
      "100.0 % Complete\n"
     ]
    }
   ],
   "source": [
    "imputed_dataset_fundamental = []\n",
    "\n",
    "for i, arr in enumerate(array_non_impute):\n",
    "    imputed_dataset_fundamental.append(get_impute_data(arr))\n",
    "    print(((i + 1) / len(array_non_impute)) * 100 , '% Complete')"
   ]
  },
  {
   "cell_type": "code",
   "execution_count": 24,
   "id": "dd975493-8799-4b34-807c-f80e517fbc15",
   "metadata": {
    "tags": []
   },
   "outputs": [
    {
     "data": {
      "text/plain": [
       "MMM     0.000000\n",
       "AOS     0.000000\n",
       "ABT    -0.503819\n",
       "ABBV    0.000000\n",
       "ACN    -0.241429\n",
       "ATVI   -0.100764\n",
       "ADM    -0.703325\n",
       "ADBE   -0.241429\n",
       "ADP     0.000000\n",
       "AES     0.000000\n",
       "AFL    -0.735294\n",
       "A       0.000000\n",
       "APD     0.000000\n",
       "AKAM   -0.443038\n",
       "ALK     0.000000\n",
       "ALB    -0.085179\n",
       "ALGN    0.000000\n",
       "ALLE    0.000000\n",
       "LNT     0.000000\n",
       "ALL    -1.542289\n",
       "Name: Capital Stock, dtype: float64"
      ]
     },
     "execution_count": 24,
     "metadata": {},
     "output_type": "execute_result"
    }
   ],
   "source": [
    "imputed_dataset_fundamental[0].iloc[:20, 8]"
   ]
  },
  {
   "cell_type": "code",
   "execution_count": 26,
   "id": "29d4b880-7dfa-47e0-8213-73a78638a297",
   "metadata": {
    "tags": []
   },
   "outputs": [
    {
     "data": {
      "text/plain": [
       "MMM       0.000000\n",
       "AOS       0.033910\n",
       "ABT      -0.603019\n",
       "ABBV      0.000000\n",
       "ACN       0.000000\n",
       "ATVI     -0.482415\n",
       "ADM      -1.175723\n",
       "ADBE     -0.415296\n",
       "ADP       0.000000\n",
       "AES       0.000000\n",
       "AFL       0.000000\n",
       "A         0.000000\n",
       "APD       0.000000\n",
       "AKAM      3.642173\n",
       "ALK       0.000000\n",
       "ALB      -0.085324\n",
       "ALGN      0.000000\n",
       "ALLE      0.000000\n",
       "LNT       0.000000\n",
       "ALL     190.247600\n",
       "Name: Capital Stock, dtype: float64"
      ]
     },
     "execution_count": 26,
     "metadata": {},
     "output_type": "execute_result"
    }
   ],
   "source": [
    "imputed_dataset_fundamental[2].iloc[:20, 8]"
   ]
  },
  {
   "cell_type": "code",
   "execution_count": 29,
   "id": "fc833f3c-335c-48dc-a497-f201ed9c4e1c",
   "metadata": {
    "tags": []
   },
   "outputs": [],
   "source": [
    "with open(\"/Users/marcs/OneDrive/Documents/stock_analysis2/imputed_dataset_fundamental.pickle\", 'wb') as f:\n",
    "        pickle.dump(imputed_dataset_fundamental, f)"
   ]
  }
 ],
 "metadata": {
  "kernelspec": {
   "display_name": "Python 3 (ipykernel)",
   "language": "python",
   "name": "python3"
  },
  "language_info": {
   "codemirror_mode": {
    "name": "ipython",
    "version": 3
   },
   "file_extension": ".py",
   "mimetype": "text/x-python",
   "name": "python",
   "nbconvert_exporter": "python",
   "pygments_lexer": "ipython3",
   "version": "3.11.5"
  }
 },
 "nbformat": 4,
 "nbformat_minor": 5
}
