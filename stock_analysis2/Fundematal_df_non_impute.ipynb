{
 "cells": [
  {
   "cell_type": "code",
   "execution_count": 1,
   "id": "6bfb02cf-4426-4912-8f18-a3a73a840fc0",
   "metadata": {},
   "outputs": [],
   "source": [
    "import os \n",
    "os.chdir('/Users/marcs')"
   ]
  },
  {
   "cell_type": "code",
   "execution_count": 2,
   "id": "7f47ff9e-5b6c-4454-a3f8-8691a5757d34",
   "metadata": {
    "tags": []
   },
   "outputs": [],
   "source": [
    "import pandas as pd\n",
    "import pickle\n",
    "from pickle_loader import pickle_loader\n",
    "import numpy as np"
   ]
  },
  {
   "cell_type": "code",
   "execution_count": 7,
   "id": "6d8656e3-ed35-46a6-904e-c790e9f564bf",
   "metadata": {
    "tags": []
   },
   "outputs": [],
   "source": [
    "final_fundamental_dict = pickle_loader('/Users/marcs/OneDrive/Documents/stock_analysis2/final_fundamental_dict.pickle')\n",
    "modeling_attributes = pickle_loader(\"/Users/marcs/OneDrive/Documents/stock_analysis2/fundamental_modeling_attributes.pickle\")"
   ]
  },
  {
   "cell_type": "code",
   "execution_count": 13,
   "id": "876d40f6-0f54-4f0d-9123-915f7c16fa1c",
   "metadata": {
    "tags": []
   },
   "outputs": [
    {
     "data": {
      "text/plain": [
       "{'Accounts Receivable',\n",
       " 'Basic Average Shares',\n",
       " 'Basic EPS',\n",
       " 'Beginning Cash Position',\n",
       " 'Capital Expenditure',\n",
       " 'Capital Stock',\n",
       " 'Cash And Cash Equivalents',\n",
       " 'Cash Cash Equivalents And Short Term Investments',\n",
       " 'Cash Flow From Continuing Financing Activities',\n",
       " 'Cash Flow From Continuing Investing Activities',\n",
       " 'Cash Flow From Continuing Operating Activities',\n",
       " 'Change In Working Capital',\n",
       " 'Changes In Cash',\n",
       " 'Common Stock',\n",
       " 'Common Stock Equity',\n",
       " 'Current Assets',\n",
       " 'Current Liabilities',\n",
       " 'Diluted Average Shares',\n",
       " 'Diluted EPS',\n",
       " 'Diluted NI Availto Com Stockholders',\n",
       " 'EBIT',\n",
       " 'End Cash Position',\n",
       " 'Financing Cash Flow',\n",
       " 'Free Cash Flow',\n",
       " 'Gains Losses Not Affecting Retained Earnings',\n",
       " 'Invested Capital',\n",
       " 'Investing Cash Flow',\n",
       " 'Long Term Debt',\n",
       " 'Long Term Debt And Capital Lease Obligation',\n",
       " 'Net Income',\n",
       " 'Net Income Common Stockholders',\n",
       " 'Net Income Continuous Operations',\n",
       " 'Net Income From Continuing And Discontinued Operation',\n",
       " 'Net Income From Continuing Operation Net Minority Interest',\n",
       " 'Net Income From Continuing Operations',\n",
       " 'Net Income Including Noncontrolling Interests',\n",
       " 'Net Interest Income',\n",
       " 'Net PPE',\n",
       " 'Net Tangible Assets',\n",
       " 'Normalized Income',\n",
       " 'Operating Cash Flow',\n",
       " 'Operating Revenue',\n",
       " 'Ordinary Shares Number',\n",
       " 'Payables And Accrued Expenses',\n",
       " 'Pretax Income',\n",
       " 'Receivables',\n",
       " 'Retained Earnings',\n",
       " 'Share Issued',\n",
       " 'Stockholders Equity',\n",
       " 'Tangible Book Value',\n",
       " 'Tax Effect Of Unusual Items',\n",
       " 'Tax Provision',\n",
       " 'Tax Rate For Calcs',\n",
       " 'Total Assets',\n",
       " 'Total Capitalization',\n",
       " 'Total Debt',\n",
       " 'Total Equity Gross Minority Interest',\n",
       " 'Total Expenses',\n",
       " 'Total Liabilities Net Minority Interest',\n",
       " 'Total Non Current Assets',\n",
       " 'Total Revenue',\n",
       " 'Working Capital'}"
      ]
     },
     "execution_count": 13,
     "metadata": {},
     "output_type": "execute_result"
    }
   ],
   "source": [
    "modeling_attributes"
   ]
  },
  {
   "cell_type": "code",
   "execution_count": 8,
   "id": "34b84ae6-8c70-4aa4-9d0c-03608f8aafdd",
   "metadata": {
    "tags": []
   },
   "outputs": [],
   "source": [
    "def percentage_diff(arr):\n",
    "    x1 = arr[1:]\n",
    "    x0 = arr[:-1]\n",
    "    \n",
    "    np.seterr(divide='ignore', invalid='ignore')\n",
    "    diff = ((x1 - x0) / x0) * 100 \n",
    "    return diff"
   ]
  },
  {
   "cell_type": "code",
   "execution_count": null,
   "id": "c2bd5af2-24ab-4ce9-bd55-457748e647c7",
   "metadata": {},
   "outputs": [],
   "source": []
  },
  {
   "cell_type": "code",
   "execution_count": 9,
   "id": "107a503f-8f0f-4288-8a95-70ae13756219",
   "metadata": {
    "tags": []
   },
   "outputs": [],
   "source": [
    "def get_non_impute_data(final_fundamental_dict, modeling_attributes):\n",
    "    \n",
    "    tickers = list(final_fundamental_dict.keys())\n",
    "    final_dataset = {}\n",
    "    \n",
    "    for ticker in tickers:\n",
    "        data = final_fundamental_dict[ticker]\n",
    "        ticker_attr = set(data.index)\n",
    "        final_ticker_dataset = np.zeros((len(modeling_attributes), 3))\n",
    "        \n",
    "        for i, attr in enumerate(modeling_attributes):\n",
    "            if attr in ticker_attr:\n",
    "                attr_array = np.array(list(data.loc[attr]))\n",
    "                #print(ticker, attr, attr_array)\n",
    "                if len(attr_array) > 4:\n",
    "                    attr_array = attr_array[:-1]\n",
    "                \n",
    "                attr_array = percentage_diff(attr_array)\n",
    "                final_ticker_dataset[i, :] = attr_array\n",
    "            else:\n",
    "                attr_array = np.full(3, np.nan)\n",
    "                final_ticker_dataset[i, :] = attr_array\n",
    "            \n",
    "        final_ticker_df = pd.DataFrame(final_ticker_dataset, columns = ['Q1', 'Q2', 'Q3'], index = list(modeling_attributes))\n",
    "        final_dataset[ticker] = final_ticker_df\n",
    "    \n",
    "    return final_dataset"
   ]
  },
  {
   "cell_type": "code",
   "execution_count": null,
   "id": "af92df04-8e57-4a02-b365-85906f5bba2e",
   "metadata": {},
   "outputs": [],
   "source": []
  },
  {
   "cell_type": "code",
   "execution_count": 10,
   "id": "b03a00ef-b727-4691-b226-6896fae8622d",
   "metadata": {
    "tags": []
   },
   "outputs": [],
   "source": [
    "final_dataset_non_impute = get_non_impute_data(final_fundamental_dict, modeling_attributes)"
   ]
  },
  {
   "cell_type": "code",
   "execution_count": 16,
   "id": "41b59079-ed19-42ba-9a49-bed2bd67effc",
   "metadata": {
    "tags": []
   },
   "outputs": [
    {
     "data": {
      "text/plain": [
       "Index(['Basic Average Shares', 'EBIT', 'Invested Capital',\n",
       "       'Diluted Average Shares', 'Diluted NI Availto Com Stockholders',\n",
       "       'Cash Cash Equivalents And Short Term Investments',\n",
       "       'Cash And Cash Equivalents', 'Financing Cash Flow', 'Capital Stock',\n",
       "       'Net Interest Income', 'Stockholders Equity', 'Free Cash Flow',\n",
       "       'Normalized Income', 'Cash Flow From Continuing Financing Activities',\n",
       "       'Net Income', 'Ordinary Shares Number', 'Operating Cash Flow',\n",
       "       'Cash Flow From Continuing Operating Activities', 'Common Stock',\n",
       "       'Net Income Continuous Operations', 'Net Tangible Assets',\n",
       "       'Total Non Current Assets', 'Capital Expenditure',\n",
       "       'Total Liabilities Net Minority Interest', 'Long Term Debt',\n",
       "       'Tangible Book Value', 'Share Issued', 'Investing Cash Flow',\n",
       "       'Change In Working Capital', 'Total Debt', 'Basic EPS', 'Tax Provision',\n",
       "       'End Cash Position', 'Tax Effect Of Unusual Items',\n",
       "       'Gains Losses Not Affecting Retained Earnings', 'Retained Earnings',\n",
       "       'Operating Revenue', 'Payables And Accrued Expenses',\n",
       "       'Current Liabilities', 'Current Assets',\n",
       "       'Net Income Including Noncontrolling Interests', 'Accounts Receivable',\n",
       "       'Working Capital', 'Total Assets', 'Receivables', 'Diluted EPS',\n",
       "       'Tax Rate For Calcs', 'Net Income Common Stockholders',\n",
       "       'Cash Flow From Continuing Investing Activities',\n",
       "       'Beginning Cash Position', 'Pretax Income', 'Total Expenses',\n",
       "       'Changes In Cash', 'Total Capitalization', 'Total Revenue',\n",
       "       'Total Equity Gross Minority Interest',\n",
       "       'Net Income From Continuing And Discontinued Operation',\n",
       "       'Net Income From Continuing Operation Net Minority Interest',\n",
       "       'Common Stock Equity', 'Net Income From Continuing Operations',\n",
       "       'Net PPE', 'Long Term Debt And Capital Lease Obligation'],\n",
       "      dtype='object')"
      ]
     },
     "execution_count": 16,
     "metadata": {},
     "output_type": "execute_result"
    }
   ],
   "source": [
    "final_dataset_non_impute['ACN'].index"
   ]
  },
  {
   "cell_type": "code",
   "execution_count": 12,
   "id": "839a65e1-6883-410f-8ad8-f7aeb7ae3fc8",
   "metadata": {
    "tags": []
   },
   "outputs": [],
   "source": [
    "with open(\"/Users/marcs/OneDrive/Documents/stock_analysis2/final_dataset_non_impute.pickle\", 'wb') as f:\n",
    "        pickle.dump(final_dataset_non_impute, f)"
   ]
  }
 ],
 "metadata": {
  "kernelspec": {
   "display_name": "Python 3 (ipykernel)",
   "language": "python",
   "name": "python3"
  },
  "language_info": {
   "codemirror_mode": {
    "name": "ipython",
    "version": 3
   },
   "file_extension": ".py",
   "mimetype": "text/x-python",
   "name": "python",
   "nbconvert_exporter": "python",
   "pygments_lexer": "ipython3",
   "version": "3.11.5"
  }
 },
 "nbformat": 4,
 "nbformat_minor": 5
}
