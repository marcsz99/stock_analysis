{
 "cells": [
  {
   "cell_type": "code",
   "execution_count": 1,
   "id": "7f47ff9e-5b6c-4454-a3f8-8691a5757d34",
   "metadata": {
    "tags": []
   },
   "outputs": [],
   "source": [
    "import pandas as pd\n",
    "import pickle\n",
    "from pickle_loader import pickle_loader\n",
    "import numpy as np"
   ]
  },
  {
   "cell_type": "code",
   "execution_count": 2,
   "id": "6d8656e3-ed35-46a6-904e-c790e9f564bf",
   "metadata": {
    "tags": []
   },
   "outputs": [],
   "source": [
    "final_fundamental_dict = pickle_loader('final_fundamental_dict.pickle')\n",
    "modeling_attributes = pickle_loader(\"fundamental_modeling_attributes.pickle\")"
   ]
  },
  {
   "cell_type": "code",
   "execution_count": 3,
   "id": "876d40f6-0f54-4f0d-9123-915f7c16fa1c",
   "metadata": {
    "tags": []
   },
   "outputs": [
    {
     "data": {
      "text/plain": [
       "{'Accounts Receivable',\n",
       " 'Basic Average Shares',\n",
       " 'Basic EPS',\n",
       " 'Beginning Cash Position',\n",
       " 'Capital Expenditure',\n",
       " 'Capital Stock',\n",
       " 'Cash And Cash Equivalents',\n",
       " 'Cash Cash Equivalents And Short Term Investments',\n",
       " 'Cash Flow From Continuing Financing Activities',\n",
       " 'Cash Flow From Continuing Investing Activities',\n",
       " 'Cash Flow From Continuing Operating Activities',\n",
       " 'Change In Working Capital',\n",
       " 'Changes In Cash',\n",
       " 'Common Stock',\n",
       " 'Common Stock Equity',\n",
       " 'Current Assets',\n",
       " 'Current Liabilities',\n",
       " 'Diluted Average Shares',\n",
       " 'Diluted EPS',\n",
       " 'Diluted NI Availto Com Stockholders',\n",
       " 'EBIT',\n",
       " 'End Cash Position',\n",
       " 'Financing Cash Flow',\n",
       " 'Free Cash Flow',\n",
       " 'Gains Losses Not Affecting Retained Earnings',\n",
       " 'Invested Capital',\n",
       " 'Investing Cash Flow',\n",
       " 'Long Term Debt',\n",
       " 'Long Term Debt And Capital Lease Obligation',\n",
       " 'Net Income',\n",
       " 'Net Income Common Stockholders',\n",
       " 'Net Income Continuous Operations',\n",
       " 'Net Income From Continuing And Discontinued Operation',\n",
       " 'Net Income From Continuing Operation Net Minority Interest',\n",
       " 'Net Income From Continuing Operations',\n",
       " 'Net Income Including Noncontrolling Interests',\n",
       " 'Net Interest Income',\n",
       " 'Net PPE',\n",
       " 'Net Tangible Assets',\n",
       " 'Normalized Income',\n",
       " 'Operating Cash Flow',\n",
       " 'Operating Revenue',\n",
       " 'Ordinary Shares Number',\n",
       " 'Payables And Accrued Expenses',\n",
       " 'Pretax Income',\n",
       " 'Receivables',\n",
       " 'Retained Earnings',\n",
       " 'Share Issued',\n",
       " 'Stockholders Equity',\n",
       " 'Tangible Book Value',\n",
       " 'Tax Effect Of Unusual Items',\n",
       " 'Tax Provision',\n",
       " 'Tax Rate For Calcs',\n",
       " 'Total Assets',\n",
       " 'Total Capitalization',\n",
       " 'Total Debt',\n",
       " 'Total Equity Gross Minority Interest',\n",
       " 'Total Expenses',\n",
       " 'Total Liabilities Net Minority Interest',\n",
       " 'Total Non Current Assets',\n",
       " 'Total Revenue',\n",
       " 'Working Capital'}"
      ]
     },
     "execution_count": 3,
     "metadata": {},
     "output_type": "execute_result"
    }
   ],
   "source": [
    "modeling_attributes"
   ]
  },
  {
   "cell_type": "code",
   "execution_count": 4,
   "id": "34b84ae6-8c70-4aa4-9d0c-03608f8aafdd",
   "metadata": {
    "tags": []
   },
   "outputs": [],
   "source": [
    "def percentage_diff(arr):\n",
    "    x1 = arr[1:]\n",
    "    x0 = arr[:-1]\n",
    "    \n",
    "    np.seterr(divide='ignore', invalid='ignore')\n",
    "    diff = ((x1 - x0) / x0) * 100 \n",
    "    return diff"
   ]
  },
  {
   "cell_type": "code",
   "execution_count": null,
   "id": "c2bd5af2-24ab-4ce9-bd55-457748e647c7",
   "metadata": {},
   "outputs": [],
   "source": []
  },
  {
   "cell_type": "code",
   "execution_count": 10,
   "id": "107a503f-8f0f-4288-8a95-70ae13756219",
   "metadata": {
    "tags": []
   },
   "outputs": [],
   "source": [
    "def get_non_impute_data(final_fundamental_dict, modeling_attributes):\n",
    "    \n",
    "    tickers = list(final_fundamental_dict.keys())\n",
    "    final_dataset = {}\n",
    "    \n",
    "    for ticker in tickers:\n",
    "        data = final_fundamental_dict[ticker]\n",
    "        ticker_attr = set(data.index)\n",
    "        final_ticker_dataset = np.zeros((len(modeling_attributes), 3))\n",
    "        \n",
    "        for i, attr in enumerate(modeling_attributes):\n",
    "            if attr in ticker_attr:\n",
    "                attr_array = np.array(list(data.loc[attr]))\n",
    "                \n",
    "                if ticker == 'AOS':\n",
    "                    print(ticker, attr, attr_array)\n",
    "                if len(attr_array) > 4:\n",
    "                    attr_array = attr_array[:-1]\n",
    "                \n",
    "                \n",
    "                attr_array = percentage_diff(attr_array)\n",
    "                if ticker == 'AOS':\n",
    "                    print(attr_array)\n",
    "                final_ticker_dataset[i, :] = attr_array\n",
    "            else:\n",
    "                attr_array = np.full(3, np.nan)\n",
    "                final_ticker_dataset[i, :] = attr_array\n",
    "            \n",
    "        final_ticker_df = pd.DataFrame(final_ticker_dataset, columns = ['Q1', 'Q2', 'Q3'], index = list(modeling_attributes))\n",
    "        final_dataset[ticker] = final_ticker_df\n",
    "    \n",
    "    return final_dataset"
   ]
  },
  {
   "cell_type": "code",
   "execution_count": null,
   "id": "af92df04-8e57-4a02-b365-85906f5bba2e",
   "metadata": {},
   "outputs": [],
   "source": []
  },
  {
   "cell_type": "code",
   "execution_count": 11,
   "id": "b03a00ef-b727-4691-b226-6896fae8622d",
   "metadata": {
    "tags": []
   },
   "outputs": [
    {
     "name": "stdout",
     "output_type": "stream",
     "text": [
      "AOS Cash Cash Equivalents And Short Term Investments [4.097e+08 4.960e+08 4.818e+08 4.171e+08]\n",
      "[ 21.06419331  -2.86290323 -13.42880863]\n",
      "AOS Accounts Receivable [5.889e+08 5.868e+08 5.812e+08 5.642e+08]\n",
      "[-0.35659705 -0.95432856 -2.92498279]\n",
      "AOS Payables And Accrued Expenses [7.890e+08 8.239e+08 8.606e+08 8.304e+08]\n",
      "[ 4.42332066  4.45442408 -3.50917964]\n",
      "AOS Operating Revenue [9.608e+08 9.664e+08 9.361e+08 8.742e+08]\n",
      "[ 0.58284763 -3.13534768 -6.6125414 ]\n",
      "AOS Long Term Debt And Capital Lease Obligation [2.220e+08 3.559e+08 3.569e+08 3.045e+08]\n",
      "[ 60.31531532   0.2809778  -14.68198375]\n",
      "AOS Net Income Continuous Operations [ 1.570e+08  1.269e+08 -1.201e+08  1.098e+08]\n",
      "[ -19.17197452 -194.64144996 -191.42381349]\n",
      "AOS Capital Stock [2.949e+08 2.949e+08 2.949e+08 2.950e+08]\n",
      "[0.        0.        0.0339098]\n",
      "AOS Financing Cash Flow [-1.937e+08 -9.750e+07 -1.107e+08 -1.409e+08]\n",
      "[-49.66442953  13.53846154  27.28093948]\n",
      "AOS Tangible Book Value [9.235e+08 8.255e+08 7.801e+08 7.787e+08]\n",
      "[-10.61180292  -5.49969715  -0.17946417]\n",
      "AOS Net Income Including Noncontrolling Interests [ 1.570e+08  1.269e+08 -1.201e+08  1.098e+08]\n",
      "[ -19.17197452 -194.64144996 -191.42381349]\n",
      "AOS Net Interest Income [-4500000. -4000000. -3400000. -2400000.]\n",
      "[-11.11111111 -15.         -29.41176471]\n",
      "AOS Total Debt [2.320e+08 3.659e+08 3.669e+08 3.113e+08]\n",
      "[ 57.71551724   0.27329872 -15.15399291]\n",
      "AOS Net Income From Continuing And Discontinued Operation [ 1.570e+08  1.269e+08 -1.201e+08  1.098e+08]\n",
      "[ -19.17197452 -194.64144996 -191.42381349]\n",
      "AOS Current Assets [1.5613e+09 1.6438e+09 1.6337e+09 1.5696e+09]\n",
      "[ 5.28405816 -0.61442998 -3.92360899]\n",
      "AOS Total Liabilities Net Minority Interest [1.3604e+09 1.5461e+09 1.5846e+09 1.4841e+09]\n",
      "[13.65039694  2.49013647 -6.34229459]\n",
      "AOS Gains Losses Not Affecting Retained Earnings [-8.240e+07 -8.000e+07 -8.240e+07 -3.681e+08]\n",
      "[ -2.91262136   3.         346.72330097]\n",
      "AOS Diluted EPS [ 1.04      0.84     -0.794422  0.71    ]\n",
      "[ -19.23076923 -194.57404762 -189.37315432]\n",
      "AOS Net Income From Continuing Operations [ 1.570e+08  1.269e+08 -1.201e+08  1.098e+08]\n",
      "[ -19.17197452 -194.64144996 -191.42381349]\n",
      "AOS Invested Capital [2.060e+08 3.408e+08 3.445e+08 2.878e+08]\n",
      "[ 65.4368932    1.08568075 -16.4586357 ]\n",
      "AOS Operating Cash Flow [1.403e+08 1.199e+08 1.767e+08 1.603e+08]\n",
      "[-14.54027085  47.37281068  -9.28126769]\n",
      "AOS Diluted Average Shares [1.51541100e+08 1.51900847e+08 1.53128024e+08 1.55074862e+08]\n",
      "[0.23739236 0.80788029 1.2713793 ]\n",
      "AOS Total Revenue [9.608e+08 9.664e+08 9.361e+08 8.742e+08]\n",
      "[ 0.58284763 -3.13534768 -6.6125414 ]\n",
      "AOS Total Non Current Assets [1.6875e+09 1.6925e+09 1.6986e+09 1.6623e+09]\n",
      "[ 0.2962963   0.36041359 -2.13705404]\n",
      "AOS Beginning Cash Position [4.062e+08 3.912e+08 3.588e+08 3.594e+08]\n",
      "[-3.69276219 -8.28220859  0.16722408]\n",
      "AOS End Cash Position [3.789e+08 4.062e+08 3.912e+08 3.588e+08]\n",
      "[ 7.2050673  -3.69276219 -8.28220859]\n",
      "AOS Change In Working Capital [-32700000. -48800000.  26100000.  30900000.]\n",
      "[  49.23547401 -153.48360656   18.3908046 ]\n",
      "AOS Total Equity Gross Minority Interest [1.8884e+09 1.7902e+09 1.7477e+09 1.7478e+09]\n",
      "[-5.20016946 -2.37403642  0.00572181]\n",
      "AOS Basic Average Shares [1.50475003e+08 1.50897302e+08 1.52268436e+08 1.54197072e+08]\n",
      "[0.28064396 0.90865375 1.26660262]\n",
      "AOS Cash And Cash Equivalents [3.789e+08 4.062e+08 3.912e+08 3.588e+08]\n",
      "[ 7.2050673  -3.69276219 -8.28220859]\n",
      "AOS Net Tangible Assets [9.235e+08 8.255e+08 7.801e+08 7.787e+08]\n",
      "[-10.61180292  -5.49969715  -0.17946417]\n",
      "AOS Common Stock [2.949e+08 2.949e+08 2.949e+08 2.950e+08]\n",
      "[0.        0.        0.0339098]\n",
      "AOS Investing Cash Flow [ 43600000.  -9800000. -50200000.  17400000.]\n",
      "[-122.47706422  412.24489796 -134.66135458]\n",
      "AOS Retained Earnings [3.0784e+09 2.9665e+09 2.8850e+09 3.0511e+09]\n",
      "[-3.6350052  -2.74734536  5.75736568]\n",
      "AOS Working Capital [7.006e+08 7.481e+08 6.995e+08 6.687e+08]\n",
      "[ 6.77990294 -6.49645769 -4.4031451 ]\n",
      "AOS Current Liabilities [8.607e+08 8.957e+08 9.342e+08 9.009e+08]\n",
      "[ 4.06645753  4.29831417 -3.56454721]\n",
      "AOS Normalized Income [ 1.57000000e+08  1.38456567e+08 -1.20100000e+08  1.09800000e+08]\n",
      "[ -11.81110355 -186.74200309 -191.42381349]\n",
      "AOS Total Expenses [7.564e+08 7.795e+08 7.564e+08 7.247e+08]\n",
      "[ 3.05393971 -2.9634381  -4.19090428]\n",
      "AOS Net Income From Continuing Operation Net Minority Interest [ 1.570e+08  1.269e+08 -1.201e+08  1.098e+08]\n",
      "[ -19.17197452 -194.64144996 -191.42381349]\n",
      "AOS Cash Flow From Continuing Financing Activities [-1.937e+08 -9.750e+07 -1.107e+08 -1.409e+08]\n",
      "[-49.66442953  13.53846154  27.28093948]\n",
      "AOS Net Income [ 1.570e+08  1.269e+08 -1.201e+08  1.098e+08]\n",
      "[ -19.17197452 -194.64144996 -191.42381349]\n",
      "AOS EBIT [ 2.134e+08  1.753e+08 -2.395e+08  1.471e+08]\n",
      "[ -17.85379569 -236.62293212 -161.41962422]\n",
      "AOS Net PPE [6.094e+08 6.178e+08 6.205e+08 6.149e+08]\n",
      "[ 1.37840499  0.43703464 -0.90249799]\n",
      "AOS Common Stock Equity [1.8884e+09 1.7902e+09 1.7477e+09 1.7478e+09]\n",
      "[-5.20016946 -2.37403642  0.00572181]\n",
      "AOS Changes In Cash [-9800000. 12600000. 15800000. 36800000.]\n",
      "[-228.57142857   25.3968254   132.91139241]\n",
      "AOS Receivables [5.889e+08 5.868e+08 5.812e+08 5.642e+08]\n",
      "[-0.35659705 -0.95432856 -2.92498279]\n",
      "AOS Net Income Common Stockholders [ 1.570e+08  1.269e+08 -1.201e+08  1.098e+08]\n",
      "[ -19.17197452 -194.64144996 -191.42381349]\n",
      "AOS Total Capitalization [2.0844e+09 2.1210e+09 2.0822e+09 2.0288e+09]\n",
      "[ 1.75590098 -1.82932579 -2.56459514]\n",
      "AOS Tax Effect Of Unusual Items [       0.       -4043432.574431        0.              0.      ]\n",
      "[ -inf -100.   nan]\n",
      "AOS Cash Flow From Continuing Investing Activities [ 43600000.  -9800000. -50200000.  17400000.]\n",
      "[-122.47706422  412.24489796 -134.66135458]\n",
      "AOS Tax Rate For Calcs [0.248444 0.259194 0.4      0.241189]\n",
      "[  4.32693082  54.32455998 -39.70275   ]\n",
      "AOS Diluted NI Availto Com Stockholders [ 1.570e+08  1.269e+08 -1.201e+08  1.098e+08]\n",
      "[ -19.17197452 -194.64144996 -191.42381349]\n",
      "AOS Tax Provision [ 5.190e+07  4.440e+07 -1.228e+08  3.490e+07]\n",
      "[ -14.45086705 -376.57657658 -128.42019544]\n",
      "AOS Pretax Income [ 2.089e+08  1.713e+08 -2.429e+08  1.447e+08]\n",
      "[ -17.9990426  -241.79801518 -159.57184026]\n",
      "AOS Capital Expenditure [-13500000. -10700000. -19400000. -20200000.]\n",
      "[-20.74074074  81.30841121   4.12371134]\n",
      "AOS Total Assets [3.2488e+09 3.3363e+09 3.3323e+09 3.2319e+09]\n",
      "[ 2.69330214 -0.11989329 -3.01293401]\n",
      "AOS Ordinary Shares Number [1.51179079e+08 1.51179079e+08 1.51179079e+08 1.57652567e+08]\n",
      "[0.         0.         4.28199989]\n",
      "AOS Cash Flow From Continuing Operating Activities [1.403e+08 1.199e+08 1.767e+08 1.603e+08]\n",
      "[-14.54027085  47.37281068  -9.28126769]\n",
      "AOS Long Term Debt [1.960e+08 3.308e+08 3.345e+08 2.810e+08]\n",
      "[ 68.7755102    1.1185006  -15.99402093]\n",
      "AOS Free Cash Flow [1.268e+08 1.092e+08 1.573e+08 1.401e+08]\n",
      "[-13.88012618  44.04761905 -10.93452003]\n",
      "AOS Basic EPS [ 1.04      0.84     -0.794422  0.71    ]\n",
      "[ -19.23076923 -194.57404762 -189.37315432]\n",
      "AOS Stockholders Equity [1.8884e+09 1.7902e+09 1.7477e+09 1.7478e+09]\n",
      "[-5.20016946 -2.37403642  0.00572181]\n",
      "AOS Share Issued [1.90577214e+08 1.90577214e+08 1.90577214e+08 1.90577214e+08]\n",
      "[0. 0. 0.]\n"
     ]
    }
   ],
   "source": [
    "final_dataset_non_impute = get_non_impute_data(final_fundamental_dict, modeling_attributes)"
   ]
  },
  {
   "cell_type": "code",
   "execution_count": 7,
   "id": "39d04c21-3a76-4d35-b39f-8e7beef330b8",
   "metadata": {
    "tags": []
   },
   "outputs": [
    {
     "data": {
      "text/html": [
       "<div>\n",
       "<style scoped>\n",
       "    .dataframe tbody tr th:only-of-type {\n",
       "        vertical-align: middle;\n",
       "    }\n",
       "\n",
       "    .dataframe tbody tr th {\n",
       "        vertical-align: top;\n",
       "    }\n",
       "\n",
       "    .dataframe thead th {\n",
       "        text-align: right;\n",
       "    }\n",
       "</style>\n",
       "<table border=\"1\" class=\"dataframe\">\n",
       "  <thead>\n",
       "    <tr style=\"text-align: right;\">\n",
       "      <th></th>\n",
       "      <th>Q1</th>\n",
       "      <th>Q2</th>\n",
       "      <th>Q3</th>\n",
       "    </tr>\n",
       "  </thead>\n",
       "  <tbody>\n",
       "    <tr>\n",
       "      <th>Cash Cash Equivalents And Short Term Investments</th>\n",
       "      <td>21.064193</td>\n",
       "      <td>-2.862903</td>\n",
       "      <td>-13.428809</td>\n",
       "    </tr>\n",
       "    <tr>\n",
       "      <th>Accounts Receivable</th>\n",
       "      <td>-0.356597</td>\n",
       "      <td>-0.954329</td>\n",
       "      <td>-2.924983</td>\n",
       "    </tr>\n",
       "    <tr>\n",
       "      <th>Payables And Accrued Expenses</th>\n",
       "      <td>4.423321</td>\n",
       "      <td>4.454424</td>\n",
       "      <td>-3.509180</td>\n",
       "    </tr>\n",
       "    <tr>\n",
       "      <th>Operating Revenue</th>\n",
       "      <td>0.582848</td>\n",
       "      <td>-3.135348</td>\n",
       "      <td>-6.612541</td>\n",
       "    </tr>\n",
       "    <tr>\n",
       "      <th>Long Term Debt And Capital Lease Obligation</th>\n",
       "      <td>60.315315</td>\n",
       "      <td>0.280978</td>\n",
       "      <td>-14.681984</td>\n",
       "    </tr>\n",
       "  </tbody>\n",
       "</table>\n",
       "</div>"
      ],
      "text/plain": [
       "                                                         Q1        Q2  \\\n",
       "Cash Cash Equivalents And Short Term Investments  21.064193 -2.862903   \n",
       "Accounts Receivable                               -0.356597 -0.954329   \n",
       "Payables And Accrued Expenses                      4.423321  4.454424   \n",
       "Operating Revenue                                  0.582848 -3.135348   \n",
       "Long Term Debt And Capital Lease Obligation       60.315315  0.280978   \n",
       "\n",
       "                                                         Q3  \n",
       "Cash Cash Equivalents And Short Term Investments -13.428809  \n",
       "Accounts Receivable                               -2.924983  \n",
       "Payables And Accrued Expenses                     -3.509180  \n",
       "Operating Revenue                                 -6.612541  \n",
       "Long Term Debt And Capital Lease Obligation      -14.681984  "
      ]
     },
     "execution_count": 7,
     "metadata": {},
     "output_type": "execute_result"
    }
   ],
   "source": [
    "final_dataset_non_impute['AOS'].head()\n"
   ]
  },
  {
   "cell_type": "code",
   "execution_count": 16,
   "id": "41b59079-ed19-42ba-9a49-bed2bd67effc",
   "metadata": {
    "tags": []
   },
   "outputs": [
    {
     "data": {
      "text/plain": [
       "Index(['Basic Average Shares', 'EBIT', 'Invested Capital',\n",
       "       'Diluted Average Shares', 'Diluted NI Availto Com Stockholders',\n",
       "       'Cash Cash Equivalents And Short Term Investments',\n",
       "       'Cash And Cash Equivalents', 'Financing Cash Flow', 'Capital Stock',\n",
       "       'Net Interest Income', 'Stockholders Equity', 'Free Cash Flow',\n",
       "       'Normalized Income', 'Cash Flow From Continuing Financing Activities',\n",
       "       'Net Income', 'Ordinary Shares Number', 'Operating Cash Flow',\n",
       "       'Cash Flow From Continuing Operating Activities', 'Common Stock',\n",
       "       'Net Income Continuous Operations', 'Net Tangible Assets',\n",
       "       'Total Non Current Assets', 'Capital Expenditure',\n",
       "       'Total Liabilities Net Minority Interest', 'Long Term Debt',\n",
       "       'Tangible Book Value', 'Share Issued', 'Investing Cash Flow',\n",
       "       'Change In Working Capital', 'Total Debt', 'Basic EPS', 'Tax Provision',\n",
       "       'End Cash Position', 'Tax Effect Of Unusual Items',\n",
       "       'Gains Losses Not Affecting Retained Earnings', 'Retained Earnings',\n",
       "       'Operating Revenue', 'Payables And Accrued Expenses',\n",
       "       'Current Liabilities', 'Current Assets',\n",
       "       'Net Income Including Noncontrolling Interests', 'Accounts Receivable',\n",
       "       'Working Capital', 'Total Assets', 'Receivables', 'Diluted EPS',\n",
       "       'Tax Rate For Calcs', 'Net Income Common Stockholders',\n",
       "       'Cash Flow From Continuing Investing Activities',\n",
       "       'Beginning Cash Position', 'Pretax Income', 'Total Expenses',\n",
       "       'Changes In Cash', 'Total Capitalization', 'Total Revenue',\n",
       "       'Total Equity Gross Minority Interest',\n",
       "       'Net Income From Continuing And Discontinued Operation',\n",
       "       'Net Income From Continuing Operation Net Minority Interest',\n",
       "       'Common Stock Equity', 'Net Income From Continuing Operations',\n",
       "       'Net PPE', 'Long Term Debt And Capital Lease Obligation'],\n",
       "      dtype='object')"
      ]
     },
     "execution_count": 16,
     "metadata": {},
     "output_type": "execute_result"
    }
   ],
   "source": [
    "final_dataset_non_impute['ACN'].index"
   ]
  },
  {
   "cell_type": "code",
   "execution_count": 12,
   "id": "839a65e1-6883-410f-8ad8-f7aeb7ae3fc8",
   "metadata": {
    "tags": []
   },
   "outputs": [],
   "source": [
    "with open(\"/Users/marcs/OneDrive/Documents/stock_analysis2/final_dataset_non_impute.pickle\", 'wb') as f:\n",
    "        pickle.dump(final_dataset_non_impute, f)"
   ]
  },
  {
   "cell_type": "code",
   "execution_count": 12,
   "id": "3295bca3-9fce-41ef-b288-445a1da56958",
   "metadata": {
    "tags": []
   },
   "outputs": [
    {
     "data": {
      "text/plain": [
       "-1.224770642201835"
      ]
     },
     "execution_count": 12,
     "metadata": {},
     "output_type": "execute_result"
    }
   ],
   "source": [
    "x0 = 43600000\n",
    "x1 = -9800000\n",
    "\n",
    "(x1 -x0) /x0"
   ]
  }
 ],
 "metadata": {
  "kernelspec": {
   "display_name": "Python 3 (ipykernel)",
   "language": "python",
   "name": "python3"
  },
  "language_info": {
   "codemirror_mode": {
    "name": "ipython",
    "version": 3
   },
   "file_extension": ".py",
   "mimetype": "text/x-python",
   "name": "python",
   "nbconvert_exporter": "python",
   "pygments_lexer": "ipython3",
   "version": "3.11.5"
  }
 },
 "nbformat": 4,
 "nbformat_minor": 5
}
