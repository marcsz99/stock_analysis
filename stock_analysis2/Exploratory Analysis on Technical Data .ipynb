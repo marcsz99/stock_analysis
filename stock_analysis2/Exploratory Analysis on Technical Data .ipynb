{
 "cells": [
  {
   "cell_type": "code",
   "execution_count": 2,
   "id": "5abfc590",
   "metadata": {
    "scrolled": true,
    "tags": []
   },
   "outputs": [],
   "source": [
    "import os \n",
    "os.chdir('/Users/marcs')"
   ]
  },
  {
   "cell_type": "code",
   "execution_count": 3,
   "id": "06367a60",
   "metadata": {
    "tags": []
   },
   "outputs": [
    {
     "data": {
      "text/plain": [
       "'/Users/marcs'"
      ]
     },
     "execution_count": 3,
     "metadata": {},
     "output_type": "execute_result"
    }
   ],
   "source": [
    "pwd"
   ]
  },
  {
   "cell_type": "code",
   "execution_count": null,
   "id": "b5f0b604",
   "metadata": {
    "tags": []
   },
   "outputs": [],
   "source": [
    "import matplotlib.pyplot as plt\n",
    "from pickle_loader import pickle_loader\n",
    "import datetime as dt\n",
    "import pandas as pd\n"
   ]
  },
  {
   "cell_type": "code",
   "execution_count": 5,
   "id": "8bac1784",
   "metadata": {
    "tags": []
   },
   "outputs": [],
   "source": [
    "technical_data = pickle_loader('/Users/marcs/OneDrive/Documents/stock_analysis2/technical_us.pickle')\n",
    "                        \n"
   ]
  },
  {
   "cell_type": "markdown",
   "id": "5dc4b0ca",
   "metadata": {},
   "source": [
    "## Remove empty entries \n",
    "\n",
    "A few of the stock symbols I used to source the data were not valid. In this section I will remove the invalid symbols which have empty entries."
   ]
  },
  {
   "cell_type": "code",
   "execution_count": 8,
   "id": "35425113",
   "metadata": {},
   "outputs": [],
   "source": [
    "tickers = list(technical_data.keys())"
   ]
  },
  {
   "cell_type": "code",
   "execution_count": 9,
   "id": "2debde9d",
   "metadata": {},
   "outputs": [],
   "source": [
    "empty_tickers = [ticker for ticker in tickers if len(technical_data[ticker]) == 0]"
   ]
  },
  {
   "cell_type": "code",
   "execution_count": 10,
   "id": "232758c0",
   "metadata": {},
   "outputs": [
    {
     "data": {
      "text/plain": [
       "['BRK.B', 'BF.B', 'RE', 'FISV', 'PKI']"
      ]
     },
     "execution_count": 10,
     "metadata": {},
     "output_type": "execute_result"
    }
   ],
   "source": [
    "empty_tickers"
   ]
  },
  {
   "cell_type": "code",
   "execution_count": 11,
   "id": "2c0a3ee7",
   "metadata": {},
   "outputs": [],
   "source": [
    "for empty in empty_tickers:\n",
    "    technical_data.pop(empty, None)"
   ]
  },
  {
   "cell_type": "markdown",
   "id": "2c1421f2",
   "metadata": {},
   "source": [
    "## Check for full data \n",
    "\n",
    "Validate that each symbols has a technical dataset starting from '2021-09-30' and ending on '2023-09-29'"
   ]
  },
  {
   "cell_type": "code",
   "execution_count": 12,
   "id": "07cf038a",
   "metadata": {},
   "outputs": [
    {
     "data": {
      "text/plain": [
       "'30-09-2021'"
      ]
     },
     "execution_count": 12,
     "metadata": {},
     "output_type": "execute_result"
    }
   ],
   "source": [
    "technical_data['MMM'].index.to_pydatetime()[0].strftime('%d-%m-%Y')"
   ]
  },
  {
   "cell_type": "code",
   "execution_count": 13,
   "id": "9da6d891",
   "metadata": {},
   "outputs": [
    {
     "data": {
      "text/plain": [
       "'29-09-2023'"
      ]
     },
     "execution_count": 13,
     "metadata": {},
     "output_type": "execute_result"
    }
   ],
   "source": [
    "technical_data['MMM'].index.to_pydatetime()[-1].strftime('%d-%m-%Y')"
   ]
  },
  {
   "cell_type": "code",
   "execution_count": 14,
   "id": "e426a2fd",
   "metadata": {},
   "outputs": [],
   "source": [
    "tickers = list(technical_data.keys())\n",
    "\n",
    "full_data = {}\n",
    "\n",
    "for ticker in tickers:\n",
    "    first_time = technical_data[ticker].index.to_pydatetime()[0].strftime('%d-%m-%Y')\n",
    "    last_time = technical_data[ticker].index.to_pydatetime()[-1].strftime('%d-%m-%Y')\n",
    "    if first_time == '30-09-2021' and last_time == '29-09-2023':\n",
    "        full_data[ticker] = True\n",
    "    else:\n",
    "        full_data[ticker] = False"
   ]
  },
  {
   "cell_type": "code",
   "execution_count": 16,
   "id": "03e7f0c0",
   "metadata": {},
   "outputs": [
    {
     "data": {
      "text/plain": [
       "['CEG', 'GEHC']"
      ]
     },
     "execution_count": 16,
     "metadata": {},
     "output_type": "execute_result"
    }
   ],
   "source": [
    "not_full = [k for k, v in full_data.items() if v == False]\n",
    "not_full"
   ]
  },
  {
   "cell_type": "code",
   "execution_count": 17,
   "id": "f8761116",
   "metadata": {},
   "outputs": [
    {
     "data": {
      "text/plain": [
       "DatetimeIndex(['2022-01-19 00:00:00-05:00', '2022-01-20 00:00:00-05:00',\n",
       "               '2022-01-21 00:00:00-05:00', '2022-01-24 00:00:00-05:00',\n",
       "               '2022-01-25 00:00:00-05:00', '2022-01-26 00:00:00-05:00',\n",
       "               '2022-01-27 00:00:00-05:00', '2022-01-28 00:00:00-05:00',\n",
       "               '2022-01-31 00:00:00-05:00', '2022-02-01 00:00:00-05:00',\n",
       "               ...\n",
       "               '2023-09-18 00:00:00-04:00', '2023-09-19 00:00:00-04:00',\n",
       "               '2023-09-20 00:00:00-04:00', '2023-09-21 00:00:00-04:00',\n",
       "               '2023-09-22 00:00:00-04:00', '2023-09-25 00:00:00-04:00',\n",
       "               '2023-09-26 00:00:00-04:00', '2023-09-27 00:00:00-04:00',\n",
       "               '2023-09-28 00:00:00-04:00', '2023-09-29 00:00:00-04:00'],\n",
       "              dtype='datetime64[ns, America/New_York]', name='Date', length=427, freq=None)"
      ]
     },
     "execution_count": 17,
     "metadata": {},
     "output_type": "execute_result"
    }
   ],
   "source": [
    "technical_data['CEG'].index"
   ]
  },
  {
   "cell_type": "code",
   "execution_count": 18,
   "id": "b0a38af6",
   "metadata": {},
   "outputs": [
    {
     "data": {
      "text/plain": [
       "DatetimeIndex(['2022-12-15 00:00:00-05:00', '2022-12-16 00:00:00-05:00',\n",
       "               '2022-12-19 00:00:00-05:00', '2022-12-20 00:00:00-05:00',\n",
       "               '2022-12-21 00:00:00-05:00', '2022-12-22 00:00:00-05:00',\n",
       "               '2022-12-23 00:00:00-05:00', '2022-12-27 00:00:00-05:00',\n",
       "               '2022-12-28 00:00:00-05:00', '2022-12-29 00:00:00-05:00',\n",
       "               ...\n",
       "               '2023-09-18 00:00:00-04:00', '2023-09-19 00:00:00-04:00',\n",
       "               '2023-09-20 00:00:00-04:00', '2023-09-21 00:00:00-04:00',\n",
       "               '2023-09-22 00:00:00-04:00', '2023-09-25 00:00:00-04:00',\n",
       "               '2023-09-26 00:00:00-04:00', '2023-09-27 00:00:00-04:00',\n",
       "               '2023-09-28 00:00:00-04:00', '2023-09-29 00:00:00-04:00'],\n",
       "              dtype='datetime64[ns, America/New_York]', name='Date', length=198, freq=None)"
      ]
     },
     "execution_count": 18,
     "metadata": {},
     "output_type": "execute_result"
    }
   ],
   "source": [
    "technical_data['GEHC'].index"
   ]
  },
  {
   "cell_type": "code",
   "execution_count": 19,
   "id": "b67b1f93",
   "metadata": {},
   "outputs": [],
   "source": [
    "for ticker in not_full:\n",
    "    technical_data.pop(ticker, None)"
   ]
  },
  {
   "cell_type": "markdown",
   "id": "f02cc59a-82b6-4112-ab45-bec052567727",
   "metadata": {},
   "source": [
    "## Techical Data Cleaning Function "
   ]
  },
  {
   "cell_type": "code",
   "execution_count": 9,
   "id": "87b82e5b-7d01-4fde-932b-a417557e5252",
   "metadata": {
    "tags": []
   },
   "outputs": [],
   "source": [
    "def tech_clean(dataset):\n",
    "    clean_dataset = dataset.copy()\n",
    "    tickers = list(technical_data.keys())\n",
    "    removed_tickers = []\n",
    "    \n",
    "    for ticker in tickers:\n",
    "        if len(dataset[ticker]) == 0: # Remove tickers that are empty \n",
    "            clean_dataset.pop(ticker, None)\n",
    "            removed_tickers.append(ticker)\n",
    "        else: # Remove tickers that don't contain the full dataset \n",
    "            first_time = dataset[ticker].index.to_pydatetime()[0].strftime('%d-%m-%Y')\n",
    "            last_time = dataset[ticker].index.to_pydatetime()[-1].strftime('%d-%m-%Y')\n",
    "            if first_time != '30-09-2021' or last_time != '29-09-2023':\n",
    "                clean_dataset.pop(ticker, None)\n",
    "                removed_tickers.append(ticker)\n",
    "    \n",
    "    return clean_dataset, removed_tickers "
   ]
  },
  {
   "cell_type": "code",
   "execution_count": 10,
   "id": "8ee0110c-2ac9-48de-8747-19472c1f24f5",
   "metadata": {
    "tags": []
   },
   "outputs": [],
   "source": [
    "clean_tech_data, removed_tickers = tech_clean(technical_data)"
   ]
  },
  {
   "cell_type": "code",
   "execution_count": 11,
   "id": "9a45a6ad-bce5-4cfe-ac5e-d4129385cac7",
   "metadata": {
    "tags": []
   },
   "outputs": [
    {
     "data": {
      "text/plain": [
       "['BRK.B', 'BF.B', 'CEG', 'RE', 'FISV', 'GEHC', 'PKI']"
      ]
     },
     "execution_count": 11,
     "metadata": {},
     "output_type": "execute_result"
    }
   ],
   "source": [
    "removed_tickers"
   ]
  }
 ],
 "metadata": {
  "kernelspec": {
   "display_name": "Python 3 (ipykernel)",
   "language": "python",
   "name": "python3"
  },
  "language_info": {
   "codemirror_mode": {
    "name": "ipython",
    "version": 3
   },
   "file_extension": ".py",
   "mimetype": "text/x-python",
   "name": "python",
   "nbconvert_exporter": "python",
   "pygments_lexer": "ipython3",
   "version": "3.11.5"
  }
 },
 "nbformat": 4,
 "nbformat_minor": 5
}
