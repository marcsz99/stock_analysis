{
 "cells": [
  {
   "cell_type": "code",
   "execution_count": 1,
   "id": "b60d0252-9adb-45bc-a2ce-a2f41996c878",
   "metadata": {
    "tags": []
   },
   "outputs": [],
   "source": [
    "import os\n",
    "os.chdir('/Users/marcs')"
   ]
  },
  {
   "cell_type": "code",
   "execution_count": 22,
   "id": "229e5281-1c31-4725-873f-08968a9861d5",
   "metadata": {
    "tags": []
   },
   "outputs": [],
   "source": [
    "import matplotlib.pyplot as plt\n",
    "from pickle_loader import pickle_loader\n",
    "import datetime as dt\n",
    "import pandas as pd\n",
    "from random import seed\n",
    "from random import randint\n",
    "import numpy as np\n",
    "import pmdarima as pm\n",
    "from sklearn.metrics import mean_squared_error\n",
    "from pmdarima.metrics import smape"
   ]
  },
  {
   "cell_type": "code",
   "execution_count": 3,
   "id": "90c4cb17-b368-4537-96ad-ce3af1ff2698",
   "metadata": {
    "tags": []
   },
   "outputs": [],
   "source": [
    "technical_data = pickle_loader('/Users/marcs/OneDrive/Documents/stock_analysis2/technical_us.pickle')"
   ]
  },
  {
   "cell_type": "code",
   "execution_count": 4,
   "id": "d75aaab4-3fef-46f3-939d-df78f2565cfc",
   "metadata": {
    "tags": []
   },
   "outputs": [],
   "source": [
    "def tech_clean(dataset):\n",
    "    clean_dataset = dataset.copy()\n",
    "    tickers = list(technical_data.keys())\n",
    "    removed_tickers = []\n",
    "    \n",
    "    for ticker in tickers:\n",
    "        if len(dataset[ticker]) == 0: # Remove tickers that are empty \n",
    "            clean_dataset.pop(ticker, None)\n",
    "            removed_tickers.append(ticker)\n",
    "        else: # Remove tickers that don't contain the full dataset \n",
    "            first_time = dataset[ticker].index.to_pydatetime()[0].strftime('%d-%m-%Y')\n",
    "            last_time = dataset[ticker].index.to_pydatetime()[-1].strftime('%d-%m-%Y')\n",
    "            if first_time != '30-09-2021' or last_time != '29-09-2023':\n",
    "                clean_dataset.pop(ticker, None)\n",
    "                removed_tickers.append(ticker)\n",
    "    \n",
    "    return clean_dataset, removed_tickers "
   ]
  },
  {
   "cell_type": "code",
   "execution_count": 5,
   "id": "33bc8f9b-170c-4523-a9f7-1d283ebc7bcf",
   "metadata": {
    "tags": []
   },
   "outputs": [],
   "source": [
    "clean_tech_data, removed_tickers = tech_clean(technical_data)"
   ]
  },
  {
   "cell_type": "markdown",
   "id": "60d10bfd-f8b5-4d04-98df-be9f803cc52d",
   "metadata": {},
   "source": [
    "The close price is the price that is being modeled/pricted\n",
    "\n",
    "The start of the train dataset is '2021-09-30 00:00:00-0400'.\n",
    "\n",
    "The end of the train set is '2022-09-27 00:00:00-0400' ."
   ]
  },
  {
   "cell_type": "code",
   "execution_count": 11,
   "id": "fa012806-4bee-41f9-9bf8-1612e0d30be7",
   "metadata": {
    "tags": []
   },
   "outputs": [],
   "source": [
    "tickers = clean_tech_data.keys()\n",
    "train_set = [clean_tech_data[ticker].loc['2021-09-30 00:00:00-0400':'2022-09-27 00:00:00-0400']['Close'].to_numpy() for ticker in tickers]"
   ]
  },
  {
   "cell_type": "markdown",
   "id": "3ccfecce-ee5e-488e-b8bb-305874bc7151",
   "metadata": {},
   "source": [
    "The date we are trying to pridict is 2022-12-27"
   ]
  },
  {
   "cell_type": "code",
   "execution_count": 14,
   "id": "043fc6ca-e87e-4fa3-a5ff-0c8f7591e201",
   "metadata": {
    "tags": []
   },
   "outputs": [],
   "source": [
    "test_set = [clean_tech_data[ticker].loc['2022-12-27 00:00:00-0500']['Close'] for ticker in tickers]"
   ]
  },
  {
   "cell_type": "code",
   "execution_count": 18,
   "id": "6d2f65c6-9ad0-4c49-aac4-5068e5717cd3",
   "metadata": {
    "tags": []
   },
   "outputs": [],
   "source": [
    "def get_smoothing_data(len_smoothing_period, train_set , num_day_train_set):\n",
    "    smoothing_data = []\n",
    "    \n",
    "    for stock_data in train_set:\n",
    "        len_stock_set = stock_data.size\n",
    "        factor_missing_days = len_stock_set / num_day_train_set # factor which captures the ratio of missing days in the total number of days in the train set\n",
    "        adjusted_smoothing_period = int(np.round(len_smoothing_period * factor_missing_days)) # smoothing period ajusted for the missing days \n",
    "        remainder = len_stock_set % adjusted_smoothing_period\n",
    "        len_start_period = adjusted_smoothing_period + remainder\n",
    "        \n",
    "        first_value = np.mean(stock_data[:len_start_period])\n",
    "        other_values = np.mean(stock_data[len_start_period:].reshape(-1, adjusted_smoothing_period), axis = 1)\n",
    "        \n",
    "        smoothing_data.append(np.insert(other_values, 0, first_value))\n",
    "        \n",
    "    return smoothing_data"
   ]
  },
  {
   "cell_type": "code",
   "execution_count": 49,
   "id": "7c2711ff-841a-4ae2-9658-ee00702e8c61",
   "metadata": {
    "tags": []
   },
   "outputs": [],
   "source": [
    "smoothing_periods = [length for length in range(1,100)]"
   ]
  },
  {
   "cell_type": "code",
   "execution_count": 50,
   "id": "2b874fcb-db78-43bc-be1e-82033a1d0128",
   "metadata": {
    "tags": []
   },
   "outputs": [],
   "source": [
    "def fit_Armia(dataset):\n",
    "    trained_models = []\n",
    "    for stock_data in dataset:\n",
    "        trained_models.append(\\\n",
    "        pm.auto_arima(stock_data, d=1, seasonal=False, stepwise=True,\\\n",
    "            suppress_warnings=True, error_action=\"ignore\", max_p=6,\\\n",
    "            max_order=None, trace=False))\n",
    "    return trained_models    "
   ]
  },
  {
   "cell_type": "code",
   "execution_count": 51,
   "id": "7e669495-8bf0-4259-961c-a817bce7406d",
   "metadata": {
    "tags": []
   },
   "outputs": [],
   "source": [
    "# Find the number of periods to forcast the stock price between 2022-09-27 and 2022-12-27 \n",
    "from datetime import date\n",
    "\n",
    "def num_forcast_periods(start_date, end_date, period):\n",
    "    delta = end_date - start_date \n",
    "    return int(np.round(delta.days/period))"
   ]
  },
  {
   "cell_type": "code",
   "execution_count": 52,
   "id": "87514a46-452b-4335-8a17-6a3afff2de5e",
   "metadata": {},
   "outputs": [],
   "source": [
    "def forecast_n_steps(model, n):\n",
    "    fc, conf_int = model.predict(n_periods=n, return_conf_int=True)\n",
    "    return (\n",
    "        fc.tolist()[0],\n",
    "        np.asarray(conf_int).tolist()[0])\n",
    "\n",
    "def forcast_model_lst(model_lst, n):\n",
    "    all_predictions = []\n",
    "    for model in model_lst:\n",
    "        all_predictions.append(forecast_n_steps(model, n))\n",
    "    return all_predictions"
   ]
  },
  {
   "cell_type": "code",
   "execution_count": 53,
   "id": "c137b4fb-99eb-453d-8404-bc874cb10413",
   "metadata": {
    "tags": []
   },
   "outputs": [
    {
     "name": "stdout",
     "output_type": "stream",
     "text": [
      "------------------\n",
      "The number of smoothing periods: 91\n",
      "1.0101010101010102 % Complete\n",
      "------------------\n",
      "The number of smoothing periods: 46\n",
      "2.0202020202020203 % Complete\n",
      "------------------\n",
      "The number of smoothing periods: 30\n",
      "3.0303030303030303 % Complete\n",
      "------------------\n",
      "The number of smoothing periods: 23\n",
      "4.040404040404041 % Complete\n",
      "------------------\n",
      "The number of smoothing periods: 18\n",
      "5.05050505050505 % Complete\n",
      "------------------\n",
      "The number of smoothing periods: 15\n",
      "6.0606060606060606 % Complete\n",
      "------------------\n",
      "The number of smoothing periods: 13\n",
      "7.07070707070707 % Complete\n",
      "------------------\n",
      "The number of smoothing periods: 11\n",
      "8.080808080808081 % Complete\n",
      "------------------\n",
      "The number of smoothing periods: 10\n",
      "9.090909090909092 % Complete\n",
      "------------------\n",
      "The number of smoothing periods: 9\n",
      "10.1010101010101 % Complete\n",
      "------------------\n",
      "The number of smoothing periods: 8\n",
      "11.11111111111111 % Complete\n",
      "------------------\n",
      "The number of smoothing periods: 8\n",
      "12.121212121212121 % Complete\n",
      "------------------\n",
      "The number of smoothing periods: 7\n",
      "13.131313131313133 % Complete\n",
      "------------------\n",
      "The number of smoothing periods: 6\n",
      "14.14141414141414 % Complete\n",
      "------------------\n",
      "The number of smoothing periods: 6\n",
      "15.151515151515152 % Complete\n",
      "------------------\n",
      "The number of smoothing periods: 6\n",
      "16.161616161616163 % Complete\n",
      "------------------\n",
      "The number of smoothing periods: 5\n",
      "17.17171717171717 % Complete\n",
      "------------------\n",
      "The number of smoothing periods: 5\n",
      "18.181818181818183 % Complete\n",
      "------------------\n",
      "The number of smoothing periods: 5\n",
      "19.19191919191919 % Complete\n",
      "------------------\n",
      "The number of smoothing periods: 5\n",
      "20.2020202020202 % Complete\n",
      "------------------\n",
      "The number of smoothing periods: 4\n",
      "21.21212121212121 % Complete\n",
      "------------------\n",
      "The number of smoothing periods: 4\n",
      "22.22222222222222 % Complete\n",
      "------------------\n",
      "The number of smoothing periods: 4\n",
      "23.232323232323232 % Complete\n",
      "------------------\n",
      "The number of smoothing periods: 4\n",
      "24.242424242424242 % Complete\n",
      "------------------\n",
      "The number of smoothing periods: 4\n",
      "25.252525252525253 % Complete\n",
      "------------------\n",
      "The number of smoothing periods: 4\n",
      "26.262626262626267 % Complete\n",
      "------------------\n",
      "The number of smoothing periods: 3\n",
      "27.27272727272727 % Complete\n",
      "------------------\n",
      "The number of smoothing periods: 3\n",
      "28.28282828282828 % Complete\n",
      "------------------\n",
      "The number of smoothing periods: 3\n",
      "29.292929292929294 % Complete\n",
      "------------------\n",
      "The number of smoothing periods: 3\n",
      "30.303030303030305 % Complete\n",
      "------------------\n",
      "The number of smoothing periods: 3\n",
      "31.313131313131315 % Complete\n",
      "------------------\n",
      "The number of smoothing periods: 3\n",
      "32.323232323232325 % Complete\n",
      "------------------\n",
      "The number of smoothing periods: 3\n",
      "33.33333333333333 % Complete\n",
      "------------------\n",
      "The number of smoothing periods: 3\n",
      "34.34343434343434 % Complete\n",
      "------------------\n",
      "The number of smoothing periods: 3\n",
      "35.35353535353536 % Complete\n",
      "------------------\n",
      "The number of smoothing periods: 3\n",
      "36.36363636363637 % Complete\n",
      "------------------\n",
      "The number of smoothing periods: 2\n",
      "37.37373737373738 % Complete\n",
      "------------------\n",
      "The number of smoothing periods: 2\n",
      "38.38383838383838 % Complete\n",
      "------------------\n",
      "The number of smoothing periods: 2\n",
      "39.39393939393939 % Complete\n",
      "------------------\n",
      "The number of smoothing periods: 2\n",
      "40.4040404040404 % Complete\n",
      "------------------\n",
      "The number of smoothing periods: 2\n",
      "41.41414141414141 % Complete\n",
      "------------------\n",
      "The number of smoothing periods: 2\n",
      "42.42424242424242 % Complete\n",
      "------------------\n",
      "The number of smoothing periods: 2\n",
      "43.43434343434344 % Complete\n",
      "------------------\n",
      "The number of smoothing periods: 2\n",
      "44.44444444444444 % Complete\n",
      "------------------\n",
      "The number of smoothing periods: 2\n",
      "45.45454545454545 % Complete\n",
      "------------------\n",
      "The number of smoothing periods: 2\n",
      "46.464646464646464 % Complete\n",
      "------------------\n",
      "The number of smoothing periods: 2\n",
      "47.474747474747474 % Complete\n",
      "------------------\n",
      "The number of smoothing periods: 2\n",
      "48.484848484848484 % Complete\n",
      "------------------\n",
      "The number of smoothing periods: 2\n",
      "49.494949494949495 % Complete\n",
      "------------------\n",
      "The number of smoothing periods: 2\n",
      "50.505050505050505 % Complete\n",
      "------------------\n",
      "The number of smoothing periods: 2\n",
      "51.515151515151516 % Complete\n",
      "------------------\n",
      "The number of smoothing periods: 2\n",
      "52.52525252525253 % Complete\n",
      "------------------\n",
      "The number of smoothing periods: 2\n",
      "53.535353535353536 % Complete\n",
      "------------------\n",
      "The number of smoothing periods: 2\n",
      "54.54545454545454 % Complete\n",
      "------------------\n",
      "The number of smoothing periods: 2\n",
      "55.55555555555556 % Complete\n",
      "------------------\n",
      "The number of smoothing periods: 2\n",
      "56.56565656565656 % Complete\n",
      "------------------\n",
      "The number of smoothing periods: 2\n",
      "57.57575757575758 % Complete\n",
      "------------------\n",
      "The number of smoothing periods: 2\n",
      "58.58585858585859 % Complete\n",
      "------------------\n",
      "The number of smoothing periods: 2\n",
      "59.59595959595959 % Complete\n",
      "------------------\n",
      "The number of smoothing periods: 2\n",
      "60.60606060606061 % Complete\n",
      "------------------\n",
      "The number of smoothing periods: 1\n",
      "61.61616161616161 % Complete\n",
      "------------------\n",
      "The number of smoothing periods: 1\n",
      "62.62626262626263 % Complete\n",
      "------------------\n",
      "The number of smoothing periods: 1\n",
      "63.63636363636363 % Complete\n",
      "------------------\n",
      "The number of smoothing periods: 1\n",
      "64.64646464646465 % Complete\n",
      "------------------\n",
      "The number of smoothing periods: 1\n",
      "65.65656565656566 % Complete\n",
      "------------------\n",
      "The number of smoothing periods: 1\n",
      "66.66666666666666 % Complete\n",
      "------------------\n",
      "The number of smoothing periods: 1\n",
      "67.67676767676768 % Complete\n",
      "------------------\n",
      "The number of smoothing periods: 1\n",
      "68.68686868686868 % Complete\n",
      "------------------\n",
      "The number of smoothing periods: 1\n",
      "69.6969696969697 % Complete\n",
      "------------------\n",
      "The number of smoothing periods: 1\n",
      "70.70707070707071 % Complete\n",
      "------------------\n",
      "The number of smoothing periods: 1\n",
      "71.71717171717171 % Complete\n",
      "------------------\n",
      "The number of smoothing periods: 1\n",
      "72.72727272727273 % Complete\n",
      "------------------\n",
      "The number of smoothing periods: 1\n",
      "73.73737373737373 % Complete\n",
      "------------------\n",
      "The number of smoothing periods: 1\n",
      "74.74747474747475 % Complete\n",
      "------------------\n",
      "The number of smoothing periods: 1\n",
      "75.75757575757575 % Complete\n",
      "------------------\n",
      "The number of smoothing periods: 1\n",
      "76.76767676767676 % Complete\n",
      "------------------\n",
      "The number of smoothing periods: 1\n",
      "77.77777777777779 % Complete\n",
      "------------------\n",
      "The number of smoothing periods: 1\n",
      "78.78787878787878 % Complete\n",
      "------------------\n",
      "The number of smoothing periods: 1\n",
      "79.7979797979798 % Complete\n",
      "------------------\n",
      "The number of smoothing periods: 1\n",
      "80.8080808080808 % Complete\n",
      "------------------\n",
      "The number of smoothing periods: 1\n",
      "81.81818181818183 % Complete\n",
      "------------------\n",
      "The number of smoothing periods: 1\n",
      "82.82828282828282 % Complete\n",
      "------------------\n",
      "The number of smoothing periods: 1\n",
      "83.83838383838383 % Complete\n",
      "------------------\n",
      "The number of smoothing periods: 1\n",
      "84.84848484848484 % Complete\n",
      "------------------\n",
      "The number of smoothing periods: 1\n",
      "85.85858585858585 % Complete\n",
      "------------------\n",
      "The number of smoothing periods: 1\n",
      "86.86868686868688 % Complete\n",
      "------------------\n",
      "The number of smoothing periods: 1\n",
      "87.87878787878788 % Complete\n",
      "------------------\n",
      "The number of smoothing periods: 1\n",
      "88.88888888888889 % Complete\n",
      "------------------\n",
      "The number of smoothing periods: 1\n",
      "89.8989898989899 % Complete\n",
      "------------------\n",
      "The number of smoothing periods: 1\n",
      "90.9090909090909 % Complete\n",
      "------------------\n",
      "The number of smoothing periods: 1\n",
      "91.91919191919192 % Complete\n",
      "------------------\n",
      "The number of smoothing periods: 1\n",
      "92.92929292929293 % Complete\n",
      "------------------\n",
      "The number of smoothing periods: 1\n",
      "93.93939393939394 % Complete\n",
      "------------------\n",
      "The number of smoothing periods: 1\n",
      "94.94949494949495 % Complete\n",
      "------------------\n",
      "The number of smoothing periods: 1\n",
      "95.95959595959596 % Complete\n",
      "------------------\n",
      "The number of smoothing periods: 1\n",
      "96.96969696969697 % Complete\n",
      "------------------\n",
      "The number of smoothing periods: 1\n",
      "97.97979797979798 % Complete\n",
      "------------------\n",
      "The number of smoothing periods: 1\n",
      "98.98989898989899 % Complete\n",
      "------------------\n",
      "The number of smoothing periods: 1\n",
      "100.0 % Complete\n"
     ]
    }
   ],
   "source": [
    "smoothing_periods_predictions = {}\n",
    "\n",
    "for period in smoothing_periods:\n",
    "    smoothing_data = get_smoothing_data(period, train_set, 365) # Dataset creation \n",
    "    print('-'*18)\n",
    "    trained_models = fit_Armia(smoothing_data) # Model Fitting \n",
    "    \n",
    "    num_periods = num_forcast_periods(date(2022, 9, 27), date(2022, 12, 27), period)\n",
    "    print('The number of smoothing periods:', num_periods)\n",
    "    smoothing_periods_predictions[str(period)] = forcast_model_lst(trained_models, num_periods)\n",
    "    \n",
    "    print((period/smoothing_periods[-1])*100, '% Complete')"
   ]
  },
  {
   "cell_type": "code",
   "execution_count": 54,
   "id": "85aeb93a-73fc-4767-9002-d69841f0dbe8",
   "metadata": {
    "tags": []
   },
   "outputs": [
    {
     "data": {
      "text/plain": [
       "(106.20890979690245, [102.00330197535892, 110.41451761844597])"
      ]
     },
     "execution_count": 54,
     "metadata": {},
     "output_type": "execute_result"
    }
   ],
   "source": [
    "smoothing_periods_predictions['1'][0]"
   ]
  },
  {
   "cell_type": "code",
   "execution_count": 55,
   "id": "1c0100e8-499b-47cd-9fe4-cf30857b253c",
   "metadata": {
    "tags": []
   },
   "outputs": [
    {
     "name": "stdout",
     "output_type": "stream",
     "text": [
      "{'1': 2694.8065900291112, '2': 2694.8065900291112, '3': 2646.3553678241337, '4': 2585.0576584047967, '5': 2585.0576584047967, '6': 2546.125765188195, '7': 2336.810694986769, '8': 2336.810694986769, '9': 2273.6430769049484, '10': 2159.234527521327, '11': 2094.5090301075547, '12': 2094.5090301075547, '13': 2087.152276430603, '14': 2154.544888422312, '15': 2154.544888422312, '16': 1994.3624106017605, '17': 1900.2001868688733, '18': 1900.2001868688733, '19': 1860.2292913346212, '20': 1787.5084845332315, '21': 1787.5084845332315, '22': 1760.2700194884171, '23': 2033.2132784461128, '24': 2033.2132784461128, '25': 2098.720961781516, '26': 1790.2731977397145, '27': 1790.2731977397145, '28': 1796.2761601365942, '29': 1770.4552608755519, '30': 2008.594224156762, '31': 2008.594224156762, '32': 2069.5140358401823, '33': 1700.0455060216734, '34': 1700.0455060216734, '35': 1664.5463168624606, '36': 1785.6705048617791, '37': 1785.6705048617791, '38': 1550.2744684205659, '39': 1543.2701807196531, '40': 1543.2701807196531, '41': 1499.1791554200097, '42': 1549.843889174117, '43': 1549.843889174117, '44': 1574.852380900489, '45': 1579.7826194774618, '46': 1385.457408165776, '47': 1385.457408165776, '48': 1403.1044046557363, '49': 1449.982334763397, '50': 1449.982334763397, '51': 1597.8497802375255, '52': 2236.6265825084033, '53': 2236.6265825084033, '54': 2214.9688218542065, '55': 1632.9174481660757, '56': 1632.9174481660757, '57': 1556.7852661809495, '58': 1402.3647046817998, '59': 1402.3647046817998, '60': 1393.6223005884874, '61': 1971.5291095447253, '62': 1971.5291095447253, '63': 1992.7893953477044, '64': 2042.3197173433234, '65': 2043.5729201754582, '66': 2043.5729201754582, '67': 2015.5411012693037, '68': 1443.6215620350117, '69': 1443.6215620350117, '70': 1428.0981196419928, '71': 1430.120250360138, '72': 1430.120250360138, '73': 1418.2130532812077, '74': 2187.020880335826, '75': 2187.020880335826, '76': 2358.062164527096, '77': 2346.5022234274825, '78': 2346.5022234274825, '79': 2314.9029268129843, '80': 2293.1544479744, '81': 2293.1544479744, '82': 2291.0572425462797, '83': 2328.6222281487144, '84': 2320.4889573403193, '85': 2320.4889573403193, '86': 2334.804266054044, '87': 2309.0303958058544, '88': 2309.0303958058544, '89': 2342.416619325499, '90': 1758.819242631283, '91': 1758.819242631283, '92': 2159.5124576548383, '93': 1814.2044315930066, '94': 1814.2044315930066, '95': 1980.01336525253, '96': 4133.8422754967605, '97': 4133.8422754967605, '98': 3282.490248365012, '99': 4828.557436771783}\n",
      "{'1': 13.885044143744489, '2': 13.885044143744489, '3': 13.972132067495952, '4': 13.995843198310185, '5': 13.995843198310185, '6': 13.625773176283973, '7': 12.867084213037502, '8': 12.867084213037502, '9': 12.576200570061685, '10': 12.327898698667695, '11': 12.261024393328901, '12': 12.261024393328901, '13': 12.017459966797553, '14': 11.784544776979816, '15': 11.784544776979816, '16': 11.582071266482602, '17': 11.37118672206938, '18': 11.37118672206938, '19': 11.20900233919407, '20': 11.155780210020295, '21': 11.155780210020295, '22': 11.071557770523807, '23': 11.240030047213073, '24': 11.240030047213073, '25': 11.136058637111718, '26': 11.085652588448966, '27': 11.085652588448966, '28': 11.193941609581364, '29': 11.325094747836483, '30': 11.23790106725886, '31': 11.23790106725886, '32': 11.373646076557522, '33': 11.450546534782868, '34': 11.450546534782868, '35': 11.00636188981556, '36': 11.280390813281695, '37': 11.280390813281695, '38': 11.092496918916538, '39': 11.064534914922648, '40': 11.064534914922648, '41': 11.061848139950447, '42': 11.178987071441377, '43': 11.178987071441377, '44': 11.182982469628834, '45': 11.069728349383999, '46': 10.9868211329322, '47': 10.9868211329322, '48': 11.058147700710583, '49': 11.280024552676503, '50': 11.280024552676503, '51': 11.743552273676297, '52': 11.61457292839174, '53': 11.61457292839174, '54': 11.945479266610983, '55': 12.013559488436751, '56': 12.013559488436751, '57': 11.925017330465808, '58': 11.834514250838842, '59': 11.834514250838842, '60': 11.821768440416903, '61': 12.005711144819845, '62': 12.005711144819845, '63': 12.197350083527066, '64': 12.459475953082336, '65': 12.399720646843944, '66': 12.399720646843944, '67': 12.410315971672354, '68': 12.404550759844348, '69': 12.404550759844348, '70': 12.502399774853465, '71': 12.52721178764557, '72': 12.52721178764557, '73': 12.606689375073001, '74': 13.380379384415495, '75': 13.380379384415495, '76': 13.453492792617295, '77': 13.676715612071833, '78': 13.676715612071833, '79': 13.889298253639119, '80': 13.754565329118078, '81': 13.754565329118078, '82': 13.624659470688169, '83': 13.758953482521667, '84': 13.684286006029193, '85': 13.684286006029193, '86': 13.968690508850905, '87': 13.96362711931128, '88': 13.96362711931128, '89': 14.24157267375959, '90': 14.386392734343767, '91': 14.386392734343767, '92': 16.65917046705479, '93': 16.519521932831363, '94': 16.519521932831363, '95': 16.33775531663112, '96': 16.988416622472187, '97': 16.988416622472187, '98': 16.9491319999489, '99': 16.62363866410932}\n"
     ]
    }
   ],
   "source": [
    "y_pred = {k:[pred[0] for pred in k_pred] for k, k_pred in smoothing_periods_predictions.items()}\n",
    "\n",
    "MSE = {}\n",
    "SMAPE = {}\n",
    "for smoothing, predictions in y_pred.items():\n",
    "    MSE[smoothing] = mean_squared_error(test_set, predictions)\n",
    "    SMAPE[smoothing] = smape(test_set, predictions)\n",
    "    \n",
    "print(MSE)\n",
    "print(SMAPE)"
   ]
  },
  {
   "cell_type": "code",
   "execution_count": null,
   "id": "e4fb4318-9a9d-41e9-99d4-3e8eb7ea8df8",
   "metadata": {},
   "outputs": [],
   "source": []
  },
  {
   "cell_type": "code",
   "execution_count": 76,
   "id": "ff8a010b-1692-447a-b9e9-3d49c1d0de3d",
   "metadata": {
    "tags": []
   },
   "outputs": [
    {
     "name": "stdout",
     "output_type": "stream",
     "text": [
      "The minumum SMAPE is: 10.9868211329322\n",
      "The length of smoothing period for the min SMAPE is: 46\n"
     ]
    },
    {
     "data": {
      "image/png": "[encoded data removed]",
      "text/plain": [
       "<Figure size 640x480 with 1 Axes>"
      ]
     },
     "metadata": {},
     "output_type": "display_data"
    }
   ],
   "source": [
    "SMAPE_array = np.array(list(SMAPE.values()))\n",
    "SMAPE_min = np.min(SMAPE_array)\n",
    "print('The minumum SMAPE is:', SMAPE_min)\n",
    "length_min = list(SMAPE.keys())[np.argmin(SMAPE_array)]\n",
    "print('The length of smoothing period for the min SMAPE is:', length_min)\n",
    "lengths = [length if int(length) % 5 == 0  else '' for length in SMAPE.keys()]\n",
    "\n",
    "plt.plot(SMAPE.keys(), SMAPE.values())\n",
    "plt.xticks(range(0,99),lengths)\n",
    "plt.axhline(y=SMAPE_min, color='r', linestyle='--', linewidth=0.7)\n",
    "plt.axvline(x=length_min, color='r', linestyle='--', linewidth=0.7)\n",
    "plt.ylabel('SMAPE')\n",
    "plt.xlabel('Length of smoohting period')\n",
    "plt.title('Predictive Abilty of Different Smoothing Periods')\n",
    "plt.show()"
   ]
  },
  {
   "cell_type": "code",
   "execution_count": 81,
   "id": "f91c0dd4-4a00-4c44-b2e7-bf844d1391b3",
   "metadata": {
    "collapsed": true,
    "jupyter": {
     "outputs_hidden": true
    },
    "tags": []
   },
   "outputs": [
    {
     "data": {
      "text/plain": [
       "{'1': 14.25150746454177,\n",
       " '2': 14.25150746454177,\n",
       " '3': 17.194662880622772,\n",
       " '4': 19.894002092004182,\n",
       " '5': 19.894002092004182,\n",
       " '6': 22.744819685071626,\n",
       " '7': 25.915916662889316,\n",
       " '8': 25.915916662889316,\n",
       " '9': 27.292194521770565,\n",
       " '10': 30.885237673783127,\n",
       " '11': 31.126171922883405,\n",
       " '12': 31.126171922883405,\n",
       " '13': 32.91725419386258,\n",
       " '14': 32.38870505267343,\n",
       " '15': 32.38870505267343,\n",
       " '16': 37.32665968681541,\n",
       " '17': 38.59813196564497,\n",
       " '18': 38.59813196564497,\n",
       " '19': 37.81190462854208,\n",
       " '20': 40.04944214686306,\n",
       " '21': 40.04944214686306,\n",
       " '22': 43.45010597014315,\n",
       " '23': 41.304500710708204,\n",
       " '24': 41.304500710708204,\n",
       " '25': 41.50807413411897,\n",
       " '26': 44.81592426956623,\n",
       " '27': 44.81592426956623,\n",
       " '28': 44.62186828594974,\n",
       " '29': 45.04570323986235,\n",
       " '30': 45.368636189241954,\n",
       " '31': 45.368636189241954,\n",
       " '32': 47.37027439867844,\n",
       " '33': 46.67163080141334,\n",
       " '34': 46.67163080141334,\n",
       " '35': 47.31256717969452,\n",
       " '36': 49.71234695841046,\n",
       " '37': 49.71234695841046,\n",
       " '38': 50.30362081890563,\n",
       " '39': 48.60762789386251,\n",
       " '40': 48.60762789386251,\n",
       " '41': 45.1116647849407,\n",
       " '42': 46.95654099480548,\n",
       " '43': 46.95654099480548,\n",
       " '44': 47.11528455129011,\n",
       " '45': 47.583978033037454,\n",
       " '46': 46.44153680915034,\n",
       " '47': 46.44153680915034,\n",
       " '48': 48.76186135042307,\n",
       " '49': 50.777903743500346,\n",
       " '50': 50.777903743500346,\n",
       " '51': 51.10760869922352,\n",
       " '52': 47.76994774651734,\n",
       " '53': 47.76994774651734,\n",
       " '54': 46.883799775381284,\n",
       " '55': 47.01516848925424,\n",
       " '56': 47.01516848925424,\n",
       " '57': 47.63154068073376,\n",
       " '58': 48.21700584198025,\n",
       " '59': 48.21700584198025,\n",
       " '60': 49.07026062833886,\n",
       " '61': 50.212804534122434,\n",
       " '62': 50.212804534122434,\n",
       " '63': 50.315962469398556,\n",
       " '64': 50.20867245077725,\n",
       " '65': 50.06960983187956,\n",
       " '66': 50.06960983187956,\n",
       " '67': 50.09389444791716,\n",
       " '68': 51.80689510952605,\n",
       " '69': 51.80689510952605,\n",
       " '70': 53.692286175138356,\n",
       " '71': 54.93579018738276,\n",
       " '72': 54.93579018738276,\n",
       " '73': 55.901123089580864,\n",
       " '74': 58.08376792759682,\n",
       " '75': 58.08376792759682,\n",
       " '76': 56.06167600854536,\n",
       " '77': 55.28134158662671,\n",
       " '78': 55.28134158662671,\n",
       " '79': 53.61644980955725,\n",
       " '80': 52.5341253296836,\n",
       " '81': 52.5341253296836,\n",
       " '82': 50.82461492960629,\n",
       " '83': 49.443087486489446,\n",
       " '84': 48.29348380300838,\n",
       " '85': 48.29348380300838,\n",
       " '86': 47.91024406477044,\n",
       " '87': 47.12103715836894,\n",
       " '88': 47.12103715836894,\n",
       " '89': 45.37072888514659,\n",
       " '90': 45.55573714546148,\n",
       " '91': 45.55573714546148,\n",
       " '92': 27.540702104271826,\n",
       " '93': 29.466320243896707,\n",
       " '94': 29.466320243896707,\n",
       " '95': 30.02448750106756,\n",
       " '96': 24.410413266998088,\n",
       " '97': 24.410413266998088,\n",
       " '98': 24.696361716702036,\n",
       " '99': 22.888707871834878}"
      ]
     },
     "execution_count": 81,
     "metadata": {},
     "output_type": "execute_result"
    }
   ],
   "source": [
    "y_conf_width = {k:np.mean(np.array([pred[1][1] - pred[1][0] for pred in k_pred])) for k, k_pred in smoothing_periods_predictions.items()}\n",
    "y_conf_width"
   ]
  },
  {
   "cell_type": "code",
   "execution_count": 83,
   "id": "8ded7207-68fb-4342-abf9-e27ec9cc9ac6",
   "metadata": {
    "tags": []
   },
   "outputs": [
    {
     "name": "stdout",
     "output_type": "stream",
     "text": [
      "The minumum SMAPE is: 14.25150746454177\n",
      "The length of smoothing period for the min SMAPE is: 1\n"
     ]
    },
    {
     "data": {
      "image/png": "[encoded data removed]",
      "text/plain": [
       "<Figure size 640x480 with 1 Axes>"
      ]
     },
     "metadata": {},
     "output_type": "display_data"
    }
   ],
   "source": [
    "yconf_array = np.array(list(y_conf_width.values()))\n",
    "yconf_min = np.min(yconf_array)\n",
    "print('The minumum SMAPE is:', yconf_min)\n",
    "length_min = list(y_conf_width.keys())[np.argmin(yconf_array)]\n",
    "print('The length of smoothing period for the min SMAPE is:', length_min)\n",
    "lengths = [length if int(length) % 5 == 0  else '' for length in y_conf_width.keys()]\n",
    "\n",
    "plt.plot(y_conf_width.keys(), y_conf_width.values())\n",
    "plt.xticks(range(0,99),lengths)\n",
    "plt.axhline(y=yconf_min, color='r', linestyle='--', linewidth=0.7)\n",
    "plt.axvline(x=length_min, color='r', linestyle='--', linewidth=0.7)\n",
    "plt.ylabel('Average Length of Confidence Interval')\n",
    "plt.xlabel('Length of smoohting period')\n",
    "plt.title('How Confidence Intervals Change with different Smoohting Periods')\n",
    "plt.show()"
   ]
  }
 ],
 "metadata": {
  "kernelspec": {
   "display_name": "Python 3 (ipykernel)",
   "language": "python",
   "name": "python3"
  },
  "language_info": {
   "codemirror_mode": {
    "name": "ipython",
    "version": 3
   },
   "file_extension": ".py",
   "mimetype": "text/x-python",
   "name": "python",
   "nbconvert_exporter": "python",
   "pygments_lexer": "ipython3",
   "version": "3.11.5"
  }
 },
 "nbformat": 4,
 "nbformat_minor": 5
}
