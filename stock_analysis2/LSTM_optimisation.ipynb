{
 "cells": [
  {
   "cell_type": "code",
   "execution_count": 1,
   "id": "2747e797-b510-4a32-912c-a88404f2527a",
   "metadata": {
    "tags": []
   },
   "outputs": [],
   "source": [
    "import os \n",
    "os.chdir('/Users/marcs')"
   ]
  },
  {
   "cell_type": "code",
   "execution_count": 2,
   "id": "812e27ac-74dd-43c8-9dcb-0d4a2ebd31b0",
   "metadata": {
    "tags": []
   },
   "outputs": [],
   "source": [
    "from pickle_loader import pickle_loader\n"
   ]
  },
  {
   "cell_type": "code",
   "execution_count": null,
   "id": "fffe2360-df8f-4bb3-9ca9-2f7fbff24dae",
   "metadata": {},
   "outputs": [],
   "source": []
  },
  {
   "cell_type": "code",
   "execution_count": 3,
   "id": "dfbb2eca-d759-4eeb-b0c8-512a1b420abc",
   "metadata": {
    "tags": []
   },
   "outputs": [],
   "source": [
    "LSTM_dataset = technical_data = pickle_loader('/Users/marcs/OneDrive/Documents/stock_analysis2/standardised_LSTM_data.pickle')"
   ]
  },
  {
   "cell_type": "code",
   "execution_count": null,
   "id": "be969b97-35e7-4daf-acae-72d3149a9715",
   "metadata": {},
   "outputs": [],
   "source": []
  },
  {
   "cell_type": "markdown",
   "id": "9611f7e2-f880-4a7a-92d1-37442c25b81a",
   "metadata": {},
   "source": [
    "### Flatten the data\n",
    "\n",
    "The LSTM data is currently grouped by stock. Each stock has  tuple with a list of array containing sequences for the given stock on element 0, and a list of the corresponding target variables on element 1. For module consumption a 1 dimensional list of sequences and target varibles is needed "
   ]
  },
  {
   "cell_type": "code",
   "execution_count": 4,
   "id": "6daefb23-40f9-491a-a366-1f9c96ddb837",
   "metadata": {
    "tags": []
   },
   "outputs": [],
   "source": [
    "def flatten_dataset(LSTM_dataset):\n",
    "    X = []\n",
    "    y = []\n",
    "    \n",
    "    for stock_data in LSTM_dataset:\n",
    "        for quarter_data_X in stock_data[0]:\n",
    "            X.append(quarter_data_X)\n",
    "        for quarter_data_y in stock_data[1]:\n",
    "            y.append(quarter_data_y)\n",
    "        \n",
    "    return X, y"
   ]
  },
  {
   "cell_type": "code",
   "execution_count": null,
   "id": "122f7868-1886-4611-87bb-bc2ae72ea142",
   "metadata": {},
   "outputs": [],
   "source": []
  },
  {
   "cell_type": "code",
   "execution_count": 5,
   "id": "60d44344-234a-4b7a-8fdb-0e681fa29399",
   "metadata": {
    "tags": []
   },
   "outputs": [],
   "source": [
    "X_data, y_data = flatten_dataset(list(LSTM_dataset.values()))"
   ]
  },
  {
   "cell_type": "code",
   "execution_count": 6,
   "id": "60d0953c-565b-47ef-a978-7dc46bbfb911",
   "metadata": {
    "tags": []
   },
   "outputs": [
    {
     "data": {
      "text/plain": [
       "1488"
      ]
     },
     "execution_count": 6,
     "metadata": {},
     "output_type": "execute_result"
    }
   ],
   "source": [
    "len(X_data)"
   ]
  },
  {
   "cell_type": "code",
   "execution_count": 7,
   "id": "8cbf5315-b64b-4c8d-98ba-268f31572e85",
   "metadata": {
    "tags": []
   },
   "outputs": [
    {
     "data": {
      "text/plain": [
       "1488"
      ]
     },
     "execution_count": 7,
     "metadata": {},
     "output_type": "execute_result"
    }
   ],
   "source": [
    "len(y_data)"
   ]
  },
  {
   "cell_type": "code",
   "execution_count": 8,
   "id": "0db86e00-febe-4b0b-803c-4ab7532317b4",
   "metadata": {
    "tags": []
   },
   "outputs": [
    {
     "data": {
      "text/plain": [
       "(124, 5)"
      ]
     },
     "execution_count": 8,
     "metadata": {},
     "output_type": "execute_result"
    }
   ],
   "source": [
    "X_data[0].shape"
   ]
  },
  {
   "cell_type": "markdown",
   "id": "25d2bb8e-7723-4b7a-9e77-ec97a731bf0a",
   "metadata": {},
   "source": [
    "### Get test train split \n",
    "\n",
    "The sklearn train_test_split function will be used to obatain a randomised splt of the dataset \n",
    "to generate a train and test dataset. The size of the train set will be the multiple of 8 closest to 80% of the entire datset. A multiple of 8 is used as batches of size 8 will be used to train the model."
   ]
  },
  {
   "cell_type": "code",
   "execution_count": 9,
   "id": "f27756e6-657c-4592-aa69-df1bd4b45c9d",
   "metadata": {
    "tags": []
   },
   "outputs": [],
   "source": [
    "from sklearn.model_selection import train_test_split"
   ]
  },
  {
   "cell_type": "code",
   "execution_count": 10,
   "id": "3ae3ff9b-bde5-4036-8334-a895e29c8240",
   "metadata": {
    "tags": []
   },
   "outputs": [
    {
     "name": "stdout",
     "output_type": "stream",
     "text": [
      "Size of X_train, X_test, y_train, y_test are: 1184 304 1184 304\n"
     ]
    }
   ],
   "source": [
    "def split_dataset(X, y, split = 0.8):\n",
    "    num_samples = len(X)\n",
    "    train_size = int(num_samples * split)  - (int(num_samples * split) % 8)\n",
    "    return train_test_split(X, y, train_size = train_size, random_state = 211)\n",
    "\n",
    "X_train, X_test, y_train, y_test = split_dataset(X_data, y_data)\n",
    "\n",
    "print('Size of X_train, X_test, y_train, y_test are:', len(X_train), len(X_test), len(y_train), len(y_test))"
   ]
  },
  {
   "cell_type": "markdown",
   "id": "bc2cda6b-00cf-4d9c-beb2-93ceb6c5383d",
   "metadata": {
    "tags": []
   },
   "source": [
    "### Split the samples of the train and test set into batches\n",
    "The train set will be a list of array's of size (8, len_seq, 5) \n",
    "\n",
    "The test set will be a list of array's of size (len_test_set, len_seq, 5)\n"
   ]
  },
  {
   "cell_type": "code",
   "execution_count": 43,
   "id": "609420f9-2eee-42dc-bf2d-7603bfe7eb81",
   "metadata": {
    "tags": []
   },
   "outputs": [
    {
     "name": "stdout",
     "output_type": "stream",
     "text": [
      "(16, 124, 5) (16, 1)\n",
      "(304, 124, 5) (304,)\n"
     ]
    }
   ],
   "source": [
    "import numpy as np\n",
    "def batch_train_test(X_train, X_test, y_train, y_test, train_batch_size = 16):\n",
    "    num_train_batches = len(X_train) / 8\n",
    "    seq_len, num_features = X_train[0].shape\n",
    "    \n",
    "    batched_X_train = []\n",
    "    batched_y_train = []\n",
    "    for i in range(0, len(X_train), train_batch_size):\n",
    "        batched_X_train.append(np.stack(X_train[i : (i + train_batch_size)], dtype = np.float32))\n",
    "        batched_y_train.append(np.reshape(np.array(y_train[i : (i + train_batch_size)], dtype = np.float32), (train_batch_size, 1)))\n",
    "    print(batched_X_train[0].shape, batched_y_train[0].shape)\n",
    "    \n",
    "    batched_X_test = np.stack(X_test, dtype = np.float32)\n",
    "    batched_y_test = np.array(y_test, dtype = np.float32)\n",
    "    print(batched_X_test.shape, batched_y_test.shape)\n",
    "    \n",
    "    return batched_X_train, batched_X_test, batched_y_train, batched_y_test\n",
    "    \n",
    "batched_X_train, batched_X_test, batched_y_train, batched_y_test = batch_train_test(X_train, X_test, y_train, y_test)"
   ]
  },
  {
   "cell_type": "markdown",
   "id": "3a408725-945b-4723-bcdf-8d50c853cd2f",
   "metadata": {},
   "source": [
    "### Create tensors "
   ]
  },
  {
   "cell_type": "code",
   "execution_count": 44,
   "id": "0b4f39a0-ee13-4e09-8829-8cc389991110",
   "metadata": {
    "tags": []
   },
   "outputs": [],
   "source": [
    "import torch #pytorch\n",
    "import torch.nn as nn\n",
    "from torch.autograd import Variable"
   ]
  },
  {
   "cell_type": "code",
   "execution_count": 45,
   "id": "12ea41ab-0583-4bed-92b6-f42f1baba7c5",
   "metadata": {
    "tags": []
   },
   "outputs": [
    {
     "name": "stdout",
     "output_type": "stream",
     "text": [
      "torch.Size([16, 124, 5]) torch.Size([304, 124, 5]) torch.Size([16, 1]) torch.Size([304])\n"
     ]
    }
   ],
   "source": [
    "X_train_tensor = [torch.from_numpy(arr) for arr in batched_X_train]\n",
    "X_test_tensor = torch.from_numpy(batched_X_test)\n",
    "y_train_tensor = [torch.from_numpy(arr) for arr in batched_y_train]\n",
    "y_test_tensor = torch.from_numpy(batched_y_test)\n",
    "print(X_train_tensor[0].shape, X_test_tensor.shape, y_train_tensor[0].shape, y_test_tensor.shape)"
   ]
  },
  {
   "cell_type": "markdown",
   "id": "f8c9c7a3-5b5d-43fe-a8ec-71c0054fa5a4",
   "metadata": {},
   "source": [
    "### Define Model"
   ]
  },
  {
   "cell_type": "code",
   "execution_count": 67,
   "id": "0f1da853-6adf-4b42-9ca9-89f3e3e13be7",
   "metadata": {
    "tags": []
   },
   "outputs": [],
   "source": [
    "class LSTM(nn.Module):\n",
    "    def __init__(self, input_size, hidden_size, num_layers, seq_length, dropout_pr):\n",
    "        super(LSTM, self).__init__()\n",
    "        \n",
    "        self.num_layers = num_layers #number of layers\n",
    "        self.input_size = input_size #input size\n",
    "        self.hidden_size = hidden_size #hidden state\n",
    "        self.seq_length = seq_length #sequence length\n",
    "\n",
    "        self.lstm = nn.LSTM(input_size=input_size, hidden_size=hidden_size,\n",
    "                          num_layers=num_layers, batch_first=True) #lstm\n",
    "        self.fc_1 = nn.Linear(hidden_size * num_layers, hidden_size) #fully connected 1\n",
    "        self.fc_2 = nn.Linear(hidden_size, hidden_size) #fully connected 2\n",
    "        self.dropout = nn.Dropout(dropout_pr) # add a droput layer \n",
    "        self.fc = nn.Linear(hidden_size, 1) #fully connected last layer\n",
    "        self.relu = nn.ReLU()\n",
    "        \n",
    "    def forward(self,x):\n",
    "        h_0 = Variable(torch.zeros(self.num_layers, x.size(0), self.hidden_size)) #hidden state\n",
    "        c_0 = Variable(torch.zeros(self.num_layers, x.size(0), self.hidden_size)) #internal state\n",
    "        h_0, c_0 = h_0.to(device, non_blocking = True), c_0.to(device, non_blocking = True)\n",
    "        # Propagate input through LSTM\n",
    "        out, (hn, cn) = self.lstm(x, (h_0, c_0)) #lstm with input, hidden, and internal state\n",
    "\n",
    "        out = hn.view(-1, self.hidden_size * self.num_layers) #reshaping the data for Dense layer next\n",
    "        out = self.relu(out)\n",
    "\n",
    "        out = self.fc_1(out) # first Dense\n",
    "        out = self.relu(out) # relu\n",
    "        out = self.dropout(out)\n",
    "        \n",
    "        out = self.fc_2(out) # second dense\n",
    "        out = self.relu(out) # relu\n",
    "        out = self.dropout(out)\n",
    "        \n",
    "        out = self.fc(out) #Final Output\n",
    "        return out"
   ]
  },
  {
   "cell_type": "code",
   "execution_count": 47,
   "id": "002172b9-d599-4e84-937b-d2be7d263158",
   "metadata": {
    "tags": []
   },
   "outputs": [
    {
     "name": "stdout",
     "output_type": "stream",
     "text": [
      "5\n",
      "The hidden size is 150\n",
      "torch.Size([16, 1])\n"
     ]
    }
   ],
   "source": [
    "#First reinalitialse the model\n",
    "learning_rate = 0.001 #0.001 lr\n",
    "\n",
    "input_size = 5 #number of features\n",
    "hidden_size = 150 #number of features in hidden state\n",
    "num_layers = 1 #number of stacked lstm layers\n",
    "\n",
    "num_classes = 1 #number of output classes\n",
    "\n",
    "print(X_train_tensor[0].shape[2])\n",
    "lstm1 = LSTM(X_train_tensor[0].shape[2], hidden_size, num_layers, X_train_tensor[0].shape[1], 0.2)\n",
    "criterion = torch.nn.MSELoss()    # mean-squared error for regression\n",
    "optimizer = torch.optim.Adam(lstm1.parameters(), lr=learning_rate)\n",
    "    \n",
    "previous_loss = 100000 # intialise previous loss as large \n",
    "torch.manual_seed(16) # set seed to get reproducibility of results\n",
    "\n",
    "outputs = lstm1.forward(X_train_tensor[0]) #forward pass\n",
    "print(outputs.shape)\n",
    "optimizer.zero_grad() #caluclate the gradient, manually setting to 0\n",
    "        \n",
    "# obtain the loss function\n",
    "loss = criterion(outputs, y_train_tensor[0])\n",
    "\n",
    "loss.backward() #calculates the loss of the loss function\n",
    " \n",
    "optimizer.step() #improve from loss, i.e backprop"
   ]
  },
  {
   "cell_type": "markdown",
   "id": "d624cacf-b213-4e5f-a9a4-e3580b8b9ccd",
   "metadata": {
    "tags": []
   },
   "source": [
    "### Define Training function "
   ]
  },
  {
   "cell_type": "code",
   "execution_count": 154,
   "id": "e83891dd-0724-44ea-8719-a00426ebf885",
   "metadata": {
    "tags": []
   },
   "outputs": [],
   "source": [
    "def train_model(X_train_tensor, y_train_tensor, hidden_size, loss_change = 0.01, dropout_pr = 0.25, lr = 0.001, num_epochs = 1000):\n",
    "    \"\"\"\n",
    "    This function takes a train dataset as input and ouputs a trained model. \n",
    "    \n",
    "    \"\"\"\n",
    "    #First reinalitialse the model\n",
    "    input_size = X_train_tensor[0].shape[2] #number of features\n",
    "    num_layers = 1 #number of stacked lstm layers\n",
    "    \n",
    "    lstm = LSTM(input_size, hidden_size, num_layers, X_train_tensor[0].shape[1], dropout_pr)\n",
    "    lstm.to(device)\n",
    "    criterion = torch.nn.MSELoss()    # mean-squared error for regression\n",
    "    optimizer = torch.optim.Adam(lstm.parameters(), lr=lr)\n",
    "    \n",
    "    previous_loss = 100000 # intialise previous loss as large \n",
    "    torch.manual_seed(16) # set seed to get reproducibility of results\n",
    "    \n",
    "    mean_losses = []\n",
    "    \n",
    "    \n",
    "    for epoch in range(num_epochs):\n",
    "        batch_losses = []\n",
    "        for i, X_batch in enumerate(X_train_tensor):\n",
    "            y_batch = y_train_tensor[i]\n",
    "            X_batch = X_batch.to(device, non_blocking=True)\n",
    "            y_batch = y_batch.to(device, non_blocking=True)\n",
    "            \n",
    "            outputs = lstm.forward(X_batch) #forward pass\n",
    "            optimizer.zero_grad() #caluclate the gradient, manually setting to 0\n",
    "        \n",
    "            # obtain the loss function\n",
    "            loss = criterion(outputs, y_batch)\n",
    " \n",
    "            loss.backward() #calculates the loss of the loss function\n",
    " \n",
    "            optimizer.step() #improve from loss, i.e backprop\n",
    "    \n",
    "            batch_losses.append(loss.item())\n",
    "        \n",
    "        mean_losses.append(sum(batch_losses) / len(batch_losses))\n",
    "        #print(mean_losses[i])\n",
    "        \n",
    "        if epoch % 5 == 0 and epoch != 0: # Every 5th iteration\n",
    "            mean_loss_5_epoch = sum(mean_losses[-5:]) / 5\n",
    "            print('Loss change last 5 iterations:', 1 - (mean_loss_5_epoch) / previous_loss )\n",
    "            if 1 - ((mean_loss_5_epoch) / previous_loss) < loss_change: # if previous less than loss_change\n",
    "                print('Number of epochs and loss:',epoch, mean_losses[epoch])\n",
    "                break\n",
    "            else:\n",
    "                previous_loss = mean_loss_5_epoch # or set previous loss to cuurent loss\n",
    "            \n",
    "        if epoch == num_epochs - 1: # if model has not converged within 1000 iterations \n",
    "            print('Model has not converged consider increasing loss change!')\n",
    "            print('Its loss is currently;', mean_losses[epoch])\n",
    "    \n",
    "        \n",
    "    return lstm, mean_losses"
   ]
  },
  {
   "cell_type": "markdown",
   "id": "4f75c39b-a4ac-41f6-ad1a-58c678b621b8",
   "metadata": {},
   "source": [
    "### Evaluate the time differwnce using M1 GPU"
   ]
  },
  {
   "cell_type": "code",
   "execution_count": 49,
   "id": "10e06cb0-26f5-49c8-8947-962dfd7550a8",
   "metadata": {
    "tags": []
   },
   "outputs": [
    {
     "name": "stdout",
     "output_type": "stream",
     "text": [
      "MPS is available\n"
     ]
    }
   ],
   "source": [
    "# Check that MPS is available\n",
    "if not torch.backends.mps.is_available():\n",
    "    if not torch.backends.mps.is_built():\n",
    "        print(\"MPS not available because the current PyTorch install was not \"\n",
    "              \"built with MPS enabled.\")\n",
    "    else:\n",
    "        print(\"MPS not available because the current MacOS version is not 12.3+ \"\n",
    "              \"and/or you do not have an MPS-enabled device on this machine.\")\n",
    "\n",
    "else:\n",
    "    print('MPS is available')"
   ]
  },
  {
   "cell_type": "code",
   "execution_count": 50,
   "id": "63c671c8-b36c-4760-a2ea-d0cfe488729d",
   "metadata": {
    "tags": []
   },
   "outputs": [
    {
     "data": {
      "text/plain": [
       "device(type='mps')"
      ]
     },
     "execution_count": 50,
     "metadata": {},
     "output_type": "execute_result"
    }
   ],
   "source": [
    "torch.device(\"mps\")"
   ]
  },
  {
   "cell_type": "code",
   "execution_count": 112,
   "id": "f4e862f4-3359-4876-838c-1a123db7c6ea",
   "metadata": {
    "tags": []
   },
   "outputs": [
    {
     "name": "stdout",
     "output_type": "stream",
     "text": [
      "Loss change last 10 iterations: 0.9999994852913616\n",
      "Loss change last 10 iterations: 0.1556024952293119\n",
      "Loss change last 10 iterations: 0.071838135683016\n",
      "Loss change last 10 iterations: 0.05072218284867658\n",
      "Model has not converged consider deacreasing loss change!\n",
      "Its loss is currently; 0.0375070757220021\n",
      "Using the CPU 50 iterations takes: 52.416110625024885\n",
      "(LSTM(\n",
      "  (lstm): LSTM(5, 50, batch_first=True)\n",
      "  (fc_1): Linear(in_features=50, out_features=50, bias=True)\n",
      "  (fc_2): Linear(in_features=50, out_features=50, bias=True)\n",
      "  (dropout): Dropout(p=0.25, inplace=False)\n",
      "  (fc): Linear(in_features=50, out_features=1, bias=True)\n",
      "  (relu): ReLU()\n",
      "), [0.2593278925161104, 0.06100696283770171, 0.05630830559577491, 0.05395074883425558, 0.056489528484038404, 0.051037295004101216, 0.04745245604096232, 0.04900174124820812, 0.0468725184154873, 0.0463974086467076, 0.04619167323501126, 0.04595762945560587, 0.044786130808092454, 0.04328530057761315, 0.04407070718101553, 0.04393873769613738, 0.04277210578171385, 0.04151466306349313, 0.042539971930956516, 0.04272201807691237, 0.04303142532857286, 0.04041414627981548, 0.04213003987899503, 0.0413905833596112, 0.04244545259437448, 0.03966822437438611, 0.04052110176181068, 0.039120233359721465, 0.03817066049983574, 0.03997827395545067, 0.03955777742069315, 0.03817956296198473, 0.03937728577167601, 0.038672406364836404, 0.03722944509590397, 0.03806446631111809, 0.03851367776105936, 0.03911753686623195, 0.03754600207321346, 0.03899263761736251, 0.03724232195826197, 0.03839087881449912, 0.037965256865513886, 0.036765547947505035, 0.03691900315115581, 0.03707469556153425, 0.037389284660536294, 0.036467014402906235, 0.03590706424359735, 0.0375070757220021])\n"
     ]
    }
   ],
   "source": [
    "import timeit\n",
    "device = torch.device(\"cpu\")\n",
    "start_time = timeit.default_timer()\n",
    "test = train_model(X_train_tensor, y_train_tensor, 50, num_epochs=50)\n",
    "elapsed = timeit.default_timer() - start_time\n",
    "print('Using the CPU 50 iterations takes:', elapsed)\n",
    "print(test)"
   ]
  },
  {
   "cell_type": "code",
   "execution_count": 111,
   "id": "341038d7-8cda-46df-8d80-79ff9268b228",
   "metadata": {
    "tags": []
   },
   "outputs": [
    {
     "name": "stdout",
     "output_type": "stream",
     "text": [
      "Loss change last 10 iterations: 0.999999485674051\n",
      "Loss change last 10 iterations: 0.16418805441939932\n",
      "Loss change last 10 iterations: 0.06615251881968087\n",
      "Loss change last 10 iterations: 0.05665542323785111\n",
      "Model has not converged consider deacreasing loss change!\n",
      "Its loss is currently; 0.035432157100404836\n",
      "Using the MPS 50 iterations takes: 34.397463125002105\n",
      "(LSTM(\n",
      "  (lstm): LSTM(5, 50, batch_first=True)\n",
      "  (fc_1): Linear(in_features=50, out_features=50, bias=True)\n",
      "  (fc_2): Linear(in_features=50, out_features=50, bias=True)\n",
      "  (dropout): Dropout(p=0.25, inplace=False)\n",
      "  (fc): Linear(in_features=50, out_features=1, bias=True)\n",
      "  (relu): ReLU()\n",
      "), [0.261368130686114, 0.062281839071294746, 0.05749768824190707, 0.05425950776584245, 0.04985205856831493, 0.051174854947807824, 0.04925086375678311, 0.04921674187219626, 0.04818592348916305, 0.04687350036928783, 0.04573297096617721, 0.04383000823341914, 0.04536652445440759, 0.0453930241810913, 0.04461978282779455, 0.04319547454046237, 0.04169363237766398, 0.04077941902938324, 0.042617850534215164, 0.03983982286189456, 0.04254423309671315, 0.04095696221181267, 0.041665416814990947, 0.041552245088324356, 0.040816906745218345, 0.040735953072136316, 0.03803573147947523, 0.03838936390506255, 0.03987260559271719, 0.04054112984119235, 0.038875827669619105, 0.0383775038204181, 0.03957834399330455, 0.039126820849707804, 0.03638884479909934, 0.03773235158390693, 0.03806401495947628, 0.03746778011397534, 0.03647027549182845, 0.03753630823229213, 0.037956024092194195, 0.03770874822008852, 0.037085898503711495, 0.03534886340384145, 0.03706422553875962, 0.03836317644832102, 0.036106676404439916, 0.0372261616678254, 0.03489742292141592, 0.035432157100404836])\n"
     ]
    }
   ],
   "source": [
    "import timeit\n",
    "device = torch.device(\"mps\")\n",
    "start_time = timeit.default_timer()\n",
    "test = train_model(X_train_tensor, y_train_tensor, 50, num_epochs=50)\n",
    "elapsed = timeit.default_timer() - start_time\n",
    "print('Using the MPS 50 iterations takes:', elapsed)\n",
    "print(test)"
   ]
  },
  {
   "cell_type": "markdown",
   "id": "a1a26bd0-eb6a-4d5a-9dfb-a435465882ba",
   "metadata": {
    "tags": []
   },
   "source": [
    "Mps is clearly faster here!"
   ]
  },
  {
   "cell_type": "markdown",
   "id": "2555cef1-90eb-47ff-ba73-b4bbec9e060a",
   "metadata": {
    "tags": []
   },
   "source": [
    "### Explore the effect of diffrent learning rates on convergence"
   ]
  },
  {
   "cell_type": "code",
   "execution_count": 123,
   "id": "0f1c8df7-b5db-4d98-a9f3-f66a1b4ade68",
   "metadata": {
    "tags": []
   },
   "outputs": [
    {
     "name": "stdout",
     "output_type": "stream",
     "text": [
      "********************\n",
      "For an lr of: 0.01\n",
      "Loss change last 10 iterations: 0.9999995534979196\n",
      "Loss change last 10 iterations: 0.15370470624848598\n",
      "Loss change last 10 iterations: 0.021178259457479087\n",
      "Loss change last 10 iterations: 0.002055914110513535\n",
      "Number of epochs and loss: 40 0.036893934445657035\n",
      "********************\n",
      "For an lr of: 0.0075\n",
      "Loss change last 10 iterations: 0.9999995769830479\n",
      "Loss change last 10 iterations: 0.11457872847949246\n",
      "Loss change last 10 iterations: 0.014353071744774959\n",
      "Loss change last 10 iterations: 0.0017557796434271022\n",
      "Number of epochs and loss: 40 0.03683434723800904\n",
      "********************\n",
      "For an lr of: 0.005\n",
      "Loss change last 10 iterations: 0.9999995560572577\n",
      "Loss change last 10 iterations: 0.1456879686206337\n",
      "Loss change last 10 iterations: 0.04851892305152339\n",
      "Loss change last 10 iterations: 0.023115743530892185\n",
      "Loss change last 10 iterations: 0.01516187458165652\n",
      "Loss change last 10 iterations: 0.016499140506789356\n",
      "Loss change last 10 iterations: 0.02784837983735433\n",
      "Loss change last 10 iterations: 0.050998436790741786\n",
      "Loss change last 10 iterations: 0.05193358013744542\n",
      "Loss change last 10 iterations: 0.08158845953329408\n",
      "Loss change last 10 iterations: 0.04686486127261236\n",
      "Loss change last 10 iterations: 0.08873733832752606\n",
      "Loss change last 10 iterations: 0.054039475327099074\n",
      "Loss change last 10 iterations: 0.15958771699460472\n",
      "Loss change last 10 iterations: -0.10082942511971482\n",
      "Number of epochs and loss: 150 0.01577844551600818\n",
      "********************\n",
      "For an lr of: 0.0025\n",
      "Loss change last 10 iterations: 0.9999995102859033\n",
      "Loss change last 10 iterations: 0.14550655542292612\n",
      "Loss change last 10 iterations: 0.07981488525622082\n",
      "Loss change last 10 iterations: 0.041284003170110384\n",
      "Loss change last 10 iterations: 0.020814881994272172\n",
      "Loss change last 10 iterations: -0.0013700598134538389\n",
      "Number of epochs and loss: 60 0.036663108058525504\n",
      "********************\n",
      "For an lr of: 0.001\n",
      "Loss change last 10 iterations: 0.9999994854357086\n",
      "Loss change last 10 iterations: 0.15127316706986582\n",
      "Loss change last 10 iterations: 0.08237296662902072\n",
      "Loss change last 10 iterations: 0.021997654295768054\n",
      "Loss change last 10 iterations: 0.037149679655069545\n",
      "Loss change last 10 iterations: 0.05717329680607053\n",
      "Loss change last 10 iterations: 0.04948129681551794\n",
      "Loss change last 10 iterations: 0.06193937067700106\n",
      "Loss change last 10 iterations: 0.07003900502409277\n",
      "Loss change last 10 iterations: 0.06612473528201568\n",
      "Loss change last 10 iterations: -0.03670971430888326\n",
      "Number of epochs and loss: 110 0.033093576546053625\n"
     ]
    }
   ],
   "source": [
    "lrs = [0.01, 0.0075, 0.005, 0.0025, 0.001]\n",
    "all_losses = []\n",
    "device = torch.device(\"mps\")\n",
    "\n",
    "for lr in lrs:\n",
    "    print('*' * 20)\n",
    "    print('For an lr of:', lr)\n",
    "    \n",
    "    _, losses = train_model(X_train_tensor, y_train_tensor, 50, lr = lr, num_epochs=500)\n",
    "    all_losses.append(losses)\n"
   ]
  },
  {
   "cell_type": "code",
   "execution_count": 124,
   "id": "22043ef7-d5bc-4702-9dbb-fcdf17ab7016",
   "metadata": {
    "tags": []
   },
   "outputs": [
    {
     "data": {
      "image/png": "[encoded data removed]",
      "text/plain": [
       "<Figure size 640x480 with 1 Axes>"
      ]
     },
     "metadata": {},
     "output_type": "display_data"
    }
   ],
   "source": [
    "import matplotlib.pyplot as plt\n",
    "\n",
    "for i in range(len(all_losses)):\n",
    "    plt.plot(all_losses[i][5:], label = str(lrs[i]))\n",
    "\n",
    "plt.xlabel('epoch')\n",
    "plt.ylabel('loss')\n",
    "plt.legend()\n",
    "plt.show()"
   ]
  },
  {
   "cell_type": "markdown",
   "id": "7415e901-8fc6-402c-83bb-37f52fe48fab",
   "metadata": {},
   "source": [
    "The learning rate of 0.005 seems to do the best job at reducing loss."
   ]
  },
  {
   "cell_type": "markdown",
   "id": "745a5b85-b204-411d-856b-6ed31b683034",
   "metadata": {},
   "source": [
    "### Creating a Validation Function"
   ]
  },
  {
   "cell_type": "code",
   "execution_count": 148,
   "id": "1111b8d2-d18c-4ff1-b367-10d099d47a26",
   "metadata": {
    "tags": []
   },
   "outputs": [],
   "source": [
    "from sklearn.metrics import mean_squared_error\n",
    "from pmdarima.metrics import smape\n",
    "\n",
    "def validate_model(model, X_test_tensor, y_test_tensor):\n",
    "    X_test_tensor = X_test_tensor.to(device, non_blocking=True)\n",
    "    y_test_tensor = y_test_tensor.to(device, non_blocking=True)\n",
    "    \n",
    "    with torch.no_grad():\n",
    "        model.eval()\n",
    "        y_pred = model.forward(X_test_tensor)\n",
    "        y_pred = y_pred.cpu().numpy()\n",
    "        y = y_test_tensor.cpu().numpy()\n",
    "        \n",
    "        MSE = mean_squared_error(y, y_pred)\n",
    "        SMAPE = smape(y, y_pred)\n",
    "        \n",
    "    return MSE, SMAPE "
   ]
  },
  {
   "cell_type": "code",
   "execution_count": 127,
   "id": "d3e0754c-aab7-4c44-a214-b85dd610feb8",
   "metadata": {
    "tags": []
   },
   "outputs": [
    {
     "name": "stdout",
     "output_type": "stream",
     "text": [
      "Loss change last 10 iterations: 0.9999995560572577\n",
      "Loss change last 10 iterations: 0.1456879686206337\n",
      "Loss change last 10 iterations: 0.04851892305152339\n",
      "Loss change last 10 iterations: 0.023115743530892185\n",
      "Loss change last 10 iterations: 0.01516187458165652\n",
      "Loss change last 10 iterations: 0.016499140506789356\n",
      "Loss change last 10 iterations: 0.02784837983735433\n",
      "Loss change last 10 iterations: 0.050998436790741786\n",
      "Loss change last 10 iterations: 0.05193358013744542\n",
      "Loss change last 10 iterations: 0.08158845953329408\n",
      "Loss change last 10 iterations: 0.04686486127261236\n",
      "Loss change last 10 iterations: 0.08873733832752606\n",
      "Loss change last 10 iterations: 0.054039475327099074\n",
      "Loss change last 10 iterations: 0.15958771699460472\n",
      "Loss change last 10 iterations: -0.10082942511971482\n",
      "Number of epochs and loss: 150 0.01577844551600818\n"
     ]
    }
   ],
   "source": [
    "test_model, losses = train_model(X_train_tensor, y_train_tensor, 50, lr = 0.005, num_epochs=500)"
   ]
  },
  {
   "cell_type": "code",
   "execution_count": 140,
   "id": "1e1e93c1-facc-4295-84f3-4b60fcac1903",
   "metadata": {
    "tags": []
   },
   "outputs": [
    {
     "name": "stdout",
     "output_type": "stream",
     "text": [
      "The mse and smape are 0.04708609 13.705479969950247\n"
     ]
    }
   ],
   "source": [
    "MSE, SMAPE = validate_model(test_model, X_test_tensor, y_test_tensor)\n",
    "\n",
    "print('The mse and smape are', MSE, SMAPE)"
   ]
  },
  {
   "cell_type": "markdown",
   "id": "610b96aa-e462-414c-a8b2-4fa656d6bc1d",
   "metadata": {},
   "source": [
    "### Try diffrent loss change and hidden size"
   ]
  },
  {
   "cell_type": "code",
   "execution_count": 180,
   "id": "f1bda354-b8e0-48e3-8ac0-7c55a41a7d4a",
   "metadata": {
    "tags": []
   },
   "outputs": [
    {
     "name": "stdout",
     "output_type": "stream",
     "text": [
      "~~~~~~~~~~~~~~~~~~~~~~~~~~~~~~~~~~~~~~~~\n",
      "The parameters are: 100 0.3\n",
      "\n",
      "Loss change last 5 iterations: 0.9999995107613598\n",
      "Loss change last 5 iterations: 0.09160342626424733\n",
      "Number of epochs and loss: 10 0.04335217287361219\n",
      "\n",
      "The mse and smape are: 0.04565254 12.967475747930836\n",
      "~~~~~~~~~~~~~~~~~~~~~~~~~~~~~~~~~~~~~~~~\n",
      "The parameters are: 200 0.3\n",
      "\n",
      "Loss change last 5 iterations: 0.9999995090077225\n",
      "Loss change last 5 iterations: 0.15074270982882176\n",
      "Number of epochs and loss: 10 0.039234601766676515\n",
      "\n",
      "The mse and smape are: 0.04581763 12.78660577140619\n",
      "~~~~~~~~~~~~~~~~~~~~~~~~~~~~~~~~~~~~~~~~\n",
      "The parameters are: 300 0.3\n",
      "\n",
      "Loss change last 5 iterations: 0.9999995518724315\n",
      "Loss change last 5 iterations: 0.08490369630722339\n",
      "Number of epochs and loss: 10 0.0400381960553696\n",
      "\n",
      "The mse and smape are: 0.045795232 13.448270895092653\n",
      "~~~~~~~~~~~~~~~~~~~~~~~~~~~~~~~~~~~~~~~~\n",
      "The parameters are: 400 0.3\n",
      "\n",
      "Loss change last 5 iterations: 0.9999995588021874\n",
      "Loss change last 5 iterations: 0.07572458605082444\n",
      "Number of epochs and loss: 10 0.039871479869140566\n",
      "\n",
      "The mse and smape are: 0.04615741 13.719730224608389\n",
      "~~~~~~~~~~~~~~~~~~~~~~~~~~~~~~~~~~~~~~~~\n",
      "The parameters are: 500 0.3\n",
      "\n",
      "Loss change last 5 iterations: 0.9999995576391739\n",
      "Loss change last 5 iterations: 0.09502009354168539\n",
      "Number of epochs and loss: 10 0.040300389739206514\n",
      "\n",
      "The mse and smape are: 0.046081744 13.67149829203549\n",
      "~~~~~~~~~~~~~~~~~~~~~~~~~~~~~~~~~~~~~~~~\n",
      "The parameters are: 600 0.3\n",
      "\n",
      "Loss change last 5 iterations: 0.9999994143063509\n",
      "Loss change last 5 iterations: 0.08229547648885882\n",
      "Number of epochs and loss: 10 0.04618467716500163\n",
      "\n",
      "The mse and smape are: 0.05567488 17.4236833054133\n",
      "~~~~~~~~~~~~~~~~~~~~~~~~~~~~~~~~~~~~~~~~\n",
      "The parameters are: 700 0.3\n",
      "\n",
      "Loss change last 5 iterations: 0.9999993725530567\n",
      "Loss change last 5 iterations: 0.2328396166608513\n",
      "Number of epochs and loss: 10 0.04393881360521993\n",
      "\n",
      "The mse and smape are: 0.05372738 16.660531294000506\n",
      "~~~~~~~~~~~~~~~~~~~~~~~~~~~~~~~~~~~~~~~~\n",
      "The parameters are: 100 0.2\n",
      "\n",
      "Loss change last 5 iterations: 0.9999994905271373\n",
      "Loss change last 5 iterations: 0.15003972307420477\n",
      "Number of epochs and loss: 10 0.04217247247091822\n",
      "\n",
      "The mse and smape are: 0.04558636 13.049680613561685\n",
      "~~~~~~~~~~~~~~~~~~~~~~~~~~~~~~~~~~~~~~~~\n",
      "The parameters are: 200 0.2\n",
      "\n",
      "Loss change last 5 iterations: 0.999999554880259\n",
      "Loss change last 5 iterations: 0.0685907764780288\n",
      "Number of epochs and loss: 10 0.04046714051651794\n",
      "\n",
      "The mse and smape are: 0.04613502 12.665735809131997\n",
      "~~~~~~~~~~~~~~~~~~~~~~~~~~~~~~~~~~~~~~~~\n",
      "The parameters are: 300 0.2\n",
      "\n",
      "Loss change last 5 iterations: 0.9999995518639694\n",
      "Loss change last 5 iterations: 0.08491896529099274\n",
      "Number of epochs and loss: 10 0.040041750397633864\n",
      "\n",
      "The mse and smape are: 0.04579632 13.449359672323041\n",
      "~~~~~~~~~~~~~~~~~~~~~~~~~~~~~~~~~~~~~~~~\n",
      "The parameters are: 400 0.2\n",
      "\n",
      "Loss change last 5 iterations: 0.999999558784662\n",
      "Loss change last 5 iterations: 0.0757360857033299\n",
      "Number of epochs and loss: 10 0.03987178881652653\n",
      "\n",
      "The mse and smape are: 0.04616992 13.727585925671812\n",
      "~~~~~~~~~~~~~~~~~~~~~~~~~~~~~~~~~~~~~~~~\n",
      "The parameters are: 500 0.2\n",
      "\n",
      "Loss change last 5 iterations: 0.9999995576388048\n",
      "Loss change last 5 iterations: 0.0950209997775815\n",
      "Number of epochs and loss: 10 0.04030038325770481\n",
      "\n",
      "The mse and smape are: 0.046081733 13.671491528123497\n",
      "~~~~~~~~~~~~~~~~~~~~~~~~~~~~~~~~~~~~~~~~\n",
      "The parameters are: 600 0.2\n",
      "\n",
      "Loss change last 5 iterations: 0.9999994143063509\n",
      "Loss change last 5 iterations: 0.08229547648885882\n",
      "Number of epochs and loss: 10 0.04618467716500163\n",
      "\n",
      "The mse and smape are: 0.05567488 17.4236833054133\n",
      "~~~~~~~~~~~~~~~~~~~~~~~~~~~~~~~~~~~~~~~~\n",
      "The parameters are: 700 0.2\n",
      "\n",
      "Loss change last 5 iterations: 0.9999993725530567\n",
      "Loss change last 5 iterations: 0.2328396166608513\n",
      "Loss change last 5 iterations: 0.12485015434012814\n",
      "Number of epochs and loss: 15 0.04166922474128974\n",
      "\n",
      "The mse and smape are: 0.04861362 14.8338795395225\n",
      "~~~~~~~~~~~~~~~~~~~~~~~~~~~~~~~~~~~~~~~~\n",
      "The parameters are: 100 0.1\n",
      "\n",
      "Loss change last 5 iterations: 0.9999994864230456\n",
      "Loss change last 5 iterations: 0.14945493853470093\n",
      "Loss change last 5 iterations: 0.06201273396157836\n",
      "Number of epochs and loss: 15 0.03961526776185712\n",
      "\n",
      "The mse and smape are: 0.04593904 13.571431415785636\n",
      "~~~~~~~~~~~~~~~~~~~~~~~~~~~~~~~~~~~~~~~~\n",
      "The parameters are: 200 0.1\n",
      "\n",
      "Loss change last 5 iterations: 0.9999995455765782\n",
      "Loss change last 5 iterations: 0.08430335852809834\n",
      "Number of epochs and loss: 10 0.04055824980290758\n",
      "\n",
      "The mse and smape are: 0.04612144 12.670111376544662\n",
      "~~~~~~~~~~~~~~~~~~~~~~~~~~~~~~~~~~~~~~~~\n",
      "The parameters are: 300 0.1\n",
      "\n",
      "Loss change last 5 iterations: 0.9999995518639694\n",
      "Loss change last 5 iterations: 0.08491896529099274\n",
      "Number of epochs and loss: 10 0.040041750397633864\n",
      "\n",
      "The mse and smape are: 0.04579632 13.449359672323041\n",
      "~~~~~~~~~~~~~~~~~~~~~~~~~~~~~~~~~~~~~~~~\n",
      "The parameters are: 400 0.1\n",
      "\n",
      "Loss change last 5 iterations: 0.999999558784662\n",
      "Loss change last 5 iterations: 0.0757360857033299\n",
      "Number of epochs and loss: 10 0.03987178881652653\n",
      "\n",
      "The mse and smape are: 0.04616992 13.727585925671812\n",
      "~~~~~~~~~~~~~~~~~~~~~~~~~~~~~~~~~~~~~~~~\n",
      "The parameters are: 500 0.1\n",
      "\n",
      "Loss change last 5 iterations: 0.9999995576388048\n",
      "Loss change last 5 iterations: 0.0950209997775815\n",
      "Number of epochs and loss: 10 0.04030038325770481\n",
      "\n",
      "The mse and smape are: 0.046081733 13.671491528123497\n",
      "~~~~~~~~~~~~~~~~~~~~~~~~~~~~~~~~~~~~~~~~\n",
      "The parameters are: 600 0.1\n",
      "\n",
      "Loss change last 5 iterations: 0.9999994143063509\n",
      "Loss change last 5 iterations: 0.08229547648885882\n",
      "Number of epochs and loss: 10 0.04618467716500163\n",
      "\n",
      "The mse and smape are: 0.05567488 17.4236833054133\n",
      "~~~~~~~~~~~~~~~~~~~~~~~~~~~~~~~~~~~~~~~~\n",
      "The parameters are: 700 0.1\n",
      "\n",
      "Loss change last 5 iterations: 0.9999993725530567\n",
      "Loss change last 5 iterations: 0.2328396166608513\n",
      "Loss change last 5 iterations: 0.12485015434012814\n",
      "Loss change last 5 iterations: 0.038994627238139956\n",
      "Number of epochs and loss: 20 0.03948769029985006\n",
      "\n",
      "The mse and smape are: 0.04967675 15.110660362224843\n",
      "~~~~~~~~~~~~~~~~~~~~~~~~~~~~~~~~~~~~~~~~\n",
      "The parameters are: 100 0.05\n",
      "\n",
      "Loss change last 5 iterations: 0.9999994796924105\n",
      "Loss change last 5 iterations: 0.17167593749650134\n",
      "Loss change last 5 iterations: 0.06250562063524989\n",
      "Loss change last 5 iterations: 0.04437698430982684\n",
      "Number of epochs and loss: 20 0.03890210606560514\n",
      "\n",
      "The mse and smape are: 0.045641888 13.193245156582213\n",
      "~~~~~~~~~~~~~~~~~~~~~~~~~~~~~~~~~~~~~~~~\n",
      "The parameters are: 200 0.05\n",
      "\n",
      "Loss change last 5 iterations: 0.999999553336673\n",
      "Loss change last 5 iterations: 0.06335519825748848\n",
      "Loss change last 5 iterations: 0.03460071036317436\n",
      "Number of epochs and loss: 15 0.03927603438244881\n",
      "\n",
      "The mse and smape are: 0.045648478 12.97475002336931\n",
      "~~~~~~~~~~~~~~~~~~~~~~~~~~~~~~~~~~~~~~~~\n",
      "The parameters are: 300 0.05\n",
      "\n",
      "Loss change last 5 iterations: 0.9999995518639694\n",
      "Loss change last 5 iterations: 0.08491896529099274\n",
      "Loss change last 5 iterations: 0.024385988092033295\n",
      "Number of epochs and loss: 15 0.039643248788559356\n",
      "\n",
      "The mse and smape are: 0.046386134 13.858108003557982\n",
      "~~~~~~~~~~~~~~~~~~~~~~~~~~~~~~~~~~~~~~~~\n",
      "The parameters are: 400 0.05\n",
      "\n",
      "Loss change last 5 iterations: 0.999999558784662\n",
      "Loss change last 5 iterations: 0.0757360857033299\n",
      "Loss change last 5 iterations: 0.01654905181484778\n",
      "Number of epochs and loss: 15 0.03963908348610071\n",
      "\n",
      "The mse and smape are: 0.0462973 13.805802271461687\n",
      "~~~~~~~~~~~~~~~~~~~~~~~~~~~~~~~~~~~~~~~~\n",
      "The parameters are: 500 0.05\n",
      "\n",
      "Loss change last 5 iterations: 0.9999995576388048\n",
      "Loss change last 5 iterations: 0.0950209997775815\n",
      "Loss change last 5 iterations: 0.0001796626642439625\n",
      "Number of epochs and loss: 15 0.03940312998570703\n",
      "\n",
      "The mse and smape are: 0.046774123 14.07482918426703\n",
      "~~~~~~~~~~~~~~~~~~~~~~~~~~~~~~~~~~~~~~~~\n",
      "The parameters are: 600 0.05\n",
      "\n",
      "Loss change last 5 iterations: 0.9999994143063509\n",
      "Loss change last 5 iterations: 0.08229547648885882\n",
      "Loss change last 5 iterations: 0.2347530941049759\n",
      "Loss change last 5 iterations: 0.02516718574898691\n",
      "Number of epochs and loss: 20 0.03944076887784979\n",
      "\n",
      "The mse and smape are: 0.04597739 13.597840883531088\n",
      "~~~~~~~~~~~~~~~~~~~~~~~~~~~~~~~~~~~~~~~~\n",
      "The parameters are: 700 0.05\n",
      "\n",
      "Loss change last 5 iterations: 0.9999993725530567\n",
      "Loss change last 5 iterations: 0.2328396166608513\n",
      "Loss change last 5 iterations: 0.12485015434012814\n",
      "Loss change last 5 iterations: 0.038994627238139956\n",
      "Number of epochs and loss: 20 0.03948769029985006\n",
      "\n",
      "The mse and smape are: 0.04967675 15.110660362224843\n",
      "~~~~~~~~~~~~~~~~~~~~~~~~~~~~~~~~~~~~~~~~\n",
      "The parameters are: 100 0.01\n",
      "\n",
      "Loss change last 5 iterations: 0.9999994802987687\n",
      "Loss change last 5 iterations: 0.17149359716329138\n",
      "Loss change last 5 iterations: 0.06321202125343617\n",
      "Loss change last 5 iterations: 0.04120250275192461\n",
      "Loss change last 5 iterations: 0.014240195832441294\n",
      "Loss change last 5 iterations: 0.01679108795325035\n",
      "Loss change last 5 iterations: 0.019928190814472613\n",
      "Loss change last 5 iterations: 0.00047958434372730174\n",
      "Number of epochs and loss: 40 0.03724487189430039\n",
      "\n",
      "The mse and smape are: 0.04580785 13.461583863087052\n",
      "~~~~~~~~~~~~~~~~~~~~~~~~~~~~~~~~~~~~~~~~\n",
      "The parameters are: 200 0.01\n",
      "\n",
      "Loss change last 5 iterations: 0.9999995455765772\n",
      "Loss change last 5 iterations: 0.08430334124624439\n",
      "Loss change last 5 iterations: 0.02864463088229341\n",
      "Loss change last 5 iterations: 0.022937509102984643\n",
      "Loss change last 5 iterations: 0.011706947844576376\n",
      "Loss change last 5 iterations: 0.016045784134746555\n",
      "Loss change last 5 iterations: 0.007976376567131682\n",
      "Number of epochs and loss: 35 0.037859842458085435\n",
      "\n",
      "The mse and smape are: 0.0457614 13.41262877013942\n",
      "~~~~~~~~~~~~~~~~~~~~~~~~~~~~~~~~~~~~~~~~\n",
      "The parameters are: 300 0.01\n",
      "\n",
      "Loss change last 5 iterations: 0.9999995518724315\n",
      "Loss change last 5 iterations: 0.08490369630722339\n",
      "Loss change last 5 iterations: 0.024370154790586573\n",
      "Loss change last 5 iterations: -0.005202188750700554\n",
      "Number of epochs and loss: 20 0.03998553961817477\n",
      "\n",
      "The mse and smape are: 0.046080083 13.670405937084974\n",
      "~~~~~~~~~~~~~~~~~~~~~~~~~~~~~~~~~~~~~~~~\n",
      "The parameters are: 400 0.01\n",
      "\n",
      "Loss change last 5 iterations: 0.9999995588021874\n",
      "Loss change last 5 iterations: 0.07572458605082444\n",
      "Loss change last 5 iterations: 0.016636951016651857\n",
      "Loss change last 5 iterations: 0.018082382578297862\n",
      "Loss change last 5 iterations: 0.012578131059306386\n",
      "Loss change last 5 iterations: 0.002720937221746045\n",
      "Number of epochs and loss: 30 0.03890084007729751\n",
      "\n",
      "The mse and smape are: 0.045616496 13.09926629065278\n",
      "~~~~~~~~~~~~~~~~~~~~~~~~~~~~~~~~~~~~~~~~\n",
      "The parameters are: 500 0.01\n",
      "\n",
      "Loss change last 5 iterations: 0.999999557639154\n",
      "Loss change last 5 iterations: 0.09502013790867336\n",
      "Loss change last 5 iterations: 0.000179799326785135\n",
      "Number of epochs and loss: 15 0.03940313389977893\n",
      "\n",
      "The mse and smape are: 0.046774123 14.07482918426703\n",
      "~~~~~~~~~~~~~~~~~~~~~~~~~~~~~~~~~~~~~~~~\n",
      "The parameters are: 600 0.01\n",
      "\n",
      "Loss change last 5 iterations: 0.9999994143063509\n",
      "Loss change last 5 iterations: 0.08229547648885882\n",
      "Loss change last 5 iterations: 0.2347530941049759\n",
      "Loss change last 5 iterations: 0.02516718574898691\n",
      "Loss change last 5 iterations: 0.0016988734995966315\n",
      "Number of epochs and loss: 25 0.03932663382383416\n",
      "\n",
      "The mse and smape are: 0.045715597 12.892795476957707\n",
      "~~~~~~~~~~~~~~~~~~~~~~~~~~~~~~~~~~~~~~~~\n",
      "The parameters are: 700 0.01\n",
      "\n",
      "Loss change last 5 iterations: 0.9999993725530567\n",
      "Loss change last 5 iterations: 0.2328396166608513\n",
      "Loss change last 5 iterations: 0.12485015434012814\n",
      "Loss change last 5 iterations: 0.038994627238139956\n",
      "Loss change last 5 iterations: 0.0015920714771843203\n",
      "Number of epochs and loss: 25 0.0399474320253609\n",
      "\n",
      "The mse and smape are: 0.0461607 13.499551005146312\n"
     ]
    }
   ],
   "source": [
    "MSES = {}\n",
    "SMAPES = {}\n",
    "\n",
    "loss_changes = [0.3, 0.2, 0.1, 0.05, 0.01]\n",
    "hidden_sizes = [100, 200, 300, 400, 500, 600, 700]\n",
    "\n",
    "device = torch.device(\"mps\")\n",
    "\n",
    "for loss_change in loss_changes:\n",
    "    for hidden_size in hidden_sizes:\n",
    "        if 'model' in globals():\n",
    "            del model\n",
    "        \n",
    "        params = str(hidden_size) + ' ' + str(loss_change)\n",
    "        print('~' * 40)\n",
    "        print('The parameters are:', params)\n",
    "        print('')\n",
    "        \n",
    "        model, losses = train_model(X_train_tensor, y_train_tensor, hidden_size = hidden_size, loss_change = loss_change, lr = 0.005, num_epochs=500)\n",
    "        \n",
    "        MSE, SMAPE = validate_model(model, X_test_tensor, y_test_tensor)\n",
    "        \n",
    "        MSES[params] = MSE\n",
    "        SMAPES[params] = SMAPE\n",
    "        \n",
    "        print('')\n",
    "        print('The mse and smape are:', MSE, SMAPE)"
   ]
  },
  {
   "cell_type": "code",
   "execution_count": 181,
   "id": "1ffeedd3-054d-42ce-9951-14bf67bdb4b7",
   "metadata": {},
   "outputs": [
    {
     "data": {
      "text/plain": [
       "{'200 0.2': 12.665735809131997,\n",
       " '200 0.1': 12.670111376544662,\n",
       " '200 0.3': 12.78660577140619,\n",
       " '600 0.01': 12.892795476957707,\n",
       " '100 0.3': 12.967475747930836,\n",
       " '200 0.05': 12.97475002336931,\n",
       " '100 0.2': 13.049680613561685,\n",
       " '400 0.01': 13.09926629065278,\n",
       " '100 0.05': 13.193245156582213,\n",
       " '200 0.01': 13.41262877013942,\n",
       " '300 0.3': 13.448270895092653,\n",
       " '300 0.2': 13.449359672323041,\n",
       " '300 0.1': 13.449359672323041,\n",
       " '100 0.01': 13.461583863087052,\n",
       " '700 0.01': 13.499551005146312,\n",
       " '100 0.1': 13.571431415785636,\n",
       " '600 0.05': 13.597840883531088,\n",
       " '300 0.01': 13.670405937084974,\n",
       " '500 0.2': 13.671491528123497,\n",
       " '500 0.1': 13.671491528123497,\n",
       " '500 0.3': 13.67149829203549,\n",
       " '400 0.3': 13.719730224608389,\n",
       " '400 0.2': 13.727585925671812,\n",
       " '400 0.1': 13.727585925671812,\n",
       " '400 0.05': 13.805802271461687,\n",
       " '300 0.05': 13.858108003557982,\n",
       " '500 0.05': 14.07482918426703,\n",
       " '500 0.01': 14.07482918426703,\n",
       " '700 0.2': 14.8338795395225,\n",
       " '700 0.1': 15.110660362224843,\n",
       " '700 0.05': 15.110660362224843,\n",
       " '700 0.3': 16.660531294000506,\n",
       " '600 0.3': 17.4236833054133,\n",
       " '600 0.2': 17.4236833054133,\n",
       " '600 0.1': 17.4236833054133}"
      ]
     },
     "execution_count": 181,
     "metadata": {},
     "output_type": "execute_result"
    }
   ],
   "source": [
    "SMAPES\n",
    "{k: v for k, v in sorted(SMAPES.items(), key=lambda item: item[1])}\n"
   ]
  },
  {
   "cell_type": "code",
   "execution_count": null,
   "id": "25e04fda-bb34-4c31-b347-56e0b72b11d8",
   "metadata": {},
   "outputs": [],
   "source": [
    "# Hidden size of 200 and loss change of 0.2 seems to be best "
   ]
  },
  {
   "cell_type": "code",
   "execution_count": 183,
   "id": "38b211a6-b3a2-4071-a895-d208013ab16b",
   "metadata": {
    "tags": []
   },
   "outputs": [
    {
     "name": "stdout",
     "output_type": "stream",
     "text": [
      "~~~~~~~~~~~~~~~~~~~~~~~~~~~~~~~~~~~~~~~~\n",
      "The parameters are: 0.7\n",
      "\n",
      "Loss change last 5 iterations: 0.9999994048288923\n",
      "Loss change last 5 iterations: 0.2530085556789877\n",
      "Loss change last 5 iterations: 0.09596864687570228\n",
      "Number of epochs and loss: 15 0.03895922806239813\n",
      "\n",
      "The mse and smape are: 0.046199284 13.745966104680116\n",
      "~~~~~~~~~~~~~~~~~~~~~~~~~~~~~~~~~~~~~~~~\n",
      "The parameters are: 0.6\n",
      "\n",
      "Loss change last 5 iterations: 0.9999994542221237\n",
      "Loss change last 5 iterations: 0.19335852387516084\n",
      "Number of epochs and loss: 10 0.042689028170865936\n",
      "\n",
      "The mse and smape are: 0.045759957 13.411027685260628\n",
      "~~~~~~~~~~~~~~~~~~~~~~~~~~~~~~~~~~~~~~~~\n",
      "The parameters are: 0.5\n",
      "\n",
      "Loss change last 5 iterations: 0.9999994894826553\n",
      "Loss change last 5 iterations: 0.15169392090474243\n",
      "Number of epochs and loss: 10 0.04169916489941848\n",
      "\n",
      "The mse and smape are: 0.045653354 13.255101884318373\n",
      "~~~~~~~~~~~~~~~~~~~~~~~~~~~~~~~~~~~~~~~~\n",
      "The parameters are: 0.4\n",
      "\n",
      "Loss change last 5 iterations: 0.9999995183221295\n",
      "Loss change last 5 iterations: 0.11190683632295373\n",
      "Number of epochs and loss: 10 0.041376050731569934\n",
      "\n",
      "The mse and smape are: 0.045629635 13.018555819302184\n",
      "~~~~~~~~~~~~~~~~~~~~~~~~~~~~~~~~~~~~~~~~\n",
      "The parameters are: 0.3\n",
      "\n",
      "Loss change last 5 iterations: 0.9999995454613622\n",
      "Loss change last 5 iterations: 0.06795297362598962\n",
      "Number of epochs and loss: 10 0.041092595400137676\n",
      "\n",
      "The mse and smape are: 0.045890413 12.762235264455533\n",
      "~~~~~~~~~~~~~~~~~~~~~~~~~~~~~~~~~~~~~~~~\n",
      "The parameters are: 0.2\n",
      "\n",
      "Loss change last 5 iterations: 0.9999995727243338\n",
      "Loss change last 5 iterations: 0.033258118098068\n",
      "Number of epochs and loss: 10 0.040585295813208494\n",
      "\n",
      "The mse and smape are: 0.045871597 12.771632910228023\n",
      "~~~~~~~~~~~~~~~~~~~~~~~~~~~~~~~~~~~~~~~~\n",
      "The parameters are: 0.1\n",
      "\n",
      "Loss change last 5 iterations: 0.9999995942931369\n",
      "Loss change last 5 iterations: 0.008418234606448749\n",
      "Number of epochs and loss: 10 0.04009366295665402\n",
      "\n",
      "The mse and smape are: 0.04795547 14.644140518965047\n",
      "~~~~~~~~~~~~~~~~~~~~~~~~~~~~~~~~~~~~~~~~\n",
      "The parameters are: 0\n",
      "\n",
      "Loss change last 5 iterations: 0.9999996173976298\n",
      "Loss change last 5 iterations: -0.011382292734295696\n",
      "Number of epochs and loss: 10 0.03871913392071587\n",
      "\n",
      "The mse and smape are: 0.05234468 16.323365092436525\n"
     ]
    }
   ],
   "source": [
    "MSES = {}\n",
    "SMAPES = {}\n",
    "\n",
    "prs = [0.7, 0.6, 0.5, 0.4, 0.3, 0.2, 0.1, 0]\n",
    "\n",
    "device = torch.device(\"mps\")\n",
    "\n",
    "\n",
    "for pr in prs:\n",
    "    if 'model' in globals():\n",
    "        del model\n",
    "        \n",
    "    params = str(pr)\n",
    "    print('~' * 40)\n",
    "    print('The parameters are:', params)\n",
    "    print('')\n",
    "        \n",
    "    model, losses = train_model(X_train_tensor, y_train_tensor, hidden_size = 200, loss_change = 0.2, lr = 0.005, num_epochs=500, dropout_pr = pr)\n",
    "        \n",
    "    MSE, SMAPE = validate_model(model, X_test_tensor, y_test_tensor)\n",
    "        \n",
    "    MSES[params] = MSE\n",
    "    SMAPES[params] = SMAPE\n",
    "        \n",
    "    print('')\n",
    "    print('The mse and smape are:', MSE, SMAPE)"
   ]
  },
  {
   "cell_type": "code",
   "execution_count": null,
   "id": "7ff1ddd4-f5d2-403d-877c-470ea457f336",
   "metadata": {},
   "outputs": [],
   "source": [
    "## pr = 0.2 seems to be best \n",
    "\n",
    "\n",
    "## Final paramater choices are lr = 0.005, h = 200, loss change = 0.2 and pr = 0.2"
   ]
  }
 ],
 "metadata": {
  "kernelspec": {
   "display_name": "Python 3 (ipykernel)",
   "language": "python",
   "name": "python3"
  },
  "language_info": {
   "codemirror_mode": {
    "name": "ipython",
    "version": 3
   },
   "file_extension": ".py",
   "mimetype": "text/x-python",
   "name": "python",
   "nbconvert_exporter": "python",
   "pygments_lexer": "ipython3",
   "version": "3.11.5"
  }
 },
 "nbformat": 4,
 "nbformat_minor": 5
}
